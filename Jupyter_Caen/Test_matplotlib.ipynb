{
  "cells": [
    {
      "cell_type": "code",
      "metadata": {},
      "source": [
        "# -*- coding: utf-8 -*-\n",
        "import matplotlib.pyplot as plt\n",
        "import numpy as np\n",
        "x=np.linspace(0,2,100)\n",
        "for i in range(1,4) :\n",
        "    etiqu='Puissance '+ str(i)\n",
        "    plt.plot(x,x**(i),label=etiqu)\n",
        "plt.xlabel('Axe des abscisses')\n",
        "plt.ylabel('Axe des ordonn\u00e9es')\n",
        "plt.title('Comparaison de courbes')\n",
        "plt.legend()\n",
        "plt.show()"
      ],
      "outputs": [],
      "execution_count": null
    }
  ],
  "metadata": {
    "anaconda-cloud": {},
    "kernelspec": {
      "display_name": "Python 3",
      "language": "python",
      "name": "python3"
    },
    "language_info": {
      "codemirror_mode": {
        "name": "ipython",
        "version": 3
      },
      "file_extension": ".py",
      "mimetype": "text/x-python",
      "name": "python",
      "nbconvert_exporter": "python",
      "pygments_lexer": "ipython3",
      "version": "3.6.1"
    }
  },
  "nbformat": 4,
  "nbformat_minor": 1
}