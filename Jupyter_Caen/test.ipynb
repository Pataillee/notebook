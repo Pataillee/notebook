# -*- coding: utf-8 -*-
print ("Hello World !")
a=12