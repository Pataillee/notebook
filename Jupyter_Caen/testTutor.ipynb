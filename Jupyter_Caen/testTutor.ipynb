{
 "cells": [
  {
   "cell_type": "code",
   "execution_count": 3,
   "metadata": {},
   "outputs": [
    {
     "name": "stdout",
     "output_type": "stream",
     "text": [
      "Collecting metakernel\n",
      "\u001b[?25l  Downloading https://files.pythonhosted.org/packages/bb/bd/658103e652c2c12a791c83539496541e8f8d755c1cc3293861983f0a6742/metakernel-0.24.2-py2.py3-none-any.whl (208kB)\n",
      "\u001b[K    100% |████████████████████████████████| 215kB 1.6MB/s ta 0:00:01\n",
      "\u001b[?25hRequirement already satisfied: ipykernel in /anaconda3/lib/python3.7/site-packages (from metakernel) (5.1.0)\n",
      "Requirement already satisfied: pexpect>=4.2 in /anaconda3/lib/python3.7/site-packages (from metakernel) (4.6.0)\n",
      "Collecting ipyparallel (from metakernel)\n",
      "\u001b[?25l  Downloading https://files.pythonhosted.org/packages/3f/82/aaa7a357845a98d4028f27c799f0d3bb2fe55fc1247c73dc712b4ae2344c/ipyparallel-6.2.4-py2.py3-none-any.whl (198kB)\n",
      "\u001b[K    100% |████████████████████████████████| 204kB 1.3MB/s ta 0:00:01\n",
      "\u001b[?25hRequirement already satisfied: jupyter-client in /anaconda3/lib/python3.7/site-packages (from ipykernel->metakernel) (5.2.4)\n",
      "Requirement already satisfied: traitlets>=4.1.0 in /anaconda3/lib/python3.7/site-packages (from ipykernel->metakernel) (4.3.2)\n",
      "Requirement already satisfied: tornado>=4.2 in /anaconda3/lib/python3.7/site-packages (from ipykernel->metakernel) (6.0.2)\n",
      "Requirement already satisfied: ipython>=5.0.0 in /anaconda3/lib/python3.7/site-packages (from ipykernel->metakernel) (7.4.0)\n",
      "Requirement already satisfied: ptyprocess>=0.5 in /anaconda3/lib/python3.7/site-packages (from pexpect>=4.2->metakernel) (0.6.0)\n",
      "Requirement already satisfied: python-dateutil>=2.1 in /anaconda3/lib/python3.7/site-packages (from ipyparallel->metakernel) (2.8.0)\n",
      "Requirement already satisfied: pyzmq>=13 in /anaconda3/lib/python3.7/site-packages (from ipyparallel->metakernel) (18.0.0)\n",
      "Requirement already satisfied: decorator in /anaconda3/lib/python3.7/site-packages (from ipyparallel->metakernel) (4.4.0)\n",
      "Requirement already satisfied: ipython-genutils in /anaconda3/lib/python3.7/site-packages (from ipyparallel->metakernel) (0.2.0)\n",
      "Requirement already satisfied: jupyter-core in /anaconda3/lib/python3.7/site-packages (from jupyter-client->ipykernel->metakernel) (4.4.0)\n",
      "Requirement already satisfied: six in /anaconda3/lib/python3.7/site-packages (from traitlets>=4.1.0->ipykernel->metakernel) (1.12.0)\n",
      "Requirement already satisfied: prompt-toolkit<2.1.0,>=2.0.0 in /anaconda3/lib/python3.7/site-packages (from ipython>=5.0.0->ipykernel->metakernel) (2.0.9)\n",
      "Requirement already satisfied: pickleshare in /anaconda3/lib/python3.7/site-packages (from ipython>=5.0.0->ipykernel->metakernel) (0.7.5)\n",
      "Requirement already satisfied: appnope; sys_platform == \"darwin\" in /anaconda3/lib/python3.7/site-packages (from ipython>=5.0.0->ipykernel->metakernel) (0.1.0)\n",
      "Requirement already satisfied: pygments in /anaconda3/lib/python3.7/site-packages (from ipython>=5.0.0->ipykernel->metakernel) (2.3.1)\n",
      "Requirement already satisfied: jedi>=0.10 in /anaconda3/lib/python3.7/site-packages (from ipython>=5.0.0->ipykernel->metakernel) (0.13.3)\n",
      "Requirement already satisfied: setuptools>=18.5 in /anaconda3/lib/python3.7/site-packages (from ipython>=5.0.0->ipykernel->metakernel) (40.8.0)\n",
      "Requirement already satisfied: backcall in /anaconda3/lib/python3.7/site-packages (from ipython>=5.0.0->ipykernel->metakernel) (0.1.0)\n",
      "Requirement already satisfied: wcwidth in /anaconda3/lib/python3.7/site-packages (from prompt-toolkit<2.1.0,>=2.0.0->ipython>=5.0.0->ipykernel->metakernel) (0.1.7)\n",
      "Requirement already satisfied: parso>=0.3.0 in /anaconda3/lib/python3.7/site-packages (from jedi>=0.10->ipython>=5.0.0->ipykernel->metakernel) (0.3.4)\n",
      "Installing collected packages: ipyparallel, metakernel\n",
      "Successfully installed ipyparallel-6.2.4 metakernel-0.24.2\n",
      "Note: you may need to restart the kernel to use updated packages.\n"
     ]
    }
   ],
   "source": [
    "pip install metakernel"
   ]
  },
  {
   "cell_type": "code",
   "execution_count": 4,
   "metadata": {},
   "outputs": [],
   "source": [
    "from metakernel import register_ipython_magics\n",
    "register_ipython_magics()"
   ]
  },
  {
   "cell_type": "code",
   "execution_count": 5,
   "metadata": {},
   "outputs": [
    {
     "data": {
      "text/html": [
       "\n",
       "        <iframe\n",
       "            width=\"100%\"\n",
       "            height=\"500\"\n",
       "            src=\"https://pythontutor.com/iframe-embed.html#code=def%20tri_ins%28t%29%3A%0A%20%20%20%20%23version%20it%C3%A9rative%0A%20%20%20%20for%20k%20in%20range%281%2Clen%28t%29%29%3A%0A%20%20%20%20%20%20%20%20temp%3Dt%5Bk%5D%0A%20%20%20%20%20%20%20%20j%3Dk%0A%20%20%20%20%20%20%20%20while%20j%3E0%20and%20temp%3Ct%5Bj-1%5D%3A%0A%20%20%20%20%20%20%20%20%20%20%20%20t%5Bj%5D%3Dt%5Bj-1%5D%0A%20%20%20%20%20%20%20%20%20%20%20%20j-%3D1%0A%20%20%20%20%20%20%20%20t%5Bj%5D%3Dtemp%0A%20%20%20%20return%20t%0Atab%3D%20%5B3%2C5%2C7%2C2%2C4%2C1%5D%0Atri_ins%28tab%29%0A&origin=opt-frontend.js&cumulative=false&heapPrimitives=false&textReferences=false&py=3&rawInputLstJSON=%5B%5D&curInstr=0&codeDivWidth=350&codeDivHeight=400\"\n",
       "            frameborder=\"0\"\n",
       "            allowfullscreen\n",
       "        ></iframe>\n",
       "        "
      ],
      "text/plain": [
       "<IPython.lib.display.IFrame at 0x10db466d8>"
      ]
     },
     "metadata": {},
     "output_type": "display_data"
    }
   ],
   "source": [
    "%%tutor\n",
    "def tri_ins(t):\n",
    "    #version itérative\n",
    "    for k in range(1,len(t)):\n",
    "        temp=t[k]\n",
    "        j=k\n",
    "        while j>0 and temp<t[j-1]:\n",
    "            t[j]=t[j-1]\n",
    "            j-=1\n",
    "        t[j]=temp\n",
    "    return t\n",
    "tab= [3,5,7,2,4,1]\n",
    "tri_ins(tab)"
   ]
  },
  {
   "cell_type": "code",
   "execution_count": null,
   "metadata": {},
   "outputs": [],
   "source": []
  }
 ],
 "metadata": {
  "kernelspec": {
   "display_name": "Python 3",
   "language": "python",
   "name": "python3"
  },
  "language_info": {
   "codemirror_mode": {
    "name": "ipython",
    "version": 3
   },
   "file_extension": ".py",
   "mimetype": "text/x-python",
   "name": "python",
   "nbconvert_exporter": "python",
   "pygments_lexer": "ipython3",
   "version": "3.7.3"
  }
 },
 "nbformat": 4,
 "nbformat_minor": 2
}
