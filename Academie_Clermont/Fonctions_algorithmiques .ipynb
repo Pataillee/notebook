{
 "cells": [
  {
   "cell_type": "markdown",
   "metadata": {
    "collapsed": false
   },
   "source": [
    "# Premières fonctions"
   ]
  },
  {
   "cell_type": "markdown",
   "metadata": {
    "collapsed": false
   },
   "source": [
    "L’utilisation d’opérateurs mathématiques spécifique nécessitent l’utilisation d’une bibliothèque : math. Comme pour la bibliothèque Turtle, la commande \n",
    "```python\n",
    "from math import *\n",
    "```\n",
    "permet d'importer l'intégralité de la bibliothèque. \n",
    "Une autre manière de faire est d'utiliser la commande \n",
    "```python\n",
    "import math\n",
    "```\n",
    "La différence sera alors dans la manière d'appeler les méthodes propres à la bibliothèque.\n",
    "Voici le code à utiliser pour afficher $\\sqrt{4}$ dans le premier cas."
   ]
  },
  {
   "cell_type": "code",
   "execution_count": 0,
   "metadata": {
    "collapsed": false
   },
   "outputs": [
   ],
   "source": [
    "from math import *\n",
    "sqrt(4)"
   ]
  },
  {
   "cell_type": "markdown",
   "metadata": {
    "collapsed": false
   },
   "source": [
    "Dans le deuxième cas, il faudra préciser la bibliothèque utilisée à chaque fois."
   ]
  },
  {
   "cell_type": "code",
   "execution_count": 0,
   "metadata": {
    "collapsed": false
   },
   "outputs": [
   ],
   "source": [
    "import math\n",
    "math.sqrt(4)"
   ]
  },
  {
   "cell_type": "markdown",
   "metadata": {
    "collapsed": false
   },
   "source": [
    "L'avantage de la première méthode est d'être plus légère dans le code. Mais en cas d'utilisation de plusieurs bibliothèques il peut y avoir conflit entre deux méthodes de mêmes noms dans chacune des bibliothèques. La deuixème méthode est alors la seule efficace."
   ]
  },
  {
   "cell_type": "markdown",
   "metadata": {
    "collapsed": false
   },
   "source": [
    "## Exercice 1"
   ]
  },
  {
   "cell_type": "markdown",
   "metadata": {
    "collapsed": false
   },
   "source": [
    "Pour implémenter le fonction $f$ définie sur $\\mathbb{R}$ par $f(x)=\\left\\{\\begin{array}{l}3\\sqrt{x}+2\\text{ si }x>4\\\\-x+1\\text{ sinon}\\end{array}\\right.$ on utilise le code suivant :\n",
    "\n",
    "\n"
   ]
  },
  {
   "cell_type": "code",
   "execution_count": 0,
   "metadata": {
    "collapsed": false
   },
   "outputs": [
   ],
   "source": [
    "from math import*\n",
    "def f(x):\n",
    "    if x>4:\n",
    "        return 3*sqrt(x)+2\n",
    "    else:\n",
    "        return -x+1"
   ]
  },
  {
   "cell_type": "markdown",
   "metadata": {
    "collapsed": false
   },
   "source": [
    "Pour déterminer les images par $f$ il suffit d’appeler dans la console la fonction $f$ en passant en paramètre la valeur de $x$ choisie.\n",
    "Utiliser la ligne de code ci-dessous pour afficher les images de 9 et 0 par exemple."
   ]
  },
  {
   "cell_type": "code",
   "execution_count": 0,
   "metadata": {
    "collapsed": false
   },
   "outputs": [
   ],
   "source": [
   ]
  },
  {
   "cell_type": "code",
   "execution_count": 0,
   "metadata": {
    "collapsed": false
   },
   "outputs": [
   ],
   "source": [
   ]
  }
 ],
 "metadata": {
  "kernelspec": {
   "display_name": "Python 3 (Ubuntu Linux)",
   "language": "python",
   "metadata": {
    "cocalc": {
     "description": "Python 3 programming language",
     "priority": 100,
     "url": "https://www.python.org/"
    }
   },
   "name": "python3"
  },
  "language_info": {
   "codemirror_mode": {
    "name": "ipython",
    "version": 3
   },
   "file_extension": ".py",
   "mimetype": "text/x-python",
   "name": "python",
   "nbconvert_exporter": "python",
   "pygments_lexer": "ipython3",
   "version": "3.6.7"
  }
 },
 "nbformat": 4,
 "nbformat_minor": 0
}