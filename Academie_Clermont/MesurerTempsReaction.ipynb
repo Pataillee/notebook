{
 "cells": [
  {
   "cell_type": "markdown",
   "metadata": {},
   "source": [
    "# Mesurer un temps de réaction "
   ]
  },
  {
   "cell_type": "markdown",
   "metadata": {},
   "source": [
    "## Niveau "
   ]
  },
  {
   "cell_type": "markdown",
   "metadata": {},
   "source": [
    "Première STI2D - STL. Spécialité physique-chimie et mathématiques."
   ]
  },
  {
   "cell_type": "markdown",
   "metadata": {},
   "source": [
    "## Modalités possible de mise en oeuvre"
   ]
  },
  {
   "cell_type": "markdown",
   "metadata": {},
   "source": [
    "Cette activité peut-être mise en œuvre dans le cadre du cours de mathématiques de la spécialité physique-chimie et mathématiques de première STI2D ou STL et encadrée par le professeur de mathématiques. Elle peut être prolongée en physique ou en chimie dans le cadre de travaux pratiques expérimentaux sollicitant particulièrement les capacités exigibles de la partie « mesure et incertitudes » du programme.\n",
    "Avant l’exploitation statistique des données, réalisée en classe, on demande aux élèves de recueillir, hors la classe, 300 temps de réaction en exploitant un programme écrit en langage Python."
   ]
  },
  {
   "cell_type": "markdown",
   "metadata": {},
   "source": [
    "## Hors la classe : recueil de 300 temps de réaction"
   ]
  },
  {
   "cell_type": "markdown",
   "metadata": {},
   "source": [
    "En exécutant le programme « TempsReaction.py », l’ouverture d’une fenêtre permet de mesurer vos temps de réaction qui seront enregistrés dans un fichier csv (dans le dossier où figure le programme Python).\n",
    "Il faut cliquer sur le bouton « Démarrer ! » (une seule fois pour démarrer l’enregistrement). Puis un clic dans la fenêtre (zone rose) fait disparaître l’étoile pour une durée aléatoire. Il faut cliquer dès que l’étoile réapparaît.\n",
    "Effectuez quelques essais pour prendre en main l’application puis démarrer l’enregistrement de 300 parties de ce petit jeu. Faire une pause après chaque paquet de 100 sans cliquer sur « Quitter » et effectuer un peu plus de 100 parties afin d’éliminer les éventuelles parties avec pénalité (le clic a eu lieu avant l’apparition de l’étoile).\n",
    "Vos temps de réaction, mesurés en ms par l’ordinateur, sont enregistrés dans le fichier « MesTempsReaction.csv », qui peut s’ouvrir avec un tableur."
   ]
  },
  {
   "cell_type": "markdown",
   "metadata": {},
   "source": [
    "## Partie A : analyse statistique des 300 temps de réaction"
   ]
  },
  {
   "cell_type": "markdown",
   "metadata": {},
   "source": [
    "On modélise la situation en considérant la variable aléatoire *T* correspondant à votre temps de réaction en ms calculé par l’ordinateur en réponse à l’apparition de l’étoile (on suppose que ce temps de réaction est indépendant de la durée durant laquelle l’étoile a disparu). On souhaite estimer, à l’aide de mesures, votre temps de réaction moyen, c’est-à-dire l’espérance µ de la variable aléatoire *T*."
   ]
  },
  {
   "cell_type": "markdown",
   "metadata": {},
   "source": [
    "**1.** Implémenter en langage Python le programme suivant permettant la lecture et le stockage des mesures dans la variable M (le fichier « MesTempsReaction.csv » doit se trouver dans le même dossier que le fichier Python)."
   ]
  },
  {
   "cell_type": "code",
   "execution_count": 1,
   "metadata": {},
   "outputs": [],
   "source": [
    "import pandas\n",
    "import random\n",
    "import numpy as np\n",
    "import matplotlib.pyplot as plt"
   ]
  },
  {
   "cell_type": "code",
   "execution_count": 2,
   "metadata": {},
   "outputs": [],
   "source": [
    "M = pandas.read_csv('MesTempsReaction.csv', sep = ';')"
   ]
  },
  {
   "cell_type": "markdown",
   "metadata": {},
   "source": [
    "**2.** Exécuter l’instruction M.head() et commenter l’affichage."
   ]
  },
  {
   "cell_type": "code",
   "execution_count": 3,
   "metadata": {},
   "outputs": [
    {
     "data": {
      "text/html": [
       "<div>\n",
       "<style scoped>\n",
       "    .dataframe tbody tr th:only-of-type {\n",
       "        vertical-align: middle;\n",
       "    }\n",
       "\n",
       "    .dataframe tbody tr th {\n",
       "        vertical-align: top;\n",
       "    }\n",
       "\n",
       "    .dataframe thead th {\n",
       "        text-align: right;\n",
       "    }\n",
       "</style>\n",
       "<table border=\"1\" class=\"dataframe\">\n",
       "  <thead>\n",
       "    <tr style=\"text-align: right;\">\n",
       "      <th></th>\n",
       "      <th>partie numero</th>\n",
       "      <th>temps</th>\n",
       "      <th>penalite</th>\n",
       "    </tr>\n",
       "  </thead>\n",
       "  <tbody>\n",
       "    <tr>\n",
       "      <th>0</th>\n",
       "      <td>1</td>\n",
       "      <td>265</td>\n",
       "      <td>0</td>\n",
       "    </tr>\n",
       "    <tr>\n",
       "      <th>1</th>\n",
       "      <td>2</td>\n",
       "      <td>328</td>\n",
       "      <td>0</td>\n",
       "    </tr>\n",
       "    <tr>\n",
       "      <th>2</th>\n",
       "      <td>3</td>\n",
       "      <td>249</td>\n",
       "      <td>0</td>\n",
       "    </tr>\n",
       "    <tr>\n",
       "      <th>3</th>\n",
       "      <td>4</td>\n",
       "      <td>921</td>\n",
       "      <td>0</td>\n",
       "    </tr>\n",
       "    <tr>\n",
       "      <th>4</th>\n",
       "      <td>5</td>\n",
       "      <td>220</td>\n",
       "      <td>0</td>\n",
       "    </tr>\n",
       "  </tbody>\n",
       "</table>\n",
       "</div>"
      ],
      "text/plain": [
       "   partie numero  temps  penalite\n",
       "0              1    265         0\n",
       "1              2    328         0\n",
       "2              3    249         0\n",
       "3              4    921         0\n",
       "4              5    220         0"
      ]
     },
     "execution_count": 3,
     "metadata": {},
     "output_type": "execute_result"
    }
   ],
   "source": [
    "M.head()"
   ]
  },
  {
   "cell_type": "markdown",
   "metadata": {},
   "source": [
    "**3.** Exécuter l’instruction temps = list(M['temps']) qui crée la liste temps formée des temps de réaction contenus dans la colonne correspondante du tableau de mesures."
   ]
  },
  {
   "cell_type": "code",
   "execution_count": 4,
   "metadata": {},
   "outputs": [],
   "source": [
    "temps = list(M['temps'])"
   ]
  },
  {
   "cell_type": "markdown",
   "metadata": {},
   "source": [
    "**4.** Pour la série de vos 300 mesures, calculer le temps moyen, le temps minimal, le temps maximal et l’écart type s de vos temps de réaction."
   ]
  },
  {
   "cell_type": "code",
   "execution_count": 5,
   "metadata": {},
   "outputs": [
    {
     "data": {
      "text/plain": [
       "297.47333333333336"
      ]
     },
     "execution_count": 5,
     "metadata": {},
     "output_type": "execute_result"
    }
   ],
   "source": [
    "np.mean(temps)"
   ]
  },
  {
   "cell_type": "code",
   "execution_count": 6,
   "metadata": {},
   "outputs": [
    {
     "data": {
      "text/plain": [
       "69.80154694242496"
      ]
     },
     "execution_count": 6,
     "metadata": {},
     "output_type": "execute_result"
    }
   ],
   "source": [
    "s = np.std(temps)\n",
    "s"
   ]
  },
  {
   "cell_type": "code",
   "execution_count": 7,
   "metadata": {},
   "outputs": [
    {
     "data": {
      "text/plain": [
       "(203, 921)"
      ]
     },
     "execution_count": 7,
     "metadata": {},
     "output_type": "execute_result"
    }
   ],
   "source": [
    "np.min(temps), np.max(temps)"
   ]
  },
  {
   "cell_type": "markdown",
   "metadata": {},
   "source": [
    "**5.** Commenter l’affichage obtenu en saisissant les instructions suivantes :\n",
    "\n",
    "plt.hist(temps, bins = 9)\n",
    "\n",
    "plt.show()"
   ]
  },
  {
   "cell_type": "code",
   "execution_count": 8,
   "metadata": {},
   "outputs": [
    {
     "data": {
      "image/png": "[encoded data removed]",
      "text/plain": [
       "<Figure size 432x288 with 1 Axes>"
      ]
     },
     "metadata": {},
     "output_type": "display_data"
    }
   ],
   "source": [
    "plt.hist(temps, bins = 9)\n",
    "plt.show()"
   ]
  },
  {
   "cell_type": "markdown",
   "metadata": {},
   "source": [
    "**6.** En déduire une estimation de µ à l’aide de vos 300 mesures en indiquant l’incertitude-type correspondante.\n",
    "\n",
    "(Cette question n’est à traiter que si la notion d’incertitude-type a été vue en physique-chimie.)"
   ]
  },
  {
   "cell_type": "markdown",
   "metadata": {},
   "source": [
    "## Partie B : étude de la distribution des moyennes obtenues sur des échantillons de taille 36"
   ]
  },
  {
   "cell_type": "markdown",
   "metadata": {},
   "source": [
    "On comprend que plus on effectue de mesures, plus l’estimation de µ est précise. Il convient cependant de quantifier le gain en précision en fonction du nombre *n* de mesures réalisées. Pour cela, on étudie dans cette partie la variabilité de la moyenne obtenue sur un échantillon de 36 mesures."
   ]
  },
  {
   "cell_type": "markdown",
   "metadata": {},
   "source": [
    "**1.** Exécuter les instructions suivantes.\n",
    "\n",
    "L = random.choices(temps, k = 36)\n",
    "\n",
    "L\n",
    "\n",
    "À quoi correspond la liste L ?\n"
   ]
  },
  {
   "cell_type": "code",
   "execution_count": 9,
   "metadata": {},
   "outputs": [
    {
     "data": {
      "text/plain": [
       "[296,\n",
       " 250,\n",
       " 359,\n",
       " 312,\n",
       " 250,\n",
       " 328,\n",
       " 296,\n",
       " 281,\n",
       " 249,\n",
       " 265,\n",
       " 296,\n",
       " 234,\n",
       " 265,\n",
       " 249,\n",
       " 250,\n",
       " 298,\n",
       " 296,\n",
       " 249,\n",
       " 265,\n",
       " 265,\n",
       " 328,\n",
       " 250,\n",
       " 281,\n",
       " 343,\n",
       " 234,\n",
       " 343,\n",
       " 359,\n",
       " 374,\n",
       " 265,\n",
       " 281,\n",
       " 265,\n",
       " 328,\n",
       " 265,\n",
       " 406,\n",
       " 296,\n",
       " 249]"
      ]
     },
     "execution_count": 9,
     "metadata": {},
     "output_type": "execute_result"
    }
   ],
   "source": [
    "L = random.choices(temps, k = 36)\n",
    "L"
   ]
  },
  {
   "cell_type": "markdown",
   "metadata": {},
   "source": [
    "**2.** Calculer la moyenne des valeurs de la liste L."
   ]
  },
  {
   "cell_type": "code",
   "execution_count": 10,
   "metadata": {},
   "outputs": [
    {
     "data": {
      "text/plain": [
       "289.44444444444446"
      ]
     },
     "execution_count": 10,
     "metadata": {},
     "output_type": "execute_result"
    }
   ],
   "source": [
    "np.mean(L)"
   ]
  },
  {
   "cell_type": "markdown",
   "metadata": {},
   "source": [
    "**3.** Exécuter l’instruction suivante.\n",
    "\n",
    "moyennes36 = [np.mean(random.choices(temps, k = 36)) for i in range(500)]\n",
    "\n",
    "À quoi correspond la liste moyennes36 ?"
   ]
  },
  {
   "cell_type": "code",
   "execution_count": 11,
   "metadata": {},
   "outputs": [],
   "source": [
    "moyennes36 = [np.mean(random.choices(temps, k = 36)) for i in range(500)]"
   ]
  },
  {
   "cell_type": "markdown",
   "metadata": {},
   "source": [
    "**4.** Représenter, sous forme d’histogramme, les valeurs de la liste moyennes36. Comparer la forme de cet histogramme à celle de celui de la partie A."
   ]
  },
  {
   "cell_type": "code",
   "execution_count": 12,
   "metadata": {},
   "outputs": [
    {
     "data": {
      "image/png": "[encoded data removed]",
      "text/plain": [
       "<Figure size 432x288 with 1 Axes>"
      ]
     },
     "metadata": {},
     "output_type": "display_data"
    }
   ],
   "source": [
    "plt.hist(moyennes36, bins = 9)\n",
    "plt.show()"
   ]
  },
  {
   "cell_type": "markdown",
   "metadata": {},
   "source": [
    "**5.** Calculer l’écart type, noté s36, des valeurs de la liste moyennes36."
   ]
  },
  {
   "cell_type": "code",
   "execution_count": 13,
   "metadata": {},
   "outputs": [
    {
     "data": {
      "text/plain": [
       "11.613751402492172"
      ]
     },
     "execution_count": 13,
     "metadata": {},
     "output_type": "execute_result"
    }
   ],
   "source": [
    "s36 = np.std(moyennes36)\n",
    "s36"
   ]
  },
  {
   "cell_type": "markdown",
   "metadata": {},
   "source": [
    "**6.** Exécuter les instructions suivantes permettant de superposer les histogrammes correspondant aux 300 mesures et aux 500 moyennes d’échantillons de taille 36. Pour faciliter la comparaison, on a normalisé les histogrammes (c’est-à-dire que l’aire globale de chacun est ramenée à une unité d’aire).\n",
    "\n",
    "plt.hist(temps, bins = 9, density = True)\n",
    "\n",
    "plt.hist(moyennes36, bins = 9, density = True, alpha = 0.5)\n",
    "\n",
    "plt.show()\n",
    "\n",
    "Commenter le graphique."
   ]
  },
  {
   "cell_type": "code",
   "execution_count": 14,
   "metadata": {},
   "outputs": [
    {
     "data": {
      "image/png": "[encoded data removed]",
      "text/plain": [
       "<Figure size 432x288 with 1 Axes>"
      ]
     },
     "metadata": {},
     "output_type": "display_data"
    }
   ],
   "source": [
    "plt.hist(temps, bins = 9, density = True)\n",
    "plt.hist(moyennes36, bins = 9, density = True, alpha = 0.5)\n",
    "plt.show()"
   ]
  },
  {
   "cell_type": "markdown",
   "metadata": {},
   "source": [
    "**7.** Calculer le rapport des écarts types  s / s36."
   ]
  },
  {
   "cell_type": "code",
   "execution_count": 15,
   "metadata": {},
   "outputs": [
    {
     "data": {
      "text/plain": [
       "6.0102497912471575"
      ]
     },
     "execution_count": 15,
     "metadata": {},
     "output_type": "execute_result"
    }
   ],
   "source": [
    "s / s36"
   ]
  },
  {
   "cell_type": "markdown",
   "metadata": {},
   "source": [
    "## Partie C : incertitude-type associée à une moyenne sur un échantillon de taille 36"
   ]
  },
  {
   "cell_type": "markdown",
   "metadata": {},
   "source": [
    "On constate que passer de la distribution des mesures individuelles à celles des moyennes sur des échantillons de taille 36 conduit à diviser l’écart type par environ ${\\sqrt{36}}$ = 6.\n",
    "Par ailleurs, la distribution des moyennes des échantillons de taille 36 est beaucoup plus symétrique que celle des mesures individuelles avec un histogramme en forme de cloche, distribution dite « normale » ou « gaussienne » pour laquelle environ 95 % des valeurs sont comprises dans un intervalle centré sur la moyenne et de rayon deux écarts types."
   ]
  },
  {
   "cell_type": "markdown",
   "metadata": {},
   "source": [
    "**1.** Compléter les instructions suivantes puis exécuter le programme pour obtenir la fréquence des valeurs de la liste moyennes36 comprises dans l’intervalle\n",
    "\n",
    "[m – 2 s36, m + 2 s36] où m est la moyenne de la liste moyennes36.\n",
    "\n",
    "m = np.mean(moyennes36)\n",
    "\n",
    "k = 0\n",
    "\n",
    "for valeur in moyennes36:\n",
    "\n",
    "    if ……………………………………………:\n",
    "    \n",
    "        k = k + 1\n",
    "        \n",
    "k / 500\n",
    "\n",
    "Qu’observe-t-on ?"
   ]
  },
  {
   "cell_type": "code",
   "execution_count": 16,
   "metadata": {},
   "outputs": [
    {
     "data": {
      "text/plain": [
       "0.956"
      ]
     },
     "execution_count": 16,
     "metadata": {},
     "output_type": "execute_result"
    }
   ],
   "source": [
    "m = np.mean(moyennes36)\n",
    "k = 0\n",
    "for valeur in moyennes36:\n",
    "    if m - 2 * s36 <= valeur <= m + 2 * s36:\n",
    "        k = k + 1\n",
    "k / 500"
   ]
  },
  {
   "cell_type": "markdown",
   "metadata": {},
   "source": [
    "**2.** En physique-chimie, on adopte le procédé suivant pour estimer µ à partir d’un échantillon de 36 temps de réaction. On calcule la moyenne expérimentale et l’écart type expérimental des 36 mesures (dans le cas de 36 mesures, l’écart type expérimental est proche de l’écart type des 36 mesures).\n",
    "\n",
    "On estime que µ vaut  la moyenne expérimentale avec une « incertitude-type » égale à  l'écart type expérimental divisé par racine de 36.\n",
    "\n",
    "La « vraie » valeur de µ n’étant pas éloignée de la moyenne expérimentale de plus de deux incertitudes-types avec un niveau de confiance de 95 %.\n",
    "\n",
    "**a.** Prélever un échantillon aléatoire de taille 36.\n",
    "\n",
    "**b.** Calculer la moyenne et l’écart type de cet échantillon.\n",
    "\n",
    "**c.** Donner une estimation de µ à partir de cet échantillon de taille 36 ainsi que l’incertitude type associée."
   ]
  },
  {
   "cell_type": "code",
   "execution_count": 17,
   "metadata": {},
   "outputs": [],
   "source": [
    "E = random.choices(temps, k = 36)\n",
    "m_ech = np.mean(E)\n",
    "s_ech = np.std(E)"
   ]
  },
  {
   "cell_type": "code",
   "execution_count": 18,
   "metadata": {},
   "outputs": [
    {
     "data": {
      "text/plain": [
       "296.25"
      ]
     },
     "execution_count": 18,
     "metadata": {},
     "output_type": "execute_result"
    }
   ],
   "source": [
    "m_ech"
   ]
  },
  {
   "cell_type": "code",
   "execution_count": 19,
   "metadata": {},
   "outputs": [
    {
     "data": {
      "text/plain": [
       "13.15273377911214"
      ]
     },
     "execution_count": 19,
     "metadata": {},
     "output_type": "execute_result"
    }
   ],
   "source": [
    "s_ech / 6"
   ]
  }
 ],
 "metadata": {
  "kernelspec": {
   "display_name": "Python 3",
   "language": "python",
   "name": "python3"
  },
  "language_info": {
   "codemirror_mode": {
    "name": "ipython",
    "version": 3
   },
   "file_extension": ".py",
   "mimetype": "text/x-python",
   "name": "python",
   "nbconvert_exporter": "python",
   "pygments_lexer": "ipython3",
   "version": "3.6.4"
  }
 },
 "nbformat": 4,
 "nbformat_minor": 2
}
