{
 "cells": [
  {
   "cell_type": "markdown",
   "metadata": {
    "collapsed": false
   },
   "source": [
    "# Premières fonctions"
   ]
  },
  {
   "cell_type": "markdown",
   "metadata": {
    "collapsed": false
   },
   "source": [
    "L’utilisation d’opérateurs mathématiques spécifique nécessitent l’utilisation d’une bibliothèque : math. Comme pour la bibliothèque Turtle, la commande \n",
    "```python\n",
    "from math import *\n",
    "```\n",
    "permet d'importer l'intégralité de la bibliothèque. \n",
    "Une autre manière de faire est d'utiliser la commande \n",
    "```python\n",
    "import math\n",
    "```\n",
    "La différence sera alors dans la manière d'appeler les méthodes propres à la bibliothèque.\n",
    "Voici le code à utiliser pour afficher $\\sqrt{4}$ dans le premier cas."
   ]
  },
  {
   "cell_type": "code",
   "execution_count": 0,
   "metadata": {
    "collapsed": false
   },
   "outputs": [
   ],
   "source": [
    "from math import *\n",
    "sqrt(4)"
   ]
  },
  {
   "cell_type": "markdown",
   "metadata": {
    "collapsed": false
   },
   "source": [
    "Dans le deuxième cas, il faudra préciser la bibliothèque utilisée à chaque fois."
   ]
  },
  {
   "cell_type": "code",
   "execution_count": 0,
   "metadata": {
    "collapsed": false
   },
   "outputs": [
   ],
   "source": [
    "import math\n",
    "math.sqrt(4)"
   ]
  },
  {
   "cell_type": "markdown",
   "metadata": {
    "collapsed": false
   },
   "source": [
    "L'avantage de la première méthode est d'être plus légère dans le code. Mais en cas d'utilisation de plusieurs bibliothèques il peut y avoir conflit entre deux méthodes de mêmes noms dans chacune des bibliothèques. La deuixème méthode est alors la seule efficace."
   ]
  },
  {
   "cell_type": "markdown",
   "metadata": {
    "collapsed": false
   },
   "source": [
    "## Exercice 1"
   ]
  },
  {
   "cell_type": "markdown",
   "metadata": {
    "collapsed": false
   },
   "source": [
    "Pour implémenter le fonction $f$ définie sur $\\mathbb{R}$ par $f(x)=\\left\\{\\begin{array}{l}3\\sqrt{x}+2\\text{ si }x>4\\\\-x+1\\text{ sinon}\\end{array}\\right.$ on utilise le code suivant :\n",
    "\n",
    "\n"
   ]
  },
  {
   "cell_type": "code",
   "execution_count": 0,
   "metadata": {
    "collapsed": false
   },
   "outputs": [
   ],
   "source": [
    "from math import*\n",
    "def f(x):\n",
    "    if x>4:\n",
    "        return 3*sqrt(x)+2\n",
    "    else:\n",
    "        return -x+1"
   ]
  },
  {
   "cell_type": "markdown",
   "metadata": {
    "collapsed": false
   },
   "source": [
    "Pour déterminer les images par $f$ il suffit d’appeler dans la console la fonction $f$ en passant en paramètre la valeur de $x$ choisie.\n",
    "Utiliser la ligne de code ci-dessous pour afficher les images de 9 et 0 par exemple."
   ]
  },
  {
   "cell_type": "code",
   "execution_count": 0,
   "metadata": {
    "collapsed": false
   },
   "outputs": [
   ],
   "source": [
   ]
  },
  {
   "cell_type": "markdown",
   "metadata": {
    "collapsed": false
   },
   "source": [
    "A vous de jouer : écrire un script permettant de déterminer les images de la fonction $g$ définie sur $[0;10]$. Pour évaluer votre script, tester le avec plusieurs valeurs simples.\n",
    "$$g(x)=\\left\\{\\begin{array}{l}2x\\text{ si }x\\in[0;3[\\\\9-x\\text{ si }x\\in[3;7[\\\\ x-2\\text{ si }x\\in[7,10] \\end{array}\\right.$$"
   ]
  },
  {
   "cell_type": "code",
   "execution_count": 0,
   "metadata": {
    "collapsed": false
   },
   "outputs": [
   ],
   "source": [
   ]
  },
  {
   "cell_type": "markdown",
   "metadata": {
    "collapsed": false
   },
   "source": [
    "## Exercice 2\n",
    "Question 1. En utilisant la commande type() comme ci-dessous, indiquer le type des variables suivantes :\n",
    "\n",
    "|Valeur|\"Bonjour\"|2|3.57|10|$\\sqrt{3}$|$\\pi$|\"à\"|\"Jules a 10 ans\"|\"15\"|\n",
    "|------|---------|-|----|--|----------|---|---|----------------|----|\n",
    "|Type  |         | |    |  |          |   |   |                |    |"
   ]
  },
  {
   "cell_type": "code",
   "execution_count": 0,
   "metadata": {
    "collapsed": false
   },
   "outputs": [
   ],
   "source": [
    "type(\"Bonjour\")"
   ]
  },
  {
   "cell_type": "markdown",
   "metadata": {
    "collapsed": false
   },
   "source": [
    "On relève quatre types de variables : \n",
    "* les entiers : int\n",
    "* les réels : float\n",
    "* les caractères : char\n",
    "* les chaînes de caractères : str\n",
    "\n",
    "Question 2 Taper le calcul 3.11+2.08. Que penser du résultat?"
   ]
  },
  {
   "cell_type": "code",
   "execution_count": 0,
   "metadata": {
    "collapsed": false
   },
   "outputs": [
   ],
   "source": [
   ]
  },
  {
   "cell_type": "markdown",
   "metadata": {
    "collapsed": false
   },
   "source": [
    "Le problème repose sur la représentation des nombres dans la machine. Une vidéo de complément d'informations vous est proposée dans le parcours."
   ]
  },
  {
   "cell_type": "markdown",
   "metadata": {
    "collapsed": false
   },
   "source": [
    "## Exercice 3\n",
    "On définit deux variables : "
   ]
  },
  {
   "cell_type": "code",
   "execution_count": 2,
   "metadata": {
    "collapsed": false
   },
   "outputs": [
   ],
   "source": [
    "texte1=\"Bonjour\""
   ]
  },
  {
   "cell_type": "code",
   "execution_count": 0,
   "metadata": {
    "collapsed": false
   },
   "outputs": [
   ],
   "source": [
    "texte2=\"Aujourd'hui il fait froid\""
   ]
  },
  {
   "cell_type": "markdown",
   "metadata": {
    "collapsed": false
   },
   "source": [
    "Excécuter les instructions suivantes. En fonction des résultats expliquez ce que fait chaque commande."
   ]
  },
  {
   "cell_type": "code",
   "execution_count": 0,
   "metadata": {
    "collapsed": false
   },
   "outputs": [
   ],
   "source": [
    "len(texte1)"
   ]
  },
  {
   "cell_type": "code",
   "execution_count": 0,
   "metadata": {
    "collapsed": false
   },
   "outputs": [
   ],
   "source": [
    "len(texte2)"
   ]
  },
  {
   "cell_type": "code",
   "execution_count": 0,
   "metadata": {
    "collapsed": false
   },
   "outputs": [
   ],
   "source": [
    "texte1[3]"
   ]
  },
  {
   "cell_type": "code",
   "execution_count": 0,
   "metadata": {
    "collapsed": false
   },
   "outputs": [
   ],
   "source": [
    "texte2[10]"
   ]
  },
  {
   "cell_type": "code",
   "execution_count": 0,
   "metadata": {
    "collapsed": false
   },
   "outputs": [
   ],
   "source": [
    "texte1[0]"
   ]
  },
  {
   "cell_type": "code",
   "execution_count": 0,
   "metadata": {
    "collapsed": false
   },
   "outputs": [
   ],
   "source": [
    "texte2[27]"
   ]
  },
  {
   "cell_type": "code",
   "execution_count": 0,
   "metadata": {
    "collapsed": false
   },
   "outputs": [
   ],
   "source": [
    "texte1[2:4]"
   ]
  },
  {
   "cell_type": "code",
   "execution_count": 0,
   "metadata": {
    "collapsed": false
   },
   "outputs": [
   ],
   "source": [
    "texte2[0:11]"
   ]
  },
  {
   "cell_type": "code",
   "execution_count": 0,
   "metadata": {
    "collapsed": false
   },
   "outputs": [
   ],
   "source": [
    "texte1[:3]"
   ]
  },
  {
   "cell_type": "code",
   "execution_count": 0,
   "metadata": {
    "collapsed": false
   },
   "outputs": [
   ],
   "source": [
    "texte1[3:]"
   ]
  },
  {
   "cell_type": "code",
   "execution_count": 0,
   "metadata": {
    "collapsed": false
   },
   "outputs": [
   ],
   "source": [
    "texte1+texte2"
   ]
  },
  {
   "cell_type": "markdown",
   "metadata": {
    "collapsed": false
   },
   "source": [
    "Remarque : les commandes ci-dessus sont essentielles pour la manipulation des chaînes de caractères. Ce sont les mêmes commandes qui permettent de manipuler des listes.\n",
    "La définition d'une liste se fait par des crochets et les éléments sont séparés par une virgule."
   ]
  },
  {
   "cell_type": "code",
   "execution_count": 0,
   "metadata": {
    "collapsed": false
   },
   "outputs": [
   ],
   "source": [
    "liste1=[1,2,3]"
   ]
  },
  {
   "cell_type": "code",
   "execution_count": 0,
   "metadata": {
    "collapsed": false
   },
   "outputs": [
   ],
   "source": [
    "liste2=[4,5,6]"
   ]
  },
  {
   "cell_type": "code",
   "execution_count": 0,
   "metadata": {
    "collapsed": false
   },
   "outputs": [
   ],
   "source": [
    "liste1+liste2"
   ]
  },
  {
   "cell_type": "markdown",
   "metadata": {
    "collapsed": false
   },
   "source": [
    "## Exercice 4\n",
    "La fonction ci-dessous a deux variables d'entrée : une lettre qui est un caractère et un texte qui est une chaîne de caractères. L'objectif est de déterminer la fréquence d'apparition de la lettre dans le texte. Pour cela on utilise un compteur.\n",
    "\n",
    "Compléter la fonction (en supprimant bien tous les pointillés en rouge) puis tester à l'aide du texte2 défini dans l'exercice 3."
   ]
  },
  {
   "cell_type": "code",
   "execution_count": 0,
   "metadata": {
    "collapsed": false
   },
   "outputs": [
   ],
   "source": [
    "def frequence(lettre,texte):\n",
    "    compteur=0\n",
    "    for k in range(........):\n",
    "        if lettre == ...............:\n",
    "            compteur=compteur+1\n",
    "    return ..........."
   ]
  },
  {
   "cell_type": "markdown",
   "metadata": {
    "collapsed": false
   },
   "source": [
    "On remarque que le test d'égalité se code avec deux =."
   ]
  },
  {
   "cell_type": "markdown",
   "metadata": {
    "collapsed": false
   },
   "source": [
    "## Exercice 5\n",
    "Exécuter les lignes ci-dessous, tester pour différente valeur de $p$ entière et interpréter."
   ]
  },
  {
   "cell_type": "code",
   "execution_count": 0,
   "metadata": {
    "collapsed": false
   },
   "outputs": [
   ],
   "source": [
    "def seuil(p):\n",
    "    u=1\n",
    "    k=0\n",
    "    while u<10**p:\n",
    "        u=u**2+1\n",
    "        k=k+1\n",
    "    return k"
   ]
  },
  {
   "cell_type": "code",
   "execution_count": 0,
   "metadata": {
    "collapsed": false
   },
   "outputs": [
   ],
   "source": [
   ]
  },
  {
   "cell_type": "markdown",
   "metadata": {
    "collapsed": false
   },
   "source": [
    "Cette fonction permet de terminer le rang à partir duquel le terme d'une certaine suite $u$ définie par récurrence et tendant vers $+\\infty$ devient supérieur à $10^{p}$."
   ]
  },
  {
   "cell_type": "markdown",
   "metadata": {
    "collapsed": false
   },
   "source": [
    "On considère la suite $(u_{n})$ définie par $u_{1}=10$ et pour tout entier naturel non nul $n$ par $u_{n+1}=0,8u_{n}+25-4n$. On admet que cette suite admet des valeurs négatives. Ecrire un algorithme qui permet de déterminer la plus petite valeur de $n$ telle que $u_{n}<0$."
   ]
  },
  {
   "cell_type": "code",
   "execution_count": 0,
   "metadata": {
    "collapsed": false
   },
   "outputs": [
   ],
   "source": [
   ]
  },
  {
   "cell_type": "markdown",
   "metadata": {
    "collapsed": false
   },
   "source": [
    "## Exercice 6\n",
    "On considère deux suites $(u_{n})$ et $(v_{n})$ défines par $u_{n+1}=1,02u_{n}$ et $v_{n+1}=v_{n}+750$. Ecrire trois fonctions : \n",
    "* une permettant de calculer les termes de $u_{n}$ en fonction de $u_{0}$.\n",
    "* une permettant de calculer les termes de $v_{n}$ en fonction de $v_{0}$.\n",
    "* une permettant de définir le rang à partir duquel $u_{n}>v_{n}$ en fonction de la valeur de départ $u_{0}=v_{0}$."
   ]
  },
  {
   "cell_type": "code",
   "execution_count": 0,
   "metadata": {
    "collapsed": false
   },
   "outputs": [
   ],
   "source": [
   ]
  },
  {
   "cell_type": "markdown",
   "metadata": {
    "collapsed": false
   },
   "source": [
    "## Exercice 7\n",
    "Exécuter la fonction suivante calculant la moyenne d'une liste de valeurs."
   ]
  },
  {
   "cell_type": "code",
   "execution_count": 0,
   "metadata": {
    "collapsed": false
   },
   "outputs": [
   ],
   "source": [
    "def moyenne(valeurs):\n",
    "    somme_valeur=0\n",
    "    for k in range(len(valeurs)):\n",
    "        somme_valeur=somme_valeur+valeurs[k]\n",
    "    return somme_valeur/len(valeurs)"
   ]
  },
  {
   "cell_type": "code",
   "execution_count": 0,
   "metadata": {
    "collapsed": false
   },
   "outputs": [
   ],
   "source": [
    "moyenne([1,3,2,1,4])"
   ]
  },
  {
   "cell_type": "markdown",
   "metadata": {
    "collapsed": false
   },
   "source": [
    "A l'aide de la fonction précédente, écrire une fonction calculer une moyenne pondérée prenant en entrée deux listes :\n",
    "* la liste des valeurs\n",
    "* la liste des effectifs"
   ]
  },
  {
   "cell_type": "code",
   "execution_count": 0,
   "metadata": {
    "collapsed": false
   },
   "outputs": [
   ],
   "source": [
    "def moyenne_ponderee(valeurs,effectifs):\n",
    "    ......."
   ]
  },
  {
   "cell_type": "code",
   "execution_count": 0,
   "metadata": {
    "collapsed": false
   },
   "outputs": [
   ],
   "source": [
    "X1=[1,2,3,4,5],N1=[2,5,8,4,6],moyenne_ponderee(X1,N1)"
   ]
  },
  {
   "cell_type": "markdown",
   "metadata": {
    "collapsed": false
   },
   "source": [
    "Ecrire une fonction permettant de calculer la variance de la série.\n",
    "Modifier ensuite cette fonction pour qu'elle renvoie l'écart-type."
   ]
  },
  {
   "cell_type": "code",
   "execution_count": 0,
   "metadata": {
    "collapsed": false
   },
   "outputs": [
   ],
   "source": [
    "def variance(valeurs,effectifs):\n",
    "    .........."
   ]
  },
  {
   "cell_type": "code",
   "execution_count": 0,
   "metadata": {
    "collapsed": false
   },
   "outputs": [
   ],
   "source": [
    "def ecart_type(valeurs,effectifs):\n",
    "    .........."
   ]
  },
  {
   "cell_type": "markdown",
   "metadata": {
    "collapsed": false
   },
   "source": [
    "## Correction\n",
    "Exercice 1\n",
    "Deux solutions possibles. \n",
    "Solution 1 : \n",
    "```python\n",
    "def g(x):\n",
    "    if x>=0 and x<3:\n",
    "        return 2*x\n",
    "    if x>=3 and x<7:\n",
    "        return 9-x\n",
    "    if x>=7 and x<=10:\n",
    "        return x-2\n",
    "    else:\n",
    "        return \"non définie\"\n",
    "```\n",
    "\n",
    "Solution 2 :\n",
    "```python\n",
    "def g(x):\n",
    "    if x>=0 and x<3:\n",
    "        return 2*x\n",
    "    elif x>=3 and x<7:\n",
    "        return 9-x\n",
    "    elif x>=7 and x<=10:\n",
    "        return x-2\n",
    "    else:\n",
    "        return \"non définie\"\n",
    "```\n",
    "\n",
    "Exercice 4\n",
    "```python\n",
    "def frequence(lettre,texte):\n",
    "    compteur=0\n",
    "    for k in range(len(texte)):\n",
    "        if lettre == texte[k]:\n",
    "            compteur=compteur+1\n",
    "    return compteur/len(texte)\n",
    "```\n",
    "\n",
    "Exercice 5\n",
    "```python\n",
    "def seuil(p):\n",
    "    u=10\n",
    "    k=1\n",
    "    while u>0:\n",
    "        u=0.8*u+25-4*k\n",
    "        k=k+1\n",
    "    return k\n",
    "```\n",
    "\n",
    "Exercice 6\n",
    "```python\n",
    "def suite1(u,n):\n",
    "    for k in range(n):\n",
    "        u=1.02*u\n",
    "    return u\n",
    "\n",
    "def suite2(v,n):\n",
    "    for k in range(n):\n",
    "        v=v+750\n",
    "    return v\n",
    "\n",
    "def comparaison(u,n):\n",
    "    k=0\n",
    "    v=u\n",
    "    while u<=v:\n",
    "        u=1.02*u\n",
    "        v=v+750\n",
    "        k=k+1\n",
    "    return k\n",
    "```\n",
    "\n",
    "Exercice 7\n",
    "```python\n",
    "def moyenne_ponderee(valeurs,effectifs):\n",
    "    somme_valeur=0\n",
    "    somme_effectifs=0\n",
    "    for k in range(len(valeurs)):\n",
    "        somme_valeur=somme_valeur+valeurs[k]*effectifs[k]\n",
    "        somme_effectifs=somme_effectifs+effectifs[k]\n",
    "    return somme_valeur/somme_effectifs\n",
    "\n",
    "def variance(valeurs,effectifs):\n",
    "    somme_carre=0\n",
    "    somme_effectifs=0\n",
    "    for k in range(len(valeurs)):\n",
    "        somme_carre=somme_carre+valeurs[k]**2*effectifs[k]\n",
    "        somme_effectifs=somme_effectifs+effectifs[k]\n",
    "    return somme_carre/somme_effectifs-moyenne_ponderee(valeurs,effectifs)**2\n",
    "\n",
    "def ecart_type(valeurs,effectifs):\n",
    "    return sqrt(variance(valeurs,effectifs))\n",
    "```"
   ]
  },
  {
   "cell_type": "code",
   "execution_count": 0,
   "metadata": {
    "collapsed": false
   },
   "outputs": [
   ],
   "source": [
   ]
  }
 ],
 "metadata": {
  "kernelspec": {
   "display_name": "Python 3 (Ubuntu Linux)",
   "language": "python",
   "metadata": {
    "cocalc": {
     "description": "Python 3 programming language",
     "priority": 100,
     "url": "https://www.python.org/"
    }
   },
   "name": "python3"
  },
  "language_info": {
   "codemirror_mode": {
    "name": "ipython",
    "version": 3
   },
   "file_extension": ".py",
   "mimetype": "text/x-python",
   "name": "python",
   "nbconvert_exporter": "python",
   "pygments_lexer": "ipython3",
   "version": "3.6.7"
  }
 },
 "nbformat": 4,
 "nbformat_minor": 0
}
