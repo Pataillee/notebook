{
 "cells": [
  {
   "cell_type": "markdown",
   "metadata": {},
   "source": [
    "# Découverte du module matplotlib\n",
    "\n",
    "Le **module matplotlib** est un module très complet. \n",
    "Ce module est nécessaire pour tracer des points, nuages de points, fonctions...\n",
    "\n",
    "Comme tous les modules, il faut le charger et plus précisément c'est un sous-module qui va nous intéresser : pyplot.\n",
    "\n",
    "Pour cela, nous n'allons pas charger toutes les fonctions comme d'habitude mais l'importer sous un nom plus court à utiliser. On utilisera donc :\n",
    "\n",
    "**import matplotlib.pyplot as plt**. \n",
    "\n",
    "Ce qui signifie que pour utiliser une fonction de ce module comme show() par exemple, on devra écrire plt.show() (puisqu'on a importé le module sous le nom plt).\n",
    "\n",
    "De plus, le **module matplotlib** est très lié à un autre module qui sert à faire du calcul numérique qui s'appelle numpy et qu'on import souvent sous le nom np.\n",
    "\n",
    "**import numpy as np**\n",
    "\n",
    "Pour résumer, pour représenter graphiquement des fonctions ou autres, il faudra mettre en en-tête :"
   ]
  },
  {
   "cell_type": "code",
   "execution_count": null,
   "metadata": {},
   "outputs": [],
   "source": [
    "import numpy as np\n",
    "import matplotlib.pyplot as plt"
   ]
  },
  {
   "cell_type": "markdown",
   "metadata": {},
   "source": [
    "## Les fonctions de bases \n",
    "* **plt.show()** : Pour afficher le résultat. Toute les fonctions qui suivent servent à préparer le graphique mais si on ne demande pas de l'afficher, rien ne se passera (exactement comme la fonction print : aucun calcul ne s'affiche si on ne demande pas de l'afficher avec  print).\n",
    "\n",
    "* **plt.plot(liste_x,liste_y)** : Où liste_x est une liste de nombres [x_1, x_2, ..., x_n] et liste_y une liste de nombres [y_1, y_2, ..., y_n] avec le même nombre d'éléments. \n",
    "Alors plt.plot(liste_x,liste_y) placera les points de coordonnées (x_1,y_1), (x_2,y_2), ..., (x_n, y_n) et les reliera de proche en proche par un segment."
   ]
  },
  {
   "cell_type": "markdown",
   "metadata": {},
   "source": [
    "### Un exemple\n"
   ]
  },
  {
   "cell_type": "code",
   "execution_count": null,
   "metadata": {},
   "outputs": [],
   "source": [
    "import matplotlib.pyplot as plt\n",
    "import numpy as np\n",
    "\n",
    "t=np.array([0.0, 0.1, 0.2, 0.3, 0.4, 0.5, 0.6, 0.7, 0.8, 0.9, 1.0, 1.1, 1.2, 1.3, 1.4, 1.5])\n",
    "ymesure=np.array([-0,-0.7,-1.5,-2.3,-3.5,-4.5,-5.9,-7.7,-8.8,-10.6,-12.3,-14.2,-16.4,-18.5,-21,-23.5])\n",
    "\n",
    "plt.plot(t,ymesure)\n",
    "\n",
    "plt.show()\n",
    "plt.close()"
   ]
  },
  {
   "cell_type": "markdown",
   "metadata": {},
   "source": [
    "**plt.plot(liste_x,liste_y,'x')** : idem mais les points sont marqués d'une croix et ne sont pas reliés "
   ]
  },
  {
   "cell_type": "code",
   "execution_count": null,
   "metadata": {},
   "outputs": [],
   "source": [
    "import matplotlib.pyplot as plt\n",
    "import numpy as np\n",
    "\n",
    "t=np.array([0.0, 0.1, 0.2, 0.3, 0.4, 0.5, 0.6, 0.7, 0.8, 0.9, 1.0, 1.1, 1.2, 1.3, 1.4, 1.5])\n",
    "ymesure=np.array([-0,-0.7,-1.5,-2.3,-3.5,-4.5,-5.9,-7.7,-8.8,-10.6,-12.3,-14.2,-16.4,-18.5,-21,-23.5])\n",
    "\n",
    "plt.plot(t,ymesure,'x')\n",
    "\n",
    "plt.show()\n",
    "plt.close()"
   ]
  },
  {
   "cell_type": "markdown",
   "metadata": {},
   "source": [
    "Dans ce graphique l'échelle se fait automatiquement mais il est posssible de fixer les axes.\n",
    "\n",
    "Il est possible de rajouter le titre du graphique ainsi qu'une grille\n",
    "\n",
    "* **plt.xlim(0,2)** définie la limite des abscisses\n",
    "* **plt.ylim(-25,0)** définie la limite des ordonées\n",
    "* **plt.title(\"Tracer un nuage de points)** affiche le titre\n",
    "* **plt.grid()** affiche la grille\n"
   ]
  },
  {
   "cell_type": "code",
   "execution_count": null,
   "metadata": {},
   "outputs": [],
   "source": [
    "import matplotlib.pyplot as plt\n",
    "import numpy as np\n",
    "\n",
    "t=np.array([0.0, 0.1, 0.2, 0.3, 0.4, 0.5, 0.6, 0.7, 0.8, 0.9, 1.0, 1.1, 1.2, 1.3, 1.4, 1.5])\n",
    "ymesure=np.array([-0,-0.7,-1.5,-2.3,-3.5,-4.5,-5.9,-7.7,-8.8,-10.6,-12.3,-14.2,-16.4,-18.5,-21,-23.5])\n",
    "\n",
    "plt.plot(t,ymesure,'x' )\n",
    "\n",
    "plt.title(\"Tracer un nuage de points\")\n",
    "plt.grid()\n",
    "\n",
    "plt.show()\n",
    "plt.close()\n"
   ]
  },
  {
   "cell_type": "code",
   "execution_count": null,
   "metadata": {},
   "outputs": [],
   "source": [
    "import matplotlib.pyplot as plt\n",
    "import numpy as np\n",
    "\n",
    "temps=np.array([0.0, 0.1, 0.2, 0.3, 0.4, 0.5, 0.6, 0.7, 0.8, 0.9, 1.0, 1.1, 1.2, 1.3, 1.4, 1.5])\n",
    "ymesure=np.array([-0,-0.7,-1.5,-2.3,-3.5,-4.5,-5.9,-7.7,-8.8,-10.6,-12.3,-14.2,-16.4,-18.5,-21,-23.5])\n",
    "\n",
    "plt.plot(temps,ymesure,'x' )\n",
    "\n",
    "plt.xlim(0,2)\n",
    "plt.ylim(-25,0)\n",
    "\n",
    "plt.title(\"Tracer un nuage de points\")\n",
    "plt.grid()\n",
    "\n",
    "plt.show()\n",
    "plt.close()\n"
   ]
  },
  {
   "cell_type": "code",
   "execution_count": null,
   "metadata": {},
   "outputs": [],
   "source": [
    "import matplotlib.pyplot as plt\n",
    "import numpy as np\n",
    "\n",
    "temps=np.array([0.0, 0.1, 0.2, 0.3, 0.4, 0.5, 0.6, 0.7, 0.8, 0.9, 1.0, 1.1, 1.2, 1.3, 1.4, 1.5])\n",
    "ymesure=np.array([-0,-0.7,-1.5,-2.3,-3.5,-4.5,-5.9,-7.7,-8.8,-10.6,-12.3,-14.2,-16.4,-18.5,-21,-23.5])\n",
    "\n",
    "plt.plot(temps,ymesure)\n",
    "\n",
    "plt.xlabel(\"temps\")\n",
    "plt.ylabel(\"ymesure\")\n",
    "plt.title(\"Tracer un nuage de points\")\n",
    "plt.grid()\n",
    "\n",
    "plt.show()\n",
    "plt.close()\n",
    "\n"
   ]
  },
  {
   "cell_type": "code",
   "execution_count": null,
   "metadata": {},
   "outputs": [],
   "source": [
    "On peut également mettre une légende au nuage de points :\n",
    "    "
   ]
  },
  {
   "cell_type": "code",
   "execution_count": null,
   "metadata": {},
   "outputs": [],
   "source": [
    "import matplotlib.pyplot as plt\n",
    "import numpy as np\n",
    "\n",
    "temps=np.array([0.0, 0.1, 0.2, 0.3, 0.4, 0.5, 0.6, 0.7, 0.8, 0.9, 1.0, 1.1, 1.2, 1.3, 1.4, 1.5])\n",
    "ymesure=np.array([-0,-0.7,-1.5,-2.3,-3.5,-4.5,-5.9,-7.7,-8.8,-10.6,-12.3,-14.2,-16.4,-18.5,-21,-23.5])\n",
    "\n",
    "plt.plot(temps,ymesure,'x' ,label=\"ymesure en fonction du temps\")\n",
    "\n",
    "plt.xlabel(\"temps\")\n",
    "plt.ylabel(\"ymesure\")\n",
    "plt.title(\"Tracer un nuage de points\")\n",
    "plt.grid()\n",
    "plt.legend()\n",
    "\n",
    "plt.show()\n",
    "plt.close()\n"
   ]
  },
  {
   "cell_type": "markdown",
   "metadata": {},
   "source": [
    "## Enregistrement de la figure sous forme d'une image en png\n",
    "**plt.savefig(\"\"nom_de_image.png\")**"
   ]
  },
  {
   "cell_type": "code",
   "execution_count": null,
   "metadata": {},
   "outputs": [],
   "source": [
    "import matplotlib.pyplot as plt\n",
    "import numpy as np\n",
    "\n",
    "t=np.array([0.0, 0.1, 0.2, 0.3, 0.4, 0.5, 0.6, 0.7, 0.8, 0.9, 1.0, 1.1, 1.2, 1.3, 1.4, 1.5])\n",
    "ymesure=np.array([-0,-0.7,-1.5,-2.3,-3.5,-4.5,-5.9,-7.7,-8.8,-10.6,-12.3,-14.2,-16.4,-18.5,-21,-23.5])\n",
    "\n",
    "plt.plot(t,ymesure,'x' ,label=\"ymesure en fonction du temps\")\n",
    "\n",
    "plt.xlabel(\"temps\")\n",
    "plt.ylabel(\"ymesure\")\n",
    "plt.title(\"Tracer un nuage de points\")\n",
    "plt.grid()\n",
    "plt.legend()\n",
    "\n",
    "plt.savefig(\"nuage_de_points.png\")\n",
    "\n",
    "plt.show()\n",
    "plt.close()"
   ]
  },
  {
   "cell_type": "markdown",
   "metadata": {},
   "source": [
    "## Tracé d'une fonction\n",
    "A l'aide de matplotlib et de numpy, on peut également tracer des fonctions"
   ]
  },
  {
   "cell_type": "code",
   "execution_count": null,
   "metadata": {},
   "outputs": [],
   "source": [
    "import numpy as np\n",
    "import matplotlib.pyplot as plt\n",
    "\n",
    "x = np.linspace(0,2*np.pi,30)\n",
    "y = np.cos(x)\n",
    "plt.plot(x,y)\n",
    "\n",
    "plt.show() # affiche la figure a l'ecran\n"
   ]
  },
  {
   "cell_type": "code",
   "execution_count": null,
   "metadata": {},
   "outputs": [],
   "source": [
    "import matplotlib.pyplot as plt\n",
    "import numpy as np\n",
    "\n",
    "x = np.linspace(-2, 2, 100)\n",
    "y = 2*x**2+3*x-4\n",
    "\n",
    "plt.plot(x,y)\n",
    "plt.show()"
   ]
  },
  {
   "cell_type": "code",
   "execution_count": null,
   "metadata": {},
   "outputs": [],
   "source": []
  }
 ],
 "metadata": {
  "kernelspec": {
   "display_name": "Python 3",
   "language": "python",
   "name": "python3"
  },
  "language_info": {
   "codemirror_mode": {
    "name": "ipython",
    "version": 3
   },
   "file_extension": ".py",
   "mimetype": "text/x-python",
   "name": "python",
   "nbconvert_exporter": "python",
   "pygments_lexer": "ipython3",
   "version": "3.7.3"
  }
 },
 "nbformat": 4,
 "nbformat_minor": 2
}
