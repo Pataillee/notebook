{
 "cells": [
  {
   "cell_type": "markdown",
   "metadata": {},
   "source": [
    "# Tableau  d'avancement ammoniac"
   ]
  },
  {
   "cell_type": "markdown",
   "metadata": {},
   "source": [
    "## Analyse du code à compléter"
   ]
  },
  {
   "cell_type": "markdown",
   "metadata": {},
   "source": [
    "Repérer dans le code : \n",
    "1- Comment se fait l'écriture des nombres en indice d'une formule chimique\n",<br>
    "2- Comment le programme demande à l'utilisateur d'entrer la quantité de dihydrogène\n",
    "3- Comment le programme résoud le problème avec la condition if/elif/else"
   ]
  },
  {
   "cell_type": "markdown",
   "metadata": {},
   "source": [
    "## Compléter avec le code"
   ]
  },
  {
   "cell_type": "markdown",
   "metadata": {},
   "source": [
    "1- Compléter l'équation bilan\n",
    "2- Ecrire une ligne demandant à l'utilisateur la quantité de matière de dioxygène\n",
    "3- Repérer l'erreur et corriger le calcul de xmax"
   ]
  },
  {
   "cell_type": "code",
   "execution_count": null,
   "metadata": {},
   "outputs": [
    {
     "name": "stdout",
     "output_type": "stream",
     "text": [
      "Bonjour, nous allons étudier la réaction entre le dihydrogène et le diazote\n",
      "3H₂(g)    +    N₂(g)    --->     2NH₃(g)\n"
     ]
    }
   ],
   "source": [
    "# -*- coding: utf-8 -*-\n",
    "\"\"\"\n",
    "Created on Fri May  3 15:50:04 2019\n",
    "\n",
    "@author: piott\n",
    "\"\"\"\n",
    "#importation de bibilothèques\n",
    "\n",
    "## Bilan de matière de l'équation  : 3 H2 + N2 --> 2 NH3\n",
    "\n",
    "SUB = str.maketrans(\"0123456789\", \"₀₁₂₃₄₅₆₇₈₉\")\n",
    "\n",
    "print(\"Bonjour, nous allons étudier la réaction entre le dihydrogène et le diazote\")\n",
    "print(\"3\" + \"H\" + str(2).translate(SUB) + \"(g)\" + \"    +    \"+ \"N\"+ str(2).translate(SUB)+ \"(g)\"  + \"    --->    \", \"........)\n",
    "n1 = float(input(\"Entrez la valeur du volume de dihydrogène en mol :\"))\n",
    "\n",
    "##Création des variables de quantités de matières à compléter après:\n",
    "#n3=0\n",
    "\n",
    "##Hypothèse 1 : H2 est le réactif limitant + erreur à corriger sur le calcul de xmax\n",
    "if n1/3 < n2 :\n",
    "        xmax = n1/4\n",
    "        n1f=0\n",
    "        n2f = n2-xmax\n",
    "        n3f = 2*xmax\n",
    "        print(\"\")\n",
    "        print (\"Le dihydrogène est le réactif limitant.\")\n",
    "\n",
    "##Hypothèse 2 : N2 est le réactif limitant\n",
    "elif n1/3>n2 :\n",
    "        xmax = n2\n",
    "        n2f=0\n",
    "        n1f = n1-3*xmax\n",
    "        n3f = 2*xmax\n",
    "        print(\"\")\n",
    "        print (\"Le diazote est le réactif limitant.\")\n",
    "\n",
    "##Cas où le mélange est stoechimétrique      \n",
    "else :\n",
    "        xmax = n2\n",
    "        n1f=0\n",
    "        n2f = 0\n",
    "        n3f = 2*xmax\n",
    "        print(\"\")\n",
    "        print (\"Les réactifs ont été introduits dans les proportions stoechiométriques.\")\n",
    "\n",
    "print(\"\")\n",
    "##affichage de l'état du système à l'état final\n",
    "print(\"A l'état final, la quantité de matière de dihydrogène vaut :\",n1f,\"mol\")\n",
    "print(\"A l'état final, la quantité de matière de diazote vaut :\",n2f,\"mol\")\n",
    "print(\"A l'état final, la quantité de matière de d'ammoniac vaut :\",n3f,\"mol\")\n",
    "\n",
    "\n",
    "        "
   ]
  },
  {
   "cell_type": "code",
   "execution_count": null,
   "metadata": {},
   "outputs": [],
   "source": []
  }
 ],
 "metadata": {
  "kernelspec": {
   "display_name": "Python 3",
   "language": "python",
   "name": "python3"
  },
  "language_info": {
   "codemirror_mode": {
    "name": "ipython",
    "version": 3
   },
   "file_extension": ".py",
   "mimetype": "text/x-python",
   "name": "python",
   "nbconvert_exporter": "python",
   "pygments_lexer": "ipython3",
   "version": "3.7.3"
  }
 },
 "nbformat": 4,
 "nbformat_minor": 2
}
