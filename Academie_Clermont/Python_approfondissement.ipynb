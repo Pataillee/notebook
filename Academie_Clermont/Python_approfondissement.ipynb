{
 "cells": [
  {
   "cell_type": "markdown",
   "metadata": {
    "collapsed": false
   },
   "source": [
    "# Exercices pour aller plus loin\n",
    "\n",
    "## Exercice 1\n",
    "Question 1 Ecrire une fonction permettant de calculer la médiane d'une série ordonnées (donnée sous la forme d'une liste)."
   ]
  },
  {
   "cell_type": "code",
   "execution_count": 0,
   "metadata": {
    "collapsed": false
   },
   "outputs": [
   ],
   "source": [
   ]
  },
  {
   "cell_type": "markdown",
   "metadata": {
    "collapsed": false
   },
   "source": [
    "Exécuter les lignes de code ci-dessous et comprendre à quoi sert la méthode sort()."
   ]
  },
  {
   "cell_type": "code",
   "execution_count": 0,
   "metadata": {
    "collapsed": false
   },
   "outputs": [
   ],
   "source": [
    "l=[1,3,2]"
   ]
  },
  {
   "cell_type": "code",
   "execution_count": 0,
   "metadata": {
    "collapsed": false
   },
   "outputs": [
   ],
   "source": [
    "l.sort()"
   ]
  },
  {
   "cell_type": "code",
   "execution_count": 0,
   "metadata": {
    "collapsed": false
   },
   "outputs": [
   ],
   "source": [
    "l"
   ]
  },
  {
   "cell_type": "markdown",
   "metadata": {
    "collapsed": false
   },
   "source": [
    "Question 2 Ecrire une fonction permettant de calculer la médiane d'une série non ordonnée."
   ]
  },
  {
   "cell_type": "code",
   "execution_count": 0,
   "metadata": {
    "collapsed": false
   },
   "outputs": [
   ],
   "source": [
   ]
  },
  {
   "cell_type": "markdown",
   "metadata": {
    "collapsed": false
   },
   "source": [
    "Question 3 Ecrire une fonction permettant de calculer la médiane d'une série avec effectif. On considéra :\n",
    "* la liste des valeurs (non ordonnées)\n",
    "* la liste des effectifs"
   ]
  },
  {
   "cell_type": "code",
   "execution_count": 0,
   "metadata": {
    "collapsed": false
   },
   "outputs": [
   ],
   "source": [
   ]
  },
  {
   "cell_type": "markdown",
   "metadata": {
    "collapsed": false
   },
   "source": [
    "Question 4 Ecrire des fonctions permettant de déterminer les 1er et 3ème quartiles d'une série statistique."
   ]
  },
  {
   "cell_type": "code",
   "execution_count": 0,
   "metadata": {
    "collapsed": false
   },
   "outputs": [
   ],
   "source": [
   ]
  },
  {
   "cell_type": "markdown",
   "metadata": {
    "collapsed": false
   },
   "source": [
    "Question 5 Ecire une foncion qui renvoir l'écart inter-quartile de la série."
   ]
  },
  {
   "cell_type": "code",
   "execution_count": 0,
   "metadata": {
    "collapsed": false
   },
   "outputs": [
   ],
   "source": [
   ]
  },
  {
   "cell_type": "markdown",
   "metadata": {
    "collapsed": false
   },
   "source": [
    "## Exercice 2\n",
    "Exécuter plusieurs fois la commande suivante et l'interpréter."
   ]
  },
  {
   "cell_type": "code",
   "execution_count": 0,
   "metadata": {
    "collapsed": false
   },
   "outputs": [
   ],
   "source": [
    "from random import*\n",
    "randint(0,1)"
   ]
  },
  {
   "cell_type": "markdown",
   "metadata": {
    "collapsed": false
   },
   "source": [
    "On lance 100 fois de suite une pièce de monnaie équilibrée et on note le côté obtenu à chaque lancer.\n",
    "Ecrire une fonction simulant cette expérience (le résultat sera la liste obtenue par le joueur)"
   ]
  },
  {
   "cell_type": "code",
   "execution_count": 0,
   "metadata": {
    "collapsed": false
   },
   "outputs": [
   ],
   "source": [
   ]
  },
  {
   "cell_type": "markdown",
   "metadata": {
    "collapsed": false
   },
   "source": [
    "Ecrire une fonction calculant la fréquence d'apparition de Pile."
   ]
  },
  {
   "cell_type": "code",
   "execution_count": 0,
   "metadata": {
    "collapsed": false
   },
   "outputs": [
   ],
   "source": [
   ]
  },
  {
   "cell_type": "markdown",
   "metadata": {
    "collapsed": false
   },
   "source": [
    "## Exercice 3\n",
    "Exécuter la commande ci-dessous plusieurs fois et interpréter."
   ]
  },
  {
   "cell_type": "code",
   "execution_count": 0,
   "metadata": {
    "collapsed": false
   },
   "outputs": [
   ],
   "source": [
    "random()"
   ]
  },
  {
   "cell_type": "markdown",
   "metadata": {
    "collapsed": false
   },
   "source": [
    "Un commerçant vend des pâtes de fruits dans des boites avec deux parfums différents : framboise et abricot.\n",
    "\n",
    "Dans chaque boite, 60 % des pâtes de fruits sont à l'abricot et 40 % sont à la framboise.\n",
    "\n",
    "1. Une expérience aléatoire consiste à choisir une pâte de fruit au hasard dans une boite et noter le parfum.\n",
    "\n",
    "Ecrire une fonction parfum qui simule l'expérience décrite ci-dessus et qui donne pour résultat le parfum de la pâte de fruit choisi."
   ]
  },
  {
   "cell_type": "code",
   "execution_count": 0,
   "metadata": {
    "collapsed": false
   },
   "outputs": [
   ],
   "source": [
   ]
  },
  {
   "cell_type": "markdown",
   "metadata": {
    "collapsed": false
   },
   "source": [
    "2. On répète l'expérience 100 fois de suite. Ecrire une fonction donnant la fréquence d'apparition du parfum framboise."
   ]
  },
  {
   "cell_type": "code",
   "execution_count": 0,
   "metadata": {
    "collapsed": false
   },
   "outputs": [
   ],
   "source": [
   ]
  },
  {
   "cell_type": "markdown",
   "metadata": {
    "collapsed": false
   },
   "source": [
    "## Exercice 4\n",
    "On considère un dé à 6 faces parfait et 3 urnes numérotées de 1 à 3. \n",
    "\n",
    "* L'urne 1 contient 3 boules blanches, 4 boules noires et 3 boules vertes. \n",
    "* L'urne 2 contient 2 boules blanches, 2 boules noires et 6 boules vertes. \n",
    "* L'urne 3 contient 4 boules blanches, 4 boules noires et 2 boules vertes. \n",
    "\n",
    "Toutes ces boules sont indiscernables au toucher. \n",
    "On considère l'expérience aléatoire qui consiste à lancer d'abord le dé puis : \n",
    "\n",
    "\n",
    "* Si le numéro est 1 ou 2, on tire une boule dans l'urne n°1 \n",
    "* Si le numéro est 3, 4 ou 5 on tire une boule dans l'urne n°2 \n",
    "* Sinon, on tire une boule dans l'urne n°3. \n",
    "\n",
    "1. Écrire un algorithme modélisant le lancer du dé, suivi du tirage d'une boule dans l'une des 3 urnes et le programmer sous Python. "
   ]
  },
  {
   "cell_type": "code",
   "execution_count": 0,
   "metadata": {
    "collapsed": false
   },
   "outputs": [
   ],
   "source": [
   ]
  },
  {
   "cell_type": "markdown",
   "metadata": {
    "collapsed": false
   },
   "source": [
    "2. Écrire une fonction permettant d'obtenir la fréquence d'apparition d'une boule blanche, d'une boule noire et d'une boule verte lors de n répétitions."
   ]
  },
  {
   "cell_type": "code",
   "execution_count": 0,
   "metadata": {
    "collapsed": false
   },
   "outputs": [
   ],
   "source": [
   ]
  },
  {
   "cell_type": "markdown",
   "metadata": {
    "collapsed": false
   },
   "source": [
    "## Exercice 5\n",
    "On définit la suite de Collatz de la manière suivante : \n",
    "\n",
    "* On se donne un entier $u_{0}$ strictement positif.\n",
    "* Pour tout entier $n\\ge 1$ , on calcule $u_{n+1}$ en fonction de $u_{n}$ de la manière suivante : \n",
    "    * Si $u_{n}$ est pair, on a $u_{n+1}=\\displaystyle\\frac{u_{n}}{2}$\n",
    "    * Si $u_{n}$ est impair, on a $u_{n+1}=3u_{n}+1$\n",
    "Ecrire une fonction retournant la liste de tous les termes jusqu'au rang $n$ de cette suite avec comme paramètre : $u_{0}$ le premier terme et $n$ le terme désiré."
   ]
  },
  {
   "cell_type": "code",
   "execution_count": 0,
   "metadata": {
    "collapsed": false
   },
   "outputs": [
   ],
   "source": [
   ]
  },
  {
   "cell_type": "markdown",
   "metadata": {
    "collapsed": false
   },
   "source": [
    "## Correction\n",
    "Exercice 1\n",
    "Question 1 Le piège est dans l'indiçage à partir de 0 pour le logiciel.\n",
    "```python\n",
    "def mediane(valeurs):\n",
    "    n=len(valeurs)\n",
    "    if n%2==0:\n",
    "        return (valeurs[n//2-1]+valeurs[n//2])/2\n",
    "    else:\n",
    "        return valeurs[n//2]\n",
    "```\n",
    "Question 2\n",
    "```python\n",
    "def mediane(valeurs):\n",
    "    valeurs.sort()\n",
    "    n=len(valeurs)\n",
    "    if n%2==0:\n",
    "        return (valeurs[n//2-1]+valeurs[n//2])/2\n",
    "    else:\n",
    "        return valeurs[n//2]\n",
    "```\n",
    "\n",
    "Question 3\n",
    "Il faut reconstituer la liste des valeurs en prenant en compte la répétition en fonction de l'effectif.\n",
    "```python\n",
    "def mediane(valeurs,effectifs):\n",
    "    toutesvaleurs=[]\n",
    "    for k in range(len(valeurs)):\n",
    "        for i in range(effectifs[k]):\n",
    "            toutesvaleurs=toutesvaleurs+[valeurs[k]]\n",
    "    toutesvaleurs.sort()\n",
    "    n=len(toutesvaleurs)\n",
    "    if n%2==0:\n",
    "        return (toutesvaleurs[n//2-1]+toutesvaleurs[n//2])/2\n",
    "    else:\n",
    "        return toutesvaleurs[n//2]\n",
    "```\n",
    "On peut aussi utiliser la commande suivante pour la concaténation de deux listes :\n",
    "```python\n",
    "toutesvaleurs.append(valeurs[k])\n",
    "```\n",
    "\n",
    "Question 4\n",
    "```python\n",
    "def quartile1(valeurs,effectifs):\n",
    "    toutesvaleurs=[]\n",
    "    for k in range(len(valeurs)):\n",
    "        for i in range(effectifs[k]):\n",
    "            toutesvaleurs=toutesvaleurs+[valeurs[k]]\n",
    "    toutesvaleurs.sort()\n",
    "    return toutesvaleurs[len(toutesvaleurs)//4]\n",
    "\n",
    "def quartile3(valeurs,effectifs):\n",
    "    toutesvaleurs=[]\n",
    "    for k in range(len(valeurs)):\n",
    "        for i in range(effectifs[k]):\n",
    "            toutesvaleurs=toutesvaleurs+[valeurs[k]]\n",
    "    toutesvaleurs.sort()\n",
    "    return toutesvaleurs[(3*len(toutesvaleurs))//4]\n",
    "```\n",
    "\n",
    "Question 5\n",
    "Conservons la base du dernier algorithme, mais on pourrait faire les adaptations sur n'importe lequel des deux autres de manière similaire.\n",
    "```python\n",
    "def interquartile(valeurs,effectifs):\n",
    "    q1=quartile1(valeurs,effectifs)\n",
    "    q3=quartile3(valeurs,effectifs)\n",
    "    return q3-q1\n",
    "```\n",
    "\n",
    "Exercice 2\n",
    "Question 1 \n",
    "```python\n",
    "from random import*\n",
    "def lancer():\n",
    "    l=[]\n",
    "    for k in range(100):\n",
    "        l=l+[randint(0,1)]\n",
    "    return l\n",
    "```\n",
    "\n",
    "Question 2 \n",
    "```python\n",
    "from random import*\n",
    "def frequence():\n",
    "    compteur=0\n",
    "    for k in range(100):\n",
    "        if randint(0,1)==1:\n",
    "            else compteur=compteur+1\n",
    "    return comtpeur/100\n",
    "```\n",
    "\n",
    "Exercice 3\n",
    "Question 1 \n",
    "```python\n",
    "from random import*\n",
    "def choix():\n",
    "    if random()<0.4:\n",
    "        return \"framboise\"\n",
    "    else:\n",
    "        return \"abricots\"\n",
    "```\n",
    "Question 2\n",
    "```python\n",
    "def frequence():\n",
    "    compteur=0\n",
    "    for k in range(100):\n",
    "        if random()<0.4:\n",
    "            compteur=compteur+1\n",
    "    return compteur/100\n",
    "```\n",
    "\n",
    "Exercice 4\n",
    "Question 1 \n",
    "```python\n",
    "from random import*\n",
    "def experience():\n",
    "    de=randint(1,6)\n",
    "    if de==1 or de==2:\n",
    "        boule=random()\n",
    "        if boule<0.3:\n",
    "            return \"blanche\"\n",
    "        elif boule<0.6:\n",
    "            return \"verte\"\n",
    "        else:\n",
    "            return \"noire\"\n",
    "    elif de==6:\n",
    "        boule=random()\n",
    "        if boule<0.4:\n",
    "            return \"blanche\"\n",
    "        elif boule<0.6:\n",
    "            return \"verte\"\n",
    "        else:\n",
    "            return \"noire\"\n",
    "    else:\n",
    "        boule=random()\n",
    "        if boule<0.3:\n",
    "            return \"blanche\"\n",
    "        elif boule<0.8:\n",
    "            return \"verte\"\n",
    "        else:\n",
    "            return \"noire\"\n",
    "```\n",
    "\n",
    "Question 2\n",
    "```python\n",
    "def frequence(n):\n",
    "    listeBNV=[0,0,0]\n",
    "    for k in range(n):\n",
    "        exp=experience()\n",
    "        if exp==\"blanche\":\n",
    "            listeBNV[0]=listeBNV[0]+1\n",
    "        elif exp==\"verte\":\n",
    "            listeBNV[2]=listeBNV[2]+1\n",
    "        else:\n",
    "            listeBNV[1]=listeBNV[1]+1\n",
    "    for k in range(3):\n",
    "        listeBNV[k]=listeBNV[k]/n\n",
    "    return listeBNV\n",
    "```\n",
    "\n",
    "\n",
    "Exercice 5\n",
    "```python\n",
    "def collatz(u,n):\n",
    "    l=[u]\n",
    "    for k in range(n):\n",
    "        if u%2==0:\n",
    "            u=u/2\n",
    "        else:\n",
    "            u=3*u+1\n",
    "        l=l+[u]\n",
    "    return l\n",
    "```"
   ]
  }
 ],
 "metadata": {
  "kernelspec": {
   "display_name": "Python 3 (Ubuntu Linux)",
   "language": "python",
   "metadata": {
    "cocalc": {
     "description": "Python 3 programming language",
     "priority": 100,
     "url": "https://www.python.org/"
    }
   },
   "name": "python3"
  }
 },
 "nbformat": 4,
 "nbformat_minor": 0
}