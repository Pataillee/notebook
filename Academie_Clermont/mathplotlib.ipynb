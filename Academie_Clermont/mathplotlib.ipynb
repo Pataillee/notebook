{
 "cells": [
  {
   "cell_type": "markdown",
   "metadata": {
    "collapsed": false
   },
   "source": [
    "# La bilbiothèque Matplotlib\n",
    "Cette bibliothèque permet de travailler dans un repère et de tracer toute sorte d'objets.\n",
    "\n",
    "## Tracer des points\n",
    "Pour tracer des points avec matplotlib, on a besoin de la commande plot() du module pyplot (=\"Python Plot\") de la bibliothèque matplotlib. \n",
    "On fournit non pas la liste des coordonnées de ces points, mais **la liste des abscisses de ces points ET la liste des ordonnées de ces points**.\n",
    "\n",
    "Exemple: Les lignes de code ci-dessous permettent de tracer les points de coordonnées (-1;2), (0;3), (2;4) et (5;-2)"
   ]
  },
  {
   "cell_type": "code",
   "execution_count": 0,
   "metadata": {
    "collapsed": false
   },
   "outputs": [
   ],
   "source": [
    "from matplotlib.pyplot import*\n",
    "x=[-1,0,2,5]\n",
    "y=[2,3,4,-2]\n",
    "plot(x,y,\".\")\n",
    "show()"
   ]
  },
  {
   "cell_type": "markdown",
   "metadata": {
    "collapsed": false
   },
   "source": [
    "Par ailleurs, on peut :\n",
    "* imposer les dimensions de la fenêtre à l'aide des instructions xlim() et ylim()\n",
    "* donner un titre à la courbe avec title( )\n",
    "* nommer les axes avec label( )\n",
    "* afficher une grille avec grid()"
   ]
  },
  {
   "cell_type": "code",
   "execution_count": 0,
   "metadata": {
    "collapsed": false
   },
   "outputs": [
   ],
   "source": [
    "xlim(-2,6)\n",
    "ylim(-3,5)\n",
    "title(\"nuage de points\")\n",
    "xlabel(\"abscisses\")\n",
    "ylabel(\"ordonnées\")\n",
    "grid()\n",
    "plot(x,y,\"+\")\n",
    "savefig(\"graphique2.png\")\n",
    "show()"
   ]
  },
  {
   "cell_type": "markdown",
   "metadata": {
    "collapsed": false
   },
   "source": [
    "*L'instruction savefig() permet d'effectuer une sauvegarde dans le même fichier racine dans le cas d'une utilisation d'un fichier en local.*\n",
    "\n",
    "*L'instruction show() est bloquante sur la figure. C'est pourquoi elle figure généralement une seule fois et à la fin du script.*"
   ]
  },
  {
   "cell_type": "markdown",
   "metadata": {
    "collapsed": false
   },
   "source": [
    "## Tracer une ligne brisée\n",
    "C'est très simple, car par défaut, l'instruction plot() relie les points par des segments!\n",
    "\n",
    "Il suffit donc d'écrire plot(x,y). Python va construire les points précédents et va automatiquement les relier"
   ]
  },
  {
   "cell_type": "code",
   "execution_count": 0,
   "metadata": {
    "collapsed": false
   },
   "outputs": [
   ],
   "source": [
    "xlim(-2,6)\n",
    "ylim(-3,5)\n",
    "title(\"nuage de points\")\n",
    "xlabel(\"abscisses\")\n",
    "ylabel(\"ordonnées\")\n",
    "grid()\n",
    "plot(x,y)\n",
    "show()"
   ]
  },
  {
   "cell_type": "markdown",
   "metadata": {
    "collapsed": false
   },
   "source": [
    "## Exercice 1\n",
    "1. Dessiner le triangle ABC avec A(0, 0), B(1, 1) et C(-1, 1)."
   ]
  },
  {
   "cell_type": "code",
   "execution_count": 0,
   "metadata": {
    "collapsed": false
   },
   "outputs": [
   ],
   "source": [
   ]
  },
  {
   "cell_type": "markdown",
   "metadata": {
    "collapsed": false
   },
   "source": [
    "2. Dessiner le carré ABCD avec A(0, 0), B(1, 0) et C(1, 1) et D(0,1).\n",
    "\n",
    "Pour faire figurer les lettres sur le carré, on pourra utiliser la fonction :\n",
    "\n",
    "```python\n",
    "text(abscisse_début_du_texte, ordonnée_début_du_texte, \"texte_à_écrire\")\n",
    "```\n",
    "\n",
    "Pour obtenir un \"beau\" carré il peut être utile de fixer la taille de la figure initiale puis de tracer à l'intérieur. La commande est : \n",
    "```python\n",
    "figure(figsize = (largeur, hauteur))\n",
    "```"
   ]
  },
  {
   "cell_type": "code",
   "execution_count": 0,
   "metadata": {
    "collapsed": false
   },
   "outputs": [
   ],
   "source": [
   ]
  },
  {
   "cell_type": "markdown",
   "metadata": {
    "collapsed": false
   },
   "source": [
    "## Exercice 2\n",
    "Exécuter les lignes ci-dessous et interpéter."
   ]
  },
  {
   "cell_type": "code",
   "execution_count": 0,
   "metadata": {
    "collapsed": false
   },
   "outputs": [
   ],
   "source": [
    "from matplotlib.pyplot import*\n",
    "def euler(h,n):\n",
    "    x=1\n",
    "    y=0\n",
    "    scatter(x,y,s=10)\n",
    "    for k i,n range(1,n):\n",
    "        y=h/x+y\n",
    "        x=1+k*h\n",
    "        scatter(x,y,s=10)\n",
    "    show()"
   ]
  },
  {
   "cell_type": "markdown",
   "metadata": {
    "collapsed": false
   },
   "source": [
    "*L'instruction scatter permet d'afficher un nuage de points, le paramètre s correspondant à l'épaisseur des points.*"
   ]
  },
  {
   "cell_type": "markdown",
   "metadata": {
    "collapsed": false
   },
   "source": [
    "## Exercice 3\n",
    "Exécuter les lignes ci-dessous et interpréter."
   ]
  },
  {
   "cell_type": "code",
   "execution_count": 19,
   "metadata": {
    "collapsed": false
   },
   "outputs": [
    {
     "data": {
      "image/png": "[encoded data removed]",
      "text/plain": [
       "<Figure size 432x288 with 1 Axes>"
      ]
     },
     "execution_count": 19,
     "metadata": {
      "image/png": {
       "height": 252,
       "width": 382
      }
     },
     "output_type": "execute_result"
    }
   ],
   "source": [
    "from numpy import*\n",
    "x=linspace(0,2*np.pi,30)\n",
    "y=cos(x)\n",
    "plot(x,y)\n",
    "grid()\n",
    "ylim(-2,2)\n",
    "show()"
   ]
  },
  {
   "cell_type": "markdown",
   "metadata": {
    "collapsed": false
   },
   "source": [
    "*L'instruction linspace permet de créer une subdivision d'un intervalle en un noombre fixé d'intervalle*\n",
    "```python\n",
    "linspace(borne_inf,borne_sup,nombre_intervalles)\n",
    "```\n",
    "\n",
    "**A vous de jouer** : Tracer la courbe représentative de la fonction définie sur $[-3;3]$ par $f(x)=-x^{2}+1$."
   ]
  },
  {
   "cell_type": "code",
   "execution_count": 0,
   "metadata": {
    "collapsed": false
   },
   "outputs": [
   ],
   "source": [
   ]
  },
  {
   "cell_type": "markdown",
   "metadata": {
    "collapsed": false
   },
   "source": [
    "## Correction\n",
    "Exercice 1\n",
    "1. Le piège réside dans le tracé du dernier segment !\n",
    "```python\n",
    "from matplotlib.pyplot import*\n",
    "x=[0,1,-1,0]\n",
    "y=[0,1,1,0]\n",
    "plot(x,y)\n",
    "show()\n",
    "```\n",
    "2. \n",
    "```python\n",
    "from matplotlib.pyplot import*\n",
    "x=[0,1,1,0,0]\n",
    "y=[0,0,1,1,0]\n",
    "figure(figsize = (8, 8))\n",
    "xlim(-0.5,1.5)\n",
    "ylim(-0.5,1.5)\n",
    "text(-0.1,-0.1,\"A\")\n",
    "text(1.1,-0.1,\"B\")\n",
    "text(1.1,1.1,\"C\")\n",
    "text(-0.1,1.1,\"D\")\n",
    "plot(x,y)\n",
    "show()\n",
    "```\n",
    "\n",
    "Exercice 2 : cette exercice met en oeuvre l'algorithme d'Euler pour déterminer la courbe représentative approchée d'une primitive. Il y aurait d'autres méthodes en utilisant deux listes et la fonction plot pour relier par des segments le nuage de points.\n",
    "\n",
    "Exercice 3\n",
    "```python\n",
    "x=linspace(-3,3,30)\n",
    "y=-x**2+1\n",
    "plot(x,y)\n",
    "grid()\n",
    "ylim(-10,3)\n",
    "show()\n",
    "```"
   ]
  }
 ],
 "metadata": {
  "kernelspec": {
   "display_name": "Python 3 (Ubuntu Linux)",
   "language": "python",
   "metadata": {
    "cocalc": {
     "description": "Python 3 programming language",
     "priority": 100,
     "url": "https://www.python.org/"
    }
   },
   "name": "python3"
  },
  "language_info": {
   "codemirror_mode": {
    "name": "ipython",
    "version": 3
   },
   "file_extension": ".py",
   "mimetype": "text/x-python",
   "name": "python",
   "nbconvert_exporter": "python",
   "pygments_lexer": "ipython3",
   "version": "3.6.7"
  }
 },
 "nbformat": 4,
 "nbformat_minor": 0
}