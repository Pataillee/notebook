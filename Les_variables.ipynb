{
  "nbformat": 4,
  "nbformat_minor": 0,
  "metadata": {
    "colab": {
      "name": "Les variables.ipynb",
      "version": "0.3.2",
      "provenance": [],
      "collapsed_sections": [],
      "include_colab_link": true
    },
    "kernelspec": {
      "display_name": "Python 3",
      "name": "python3"
    }
  },
  "cells": [
    {
      "cell_type": "markdown",
      "metadata": {
        "id": "view-in-github",
        "colab_type": "text"
      },
      "source": [
        "<a href=\"https://colab.research.google.com/github/gitmagistere/notebook/blob/master/Les_variables.ipynb\" target=\"_parent\"><img src=\"https://colab.research.google.com/assets/colab-badge.svg\" alt=\"Open In Colab\"/></a>"
      ]
    },
    {
      "cell_type": "markdown",
      "metadata": {
        "colab_type": "text",
        "id": "-pVhOfzLx9us"
      },
      "source": [
        "# Commencer à programmer en Python\n",
        "\n"
      ]
    },
    {
      "cell_type": "code",
      "metadata": {
        "colab_type": "code",
        "id": "3VQqVi-3ScBC",
        "colab": {}
      },
      "source": [
        ""
      ],
      "execution_count": 0,
      "outputs": []
    },
    {
      "cell_type": "markdown",
      "metadata": {
        "id": "Nw1H5_ARno1N",
        "colab_type": "text"
      },
      "source": [
        "# **1 - Les variables**\n",
        "Pour écrire un programme, il faut enregistrer les données nécessaires au traitement dans des espaces mémoires. Les variables désignent des emplacements de stockage. Dans un programme, elles sont repérées par des noms et prennent des valeurs qui peuvent évoluer au cours du temps.\n",
        "Une variable stocke une valeur dans un espace de la mémoire de l’ordinateur. Elle est désignée par un nom.\n",
        "Des valeurs sont aﬀectées aux variables pendant l’exécution du programme. En Python, on aﬀecte une valeur à une variable à l’aide du signe « = ».\n",
        "\n",
        "Une variable peut contenir des valeurs de diﬀérents types comme :\n",
        "\n",
        "– des nombres entiers (int) ;\n",
        "\n",
        "– des nombres décimaux, appelés aussi « ﬂottants » (ﬂoat) ;\n",
        "\n",
        "– des textes, appelés « chaînes de caractères » (str)."
      ]
    },
    {
      "cell_type": "markdown",
      "metadata": {
        "id": "uQhaQ5lGrn2l",
        "colab_type": "text"
      },
      "source": [
        "Les différents types de variables"
      ]
    },
    {
      "cell_type": "code",
      "metadata": {
        "id": "NrGqAm6Jd4b9",
        "colab_type": "code",
        "colab": {}
      },
      "source": [
        "entier1=2\n",
        "flottant=3.147\n",
        "texte=\"salut\"\n",
        "entier2=int(2.13)"
      ],
      "execution_count": 0,
      "outputs": []
    },
    {
      "cell_type": "markdown",
      "metadata": {
        "id": "K2UDwzlbs7I_",
        "colab_type": "text"
      },
      "source": [
        "# 2 - Les instructions élémentaires\n",
        "\n",
        "\n",
        "### >a) les opérations sur les variables\n",
        "\n",
        "\n",
        "À chaque variable est associé un ensemble d’opérations qui dépendent de son type (opérations mathématiques sur les nombres, longueur des chaînes de caractères, etc.). Un opérateur permet d’eﬀectuer des opérations ou d’agir sur les variables.\n",
        "\n",
        "*Remarque : Les opérations sur les variables respectent les règles de priorité mathématique*\n",
        "\n",
        "### >b) Les instructions d’entrée et de sortie\n",
        "\n",
        "Une instruction d’entrée permet à un programme de lire des valeurs saisies au clavier par l’utilisateur. Une instruction de sortie aﬃche les valeurs de variables à l’écran. En Python, l’instruction d’entrée « **input** » permet d’aﬀecter la valeur saisie dans une variable. L’instruction de sortie « print » permet d’aﬃcher à \n",
        "l’écran la valeur des variables. L’instruction « **input** » permet d’obtenir des chaînes de caractères. Si on veut saisir un entier, il faut alors utiliser en plus l’instruction « **int** ». \n",
        "\n",
        "**Exemple** : quelques opérateurs en Python.\n",
        "\n"
      ]
    },
    {
      "cell_type": "code",
      "metadata": {
        "id": "6qhD7gL4ubEm",
        "colab_type": "code",
        "outputId": "8451d8df-1dad-4da5-c5c3-57bb883def49",
        "colab": {
          "base_uri": "https://localhost:8080/",
          "height": 34
        }
      },
      "source": [
        "a=4\n",
        "b=2\n",
        "c=\"Bonjour à tous !\"\n",
        "somme=a+b\n",
        "produit=a*b\n",
        "cube=a**3\n",
        "division=a/b\n",
        "longueur=len(c)"
      ],
      "execution_count": 0,
      "outputs": [
        {
          "output_type": "stream",
          "text": [
            "2.0\n"
          ],
          "name": "stdout"
        }
      ]
    },
    {
      "cell_type": "code",
      "metadata": {
        "id": "o-DesRWVvhm3",
        "colab_type": "code",
        "outputId": "ad028e91-61bc-4200-db03-6adb9838b452",
        "colab": {
          "base_uri": "https://localhost:8080/",
          "height": 52
        }
      },
      "source": [
        "nombre=int(input(\"nombre?\"))\n",
        "print(nombre)"
      ],
      "execution_count": 0,
      "outputs": [
        {
          "output_type": "stream",
          "text": [
            "nombre?3\n",
            "3\n"
          ],
          "name": "stdout"
        }
      ]
    },
    {
      "cell_type": "markdown",
      "metadata": {
        "id": "knIFPR2Mwjrh",
        "colab_type": "text"
      },
      "source": [
        "**Exercice 1 :**\n",
        "\n",
        "\n",
        "Pour passer d’un pixel couleur codé en RVB (mélange des trois couleurs rouge, vert, bleu) à un pixel en une nuance de gris, on utilise la formule suivante : \n",
        "\n",
        "\n",
        "---\n",
        "\n",
        "\n",
        "**G = 0,11 × R + 0,83 × V + 0,06 × B**\n",
        "\n",
        "\n",
        "---\n",
        "\n",
        "\n",
        "\n",
        "Écrire le programme qui permet de passer les valeurs RVB d’un pixel en niveau de gris."
      ]
    },
    {
      "cell_type": "code",
      "metadata": {
        "id": "be7PvSTo4QFA",
        "colab_type": "code",
        "colab": {}
      },
      "source": [
        ""
      ],
      "execution_count": 0,
      "outputs": []
    },
    {
      "cell_type": "code",
      "metadata": {
        "id": "e40hdnfC3i9d",
        "colab_type": "code",
        "outputId": "1384cc27-c0fc-4751-f77c-714b673eb031",
        "colab": {
          "base_uri": "https://localhost:8080/",
          "height": 86
        }
      },
      "source": [
        "R=int(input(\"Rouge=\"))\n",
        "V=int(input(\"Vert=\"))\n",
        "B=int(input(\"Bleu=\"))\n",
        "G=int(0.11*R+0.83*V+0.06*B)\n",
        "print(\"G=\",G)"
      ],
      "execution_count": 0,
      "outputs": [
        {
          "output_type": "stream",
          "text": [
            "Rouge=255\n",
            "Vert=23\n",
            "Bleu=35\n",
            "G= 49\n"
          ],
          "name": "stdout"
        }
      ]
    }
  ]
}