{
 "cells": [
  {
   "cell_type": "markdown",
   "metadata": {},
   "source": [
    "<h1>Une progression d'exercices pour le stage </h1>"
   ]
  },
  {
   "cell_type": "markdown",
   "metadata": {},
   "source": [
    "<h2>Opérations, constantes,affectation</h2>"
   ]
  },
  {
   "cell_type": "markdown",
   "metadata": {},
   "source": [
    "<h3>Exercice 1</h3>Soit la fonction $f$ définie sur $\\mathbb{R}$ par $f(x) = -2x+3$.<br/> "
   ]
  },
  {
   "cell_type": "markdown",
   "metadata": {},
   "source": [
    "1) Écrire un script qui permet de calculer l'image de 10."
   ]
  },
  {
   "cell_type": "code",
   "execution_count": null,
   "metadata": {},
   "outputs": [],
   "source": [
    "#Il n'y a que des affectations à faire ici\n",
    "antecedent = 10#On affecte un entier à la variable antécédent\n",
    "image = -2*antecedent+3#On affecte le résultat d'une évaluation d'expression à la variable image\n",
    "reponse = (antecedent,image)#reponse est un tuple\n",
    "reponse"
   ]
  },
  {
   "cell_type": "markdown",
   "metadata": {},
   "source": [
    "2) Le code suivant permet de générer aléatoirement un entier compris entre 5 et 36 inclus.\n",
    "\n",
    "\n",
    "<code>\n",
    "from random import randint # On importe la fonction randint de la bibliothèque random\n",
    "randint(5,36)\n",
    "</code>\n",
    "\n",
    "\n",
    "Écrire un script qui permet de calculer et d'afficher l'image d'un nombre aléatoire compris entre -10 et 11 inclus."
   ]
  },
  {
   "cell_type": "code",
   "execution_count": null,
   "metadata": {
    "collapsed": true
   },
   "outputs": [],
   "source": [
    "#Saisir le code ici\n",
    "from random import randint\n",
    "antecedent = randint(5,36)  #On affecte un entier aléatoire entre 5 et 36 à la variable antécédent\n",
    "image = -2*antecedent+3     #On affecte le résultat d'une évaluation d'expression à la variable image\n",
    "reponse = (antecedent,image)#reponse est un tuple\n",
    "reponse"
   ]
  },
  {
   "cell_type": "markdown",
   "metadata": {},
   "source": [
    "<h3>Exercice 2</h3>Écrire un script qui calcule l'aire d'un disque de rayon 25 en faisant afficher le résultat arrondi au centième.\n"
   ]
  },
  {
   "cell_type": "code",
   "execution_count": null,
   "metadata": {
    "collapsed": true,
    "scrolled": true
   },
   "outputs": [],
   "source": [
    "#On importe la constante pi de la bilbliothèque math\n",
    "from math import pi\n",
    "rayon = 25\n",
    "aire = pi**2*rayon\n",
    "'{:.2f}'.format(aire)# Une chaîne formatée :  arrondi de aire au centième"
   ]
  },
  {
   "cell_type": "markdown",
   "metadata": {},
   "source": [
    "<h3>Exercice 3</h3>Soit $A(2;-3)$ et $B(5;4)$.<br/>\n",
    "Écrire un script qui calcule la distance $AB$."
   ]
  },
  {
   "cell_type": "code",
   "execution_count": null,
   "metadata": {
    "collapsed": true
   },
   "outputs": [],
   "source": [
    "#On importe la fonction sqrt de la bilbliothèque math\n",
    "from math import sqrt"
   ]
  },
  {
   "cell_type": "code",
   "execution_count": null,
   "metadata": {
    "collapsed": true
   },
   "outputs": [],
   "source": [
    "#Une solution utilisant les tuples\n",
    "xA, yA, xB, yB = 2,-3,5,4 # Affectation multiple\n",
    "AB = sqrt((xB-xA)**2+(yB-yA)**2)\n",
    "AB\n"
   ]
  },
  {
   "cell_type": "markdown",
   "metadata": {},
   "source": [
    "<h3>Exercice 4</h3>Écrire un script qui convertit en heures, minutes et secondes 813698 secondes. Afficher le résultat sous la forme hh:mm:ss."
   ]
  },
  {
   "cell_type": "code",
   "execution_count": null,
   "metadata": {
    "collapsed": true,
    "scrolled": false
   },
   "outputs": [],
   "source": [
    "d = 813698\n",
    "h = d // 3600 #\n",
    "d = d % 3600  #\n",
    "m = d//60     \n",
    "s = d%60\n",
    "'{}h:{}m:{}s'.format(h,m,s) #\n"
   ]
  },
  {
   "cell_type": "markdown",
   "metadata": {},
   "source": [
    "<h3>Exercice 5</h3>Le script ci-dessous génère une liste de taille aléatoire de notes comprises entre 0 et 20. Exécuter la cellule suivante pour générer une telle liste."
   ]
  },
  {
   "cell_type": "code",
   "execution_count": null,
   "metadata": {
    "collapsed": true
   },
   "outputs": [],
   "source": [
    "from random import randint\n",
    "notes = [randint(10,20) for i in range(randint(1,20))]\n",
    "#Décomenter la ligne suivante pour voir la liste générée.\n",
    "notes "
   ]
  },
  {
   "cell_type": "markdown",
   "metadata": {},
   "source": [
    "Écrire dans la cellule ci-dessous un script  qui permet de calculer la moyenne des notes quelle que soit la liste gégérée."
   ]
  },
  {
   "cell_type": "code",
   "execution_count": null,
   "metadata": {
    "collapsed": true,
    "scrolled": true
   },
   "outputs": [],
   "source": [
    "#Une Solution\n",
    "moyenne = sum(notes)/len(notes)\n",
    "moyenne"
   ]
  },
  {
   "cell_type": "markdown",
   "metadata": {},
   "source": [
    "<h3>Exercice 6</h3>\n",
    "Les fonctions <code>min(a)</code> et  <code>max(a)</code> donnent respectivement le minimun et le maximum de la liste a.\n",
    "\n",
    "Écrire un script qui affiche en une phrase la liste de notes générée à l'exercice 5, son minimum, son maximum et sa moyenne."
   ]
  },
  {
   "cell_type": "code",
   "execution_count": null,
   "metadata": {
    "collapsed": true,
    "scrolled": true
   },
   "outputs": [],
   "source": [
    "print(\"Pour la liste notes ={} : \\nla valeur maximale est {},\\\n",
    "\\nla valeur minimale est {}, \\net la moyenne, arrondie au \\\n",
    "centième, est {:.2f}.\".format(notes,max(notes),min(notes),moyenne))"
   ]
  },
  {
   "cell_type": "code",
   "execution_count": null,
   "metadata": {
    "collapsed": true
   },
   "outputs": [],
   "source": [
    "def remplace_point(nombre):\n",
    "    m = '{:.3g}'.format(moyenne)\n",
    "    m_aff =''\n",
    "    for c in m :\n",
    "        if c !='.':\n",
    "            m_aff += c\n",
    "        else :\n",
    "            m_aff += ','\n",
    "    return m_aff\n",
    "print(remplace_point(moyenne))"
   ]
  },
  {
   "cell_type": "markdown",
   "metadata": {},
   "source": [
    "<h3>Exercice 7</h3>Reprendre l'exercice 3 sachant que les coordonnées des points $A$ et $B$ sont saisies au clavier par l'utilisateur."
   ]
  },
  {
   "cell_type": "code",
   "execution_count": null,
   "metadata": {
    "collapsed": true
   },
   "outputs": [],
   "source": [
    "xA, yA = (int(input('xA = ')),int(input('yA = ')))\n",
    "xB, yB = (int(input('xB = ')),int(input('yB = ')))\n",
    "AB =  sqrt((xB-xA)**2+(yB-yA)**2)\n",
    "print(\"Une valeur approchée au centième de la distance entre A et B : \",'{:.2f}'.format(AB))"
   ]
  },
  {
   "cell_type": "markdown",
   "metadata": {},
   "source": [
    "<h3>Exercice 8</h3>Un joueur joue avec deux dés équilibrés à 6 faces numérotées de 1 à 6. La règle du jeu est la suivante :\n",
    "\n",
    "<ul>\n",
    "\n",
    "<li>Si la somme est un nombre pair alors le joueur gagne 2 euros.</li>\n",
    "<li>Si la sommme est un nombre impair multiple de 3 alors il gagne 5 euros. </li>\n",
    "<li>Dans les autres cas il perd 5 euros.</li>\n",
    "\n",
    "</ul>\n",
    "\n",
    "Pour jouer une partie le joueur doit miser 1 euro.<br/>\n",
    "<ol>\n",
    "<li>Écrire un algorithme qui permet de calculer le gain possible d'un joueur dans une partie.</li>\n",
    "<li>Écrire un programme Python qui permet de simuler une partie de ce jeu.</li>\n",
    "</ol>\n"
   ]
  },
  {
   "cell_type": "code",
   "execution_count": null,
   "metadata": {
    "collapsed": true
   },
   "outputs": [],
   "source": [
    "from random import*\n",
    "d1 = randint(1,6)\n",
    "d2 = randint(1,6)\n",
    "s = d1+d2\n",
    "if s%2 == 0 :\n",
    "    g = 1\n",
    "elif s%3 == 0 :\n",
    "    g = 4\n",
    "else :\n",
    "    g = -4\n",
    "if abs(g)>1 :\n",
    "    txt = 'euros'\n",
    "else :\n",
    "    txt = 'euro'\n",
    "print(\"La somme obtenue est {} et le gain est {} {}.\".format(s,g,txt))\n",
    "    "
   ]
  },
  {
   "cell_type": "markdown",
   "metadata": {},
   "source": [
    "<h3>Exercice 9</h3>\n",
    "Soit la fonction $f$ définie sur $\\mathbb{R}$ par $f(x) = -2x^2+3x-2$.<br/> \n",
    "Écrire un programme qui permet d'obtenir un tableau de valeurs de $f$ pour $x$ variant de $-10$ à $10$ avec un pas de $2$."
   ]
  },
  {
   "cell_type": "code",
   "execution_count": null,
   "metadata": {
    "collapsed": true
   },
   "outputs": [],
   "source": [
    "#Une solution\n",
    "for i in range(-10,11,2):\n",
    "    j = -2*i**2+3*i-2\n",
    "    print(i,j, sep =' '*5)"
   ]
  },
  {
   "cell_type": "code",
   "execution_count": null,
   "metadata": {
    "collapsed": true
   },
   "outputs": [],
   "source": [
    "#Pour aller plus loin : Solution avec une mise en forme\n",
    "print(\"{:30s}{}\".format(' ','-'*30))\n",
    "print('{:>30s}{:10s}{:>5s}{:>15s}'.format(' ','Antécédent','|','Image'))\n",
    "print(\"{:30s}{}\".format(' ','-'*30))\n",
    "for i in range(-10,11,2):\n",
    "    j = -2*i**2+3*i-2\n",
    "    print('{:>30s}{:^+10d}{:>5s}{:>15d}'.format(' ',i,'|',j))"
   ]
  },
  {
   "cell_type": "markdown",
   "metadata": {},
   "source": [
    "<h3>Exercice 10</h3>\n",
    "Compléter le code de la cellule suivante pour réaliser la suite de triangles équilatéraux ci-dessous, sachant que la longueur du coté diminue de 20 à chaque fois.<br/>\n",
    "<img src =\"exo10turtle.png\" alt =\"exo10\" />\n"
   ]
  },
  {
   "cell_type": "code",
   "execution_count": null,
   "metadata": {
    "collapsed": true
   },
   "outputs": [],
   "source": [
    "#Une solution\n",
    "from turtle import *\n",
    "cote=100\n",
    "pencolor('blue')\n",
    "speed(1)\n",
    "for i in range(5) :\n",
    "    for i in range(3):\n",
    "        forward(cote)\n",
    "        left(120)\n",
    "    fd(cote)\n",
    "    cote -= 20\n",
    "done()"
   ]
  },
  {
   "cell_type": "markdown",
   "metadata": {},
   "source": [
    "<h3>Exercice 11. Suite de Syracuse</h3>\n",
    "\n",
    "Ressource Euler numéro 4319 : https://euler.ac-versailles.fr/wm3/pi2/algo/algo14.jsp \n",
    "<br/>\n",
    "\n",
    "<img src =\"syracuse_euler.png\" alt=\"énoncé\"/>\n",
    "\n",
    "1) On suppose que $u_0 = 15$. Écrire un programme en langage Python qui permet d'obtenir les termes successifs de cette suite en s'arretant dès qu'un des termes vaut 1. Ce programme doit aussi indiquer le nombre de termes ainsi obtenus et le plus grand d'entre eux.\n",
    "\n",
    "2) Modifier le programme afin que l'utilisateur choisisse la valeur de  $u_0$."
   ]
  },
  {
   "cell_type": "markdown",
   "metadata": {
    "collapsed": true
   },
   "source": [
    "###  Algorithme\n",
    "\n",
    "Dans l'algorithme suivant, *liste* désigne l'ensemble des termes successifs à calcler.\n",
    "\n",
    "$u \\leftarrow 15$<br/>\n",
    "Mettre $u$ dans *liste*<br/>\n",
    "<code>Tant que</code> $u \\neq 1$<br/>\n",
    "<code>    Si</code> $u$ est pair <code>alors</code><br/>\n",
    "            <code>        </code>$u \\leftarrow \\dfrac{u}{2}$<br/>\n",
    "<code>    Sinon</code><br/>\n",
    "<code>        </code>$u \\leftarrow 3u+1$<br/>\n",
    "<code>    Fin Si </code><br/>\n",
    "<code>    Ajouter </code>$u$ <code>en fin de </code>*liste*\n",
    "\n",
    "\n",
    "\n"
   ]
  },
  {
   "cell_type": "code",
   "execution_count": null,
   "metadata": {
    "collapsed": true
   },
   "outputs": [],
   "source": [
    "#Une solution de la première question\n",
    "u = 15 # 1er terme de la suite: U0 = 15\n",
    "liste=[u] # Liste qui contiendra tous les termes de la suite, le premier étant Uo\n",
    "while u != 1 :\n",
    "    if u%2 == 0  :  # U pair\n",
    "        u = u//2    # Le choix de la division euclidienne (opérateur //) permet d'avoir le résultat de type entier \n",
    "                    # contrairement à l'opérateur / qui donnerait le résultat sous forme de float\n",
    "    else :\n",
    "        u = 3*u+1    # U impair\n",
    "    \n",
    "    liste.append(u) # On ajoute la valeur U à la liste des termes\n",
    "print(\"La liste des \",len(liste),\" termes est :\",liste)\n",
    "print(\"Le terme le plus grand est :\",max(liste),\" il a pour rang : \",liste.index(max(liste)))"
   ]
  },
  {
   "cell_type": "code",
   "execution_count": null,
   "metadata": {
    "collapsed": true
   },
   "outputs": [],
   "source": [
    "#Une solution de la première question\n",
    "\n",
    "\n",
    "'''On demande à l'utilisateur de saisir la valeur de U0 et on transforme la\n",
    "chaîne de caractères retournée en type entier'''\n",
    "\n",
    "u = int(input(\"Saisir la valeur du premier terme, u0 : \")) \n",
    "liste=[u] # Liste qui contiendra tous les termes de la suite, le premier étant Uo\n",
    "while u != 1 :\n",
    "    if u%2 == 0  :  # U pair\n",
    "        u = u//2    # Le choix de la division euclidienne (opérateur //) permet d'avoir le résultat de type entier \n",
    "                    # contrairement à l'opérateur / qui donnerait le résultat sous forme de float\n",
    "    else :\n",
    "        u = 3*u+1    # U impair\n",
    "    \n",
    "    liste.append(u) # On ajoute la valeur U à la liste des termes\n",
    "print(\"La liste des \",len(liste),\" termes est :\",liste)\n",
    "print(\"Le terme le plus grand est :\",max(liste),\" il a pour rang : \",liste.index(max(liste)))\n"
   ]
  },
  {
   "cell_type": "markdown",
   "metadata": {},
   "source": [
    "<h3>Exercice 12. Tableau de valeurs (suite)</h3>\n",
    "\n",
    "1) Soit la fonction $f$ définie sur $\\mathbb{R}$ par $f(x) = -2x^2+3x-2$.<br/> \n",
    "Écrire une fonction *tabval* ayant 3 paramètres *start*, *end* et *step* qui renvoie un tableau de valeurs de $f$ pour $x$ variant de *start* à *end* avec un pas égal à *step*.\n"
   ]
  },
  {
   "cell_type": "code",
   "execution_count": null,
   "metadata": {
    "collapsed": true
   },
   "outputs": [],
   "source": [
    "import numpy as np\n",
    "\n",
    "def tabval(dep,fin,pas):\n",
    "    liste=[]\n",
    "    x=np.arange(dep,fin+1,pas)\n",
    "    for i in x :\n",
    "        liste.append((i,-2*i**2+3*i-2))\n",
    "    return liste\n",
    "\n",
    "print(tabval(-1,1,0.5))"
   ]
  },
  {
   "cell_type": "markdown",
   "metadata": {},
   "source": [
    "2) <u>Pour aller plus loin</u> : Écrire une nouvelle fonction *tabval2* ayant 4 paramètres *fonc*, *start*, *end* et *step* qui renvoie un tableau de valeurs d'une fonction $f$ passée en argument au paramètre *fonc* pour $x$ variant de *start* à *end* avec un pas égal à *step*."
   ]
  },
  {
   "cell_type": "code",
   "execution_count": null,
   "metadata": {
    "collapsed": true
   },
   "outputs": [],
   "source": [
    "import numpy as np\n",
    "def f(x) :\n",
    "    return -2*x**2+3*x-2\n",
    "def g(x):\n",
    "    return -3*x+2\n",
    "\n",
    "def tabval(func,start,end,step):\n",
    "    liste=[]\n",
    "    x=np.linspace(start,end,(end-start)/step+1)\n",
    "    for i in x :\n",
    "        liste.append((i,func(i)))\n",
    "    return liste\n",
    "\n",
    "print(tabval(f,-1,1,0.5))\n",
    "print(tabval(g,-1,1,0.5))"
   ]
  },
  {
   "cell_type": "markdown",
   "metadata": {},
   "source": [
    "<h3>Exercice 13. Comaparaison de deux réels </h3>\n",
    "\n",
    "On ne peut pas tester exactement l'égalité entre deux nombres réels à cause de leur représentation en mémoire. Par contre, on peut les comparer en étudiant leur distance à une précision donnée.    \n",
    "<br/>Écrire une fonction *comparer* ayant 3 arguments *nb1*, *nb2* et *precision* qui renvoie *True* si les nombres réels *nb1* et *nb2* sont à une distance inférieure à *precision* et False sinon."
   ]
  },
  {
   "cell_type": "code",
   "execution_count": null,
   "metadata": {
    "collapsed": true
   },
   "outputs": [],
   "source": [
    "from math import*\n",
    "def comparer(nb1,nb2,precision):\n",
    "    if abs(nb1-nb2)<precision :\n",
    "        return True\n",
    "    else :\n",
    "        return False\n",
    "\n",
    "print(comparer(3.14,pi,0.01))"
   ]
  },
  {
   "cell_type": "markdown",
   "metadata": {},
   "source": [
    "<h3>Exercice 14. Quadrilatères</h3>\n",
    "\n",
    "Le plan est rapporté à un repère orthonormé $(O ; I , J)$.\n",
    "\n",
    "1) Écrire une fonction *distance* ayant pour arguments les coordonnées de 2 points du plan, qui renvoie la distance entre ces deux points."
   ]
  },
  {
   "cell_type": "code",
   "execution_count": null,
   "metadata": {
    "collapsed": true
   },
   "outputs": [],
   "source": [
    "import math\n",
    "\n",
    "def distance(xA,yA,xB,yB):\n",
    "    return math.sqrt((xB-xA)**2+(yB-yA)**2)"
   ]
  },
  {
   "cell_type": "markdown",
   "metadata": {},
   "source": [
    "2) Soit $ABCD$ un quadrilatère avec $A(x_A,y_A), B(x_B,y_B), C(x_C,y_C)$ et $ D(x_D,y_D)$ dans le repère $(O ; I , J)$.\n",
    "\n",
    "a- Écrire une fonction *para* qui renvoie *True* si $ABCD$ est un parallélogramme et *False* sinon."
   ]
  },
  {
   "cell_type": "code",
   "execution_count": null,
   "metadata": {
    "collapsed": true
   },
   "outputs": [],
   "source": [
    "def milieu(xA,yA,xB,yB):\n",
    "    return (xA+xB)/2,(yA+yB)/2\n",
    "\n",
    "def para1(xA,yA,xB,yB,xC,yC,xD,yD) :\n",
    "    xI,yI = milieu(xA,yA,xC,yC)\n",
    "    xJ,yJ = milieu(xB,yB,xD,yD)\n",
    "    if(comparer(xI,xJ,0.001) and comparer(yI,yJ,0.001)):\n",
    "        return True\n",
    "    else:\n",
    "        return False\n",
    "    \n",
    "\n",
    "def para2(xA,yA,xB,yB,xC,yC,xD,yD) :\n",
    "    xI,yI = milieu(xA,yA,xC,yC)\n",
    "    xJ,yJ = milieu(xB,yB,xD,yD)\n",
    "    return (comparer(xI,xJ,0.001) and comparer(yI,yJ,0.001)) \n",
    "\n",
    "       \n",
    "para2(-2,-1,1,0,2,2,-1,1)"
   ]
  },
  {
   "cell_type": "markdown",
   "metadata": {},
   "source": [
    "b- Écrire une fonction *rectangle* qui renvoie *True* si $ABCD$ est un rectangle et *False* sinon."
   ]
  },
  {
   "cell_type": "code",
   "execution_count": null,
   "metadata": {
    "collapsed": true
   },
   "outputs": [],
   "source": [
    "def rectangle1(xA,yA,xB,yB,xC,yC,xD,yD):\n",
    "    if(para1(xA,yA,xB,yB,xC,yC,xD,yD)):\n",
    "        if comparer(distance(xA,yA,xC,yC),distance(xB,yB,xD,yD),0.001) :\n",
    "            return True\n",
    "        else:\n",
    "            return False\n",
    "    else:\n",
    "        return False\n",
    "\n",
    "def rectangle2(xA,yA,xB,yB,xC,yC,xD,yD) :\n",
    "    cond1 = para1(xA,yA,xB,yB,xC,yC,xD,yD)\n",
    "    cond2 = comparer(distance(xA,yA,xC,yC),distance(xB,yB,xD,yD),0.001)\n",
    "    return cond1 and cond2\n",
    "\n",
    "print(rectangle1(-2,-1,1,0,2,2,-1,1))\n",
    "print(rectangle1(0,0,1,0,1,1,0,1))\n",
    "print(rectangle1(0,0,1,0,1,1,0,2))"
   ]
  },
  {
   "cell_type": "markdown",
   "metadata": {},
   "source": [
    "c- Écrire une fonction *losange* qui renvoie *True* si $ABCD$ est un losange et *False* sinon."
   ]
  },
  {
   "cell_type": "code",
   "execution_count": null,
   "metadata": {
    "collapsed": true
   },
   "outputs": [],
   "source": [
    "def losange1(xA,yA,xB,yB,xC,yC,xD,yD) :\n",
    "    if(para1(xA,yA,xB,yB,xC,yC,xD,yD)):\n",
    "        if comparer(distance(xA,yA,xB,yB),distance(xA,yA,xD,yD),0.001) :\n",
    "            return True\n",
    "        else:\n",
    "            return False\n",
    "    else:\n",
    "        return False\n",
    "    \n",
    "def losange2(xA,yA,xB,yB,xC,yC,xD,yD) :\n",
    "    cond1 = para1(xA,yA,xB,yB,xC,yC,xD,yD)\n",
    "    cond2 = comparer(distance(xA,yA,xB,yB),distance(xA,yA,xD,yD),0.001)\n",
    "    return cond1 and cond2\n",
    "    \n",
    "print(losange2(-2.4,-1,1,0,2,2,-1,1))\n",
    "print(losange2(1,0,2,1,1,2,0,1))"
   ]
  },
  {
   "cell_type": "markdown",
   "metadata": {},
   "source": [
    "d- Écrire une fonction *nature* qui renvoie la nature d'un quadrilatère $ABCD$."
   ]
  },
  {
   "cell_type": "code",
   "execution_count": null,
   "metadata": {
    "collapsed": true
   },
   "outputs": [],
   "source": [
    "def carre1(xA,yA,xB,yB,xC,yC,xD,yD):\n",
    "    if (rectangle2(xA,yA,xB,yB,xC,yC,xD,yD) and losange2(xA,yA,xB,yB,xC,yC,xD,yD)):\n",
    "        return True\n",
    "    else:\n",
    "        return False  \n",
    "    \n",
    "def carre2(xA,yA,xB,yB,xC,yC,xD,yD):\n",
    "    return (rectangle2(xA,yA,xB,yB,xC,yC,xD,yD) and losange2(xA,yA,xB,yB,xC,yC,xD,yD)) \n",
    "\n",
    "print(carre2(-2,-1,1,0,2,2,-1,1.1))\n",
    "print(carre1(0,0,2,0,2,1,0,1))"
   ]
  },
  {
   "cell_type": "code",
   "execution_count": null,
   "metadata": {
    "collapsed": true
   },
   "outputs": [],
   "source": [
    "def nature(xA,yA,xB,yB,xC,yC,xD,yD):\n",
    "    if carre2(xA,yA,xB,yB,xC,yC,xD,yD) :\n",
    "        return \"Carré.\"\n",
    "    if rectangle2(xA,yA,xB,yB,xC,yC,xD,yD) :\n",
    "         return \"Rectangle\"\n",
    "    if losange2(xA,yA,xB,yB,xC,yC,xD,yD) :\n",
    "        return \"Losange\"\n",
    "    if para2(xA,yA,xB,yB,xC,yC,xD,yD) :\n",
    "        return \"Parallélogramme\"\n",
    "    return \"Quelconque.\"\n",
    "\n",
    "def nature2(xA,yA,xB,yB,xC,yC,xD,yD):\n",
    "    if carre2(xA,yA,xB,yB,xC,yC,xD,yD) :\n",
    "        return \"ABCD est un carré.\"\n",
    "    elif rectangle2(xA,yA,xB,yB,xC,yC,xD,yD) :\n",
    "        return \"ABCD est un rectangle\"\n",
    "    elif losange2(xA,yA,xB,yB,xC,yC,xD,yD) :\n",
    "        return \"ABCD est un losange\"\n",
    "    elif para2(xA,yA,xB,yB,xC,yC,xD,yD) :\n",
    "        return \"ABCD est un parallélogramme\"\n",
    "    else :\n",
    "        return \"ABCD est un quadridratère quelconque.\"\n",
    "    \n",
    "    \n",
    "nature2(0,0,1,0,1,1,0,1)\n",
    "#nature2(0,0,1,0,2,1,1,1)\n",
    "#nature2(0,0,2,0,2,1,0,1)\n",
    "#nature2(0,0,0.5,-1,1,0,0.5,1)\n",
    "#nature2(0,0,1,0,1,1,0,2)"
   ]
  },
  {
   "cell_type": "markdown",
   "metadata": {},
   "source": [
    "**Pour aller plus loin** : \n",
    "\n",
    "1) utilisation du module **sympy**(calcul formel) http://docs.sympy.org/latest/tutorial/index.html\n",
    "\n",
    "Réécrivons la fonction distance en utilisant le calcul symbolique :"
   ]
  },
  {
   "cell_type": "code",
   "execution_count": null,
   "metadata": {},
   "outputs": [],
   "source": [
    "from sympy import *\n",
    "def distance2(xA,yA,xB,yB):\n",
    "    return sqrt((xB-xA)**2+(yB-yA)**2) # la fction sqrt ici est celle de sympy\n",
    "\n",
    "distance2(1,2,3,4)"
   ]
  },
  {
   "cell_type": "markdown",
   "metadata": {},
   "source": [
    "Afin d'avoir une sortie du résultat utilisant les symboles mathématiques, on fait appel au module **init_printing** de sympy permettant un affichage Latex (dans Anaconda Jupyter)"
   ]
  },
  {
   "cell_type": "code",
   "execution_count": null,
   "metadata": {},
   "outputs": [],
   "source": [
    "from sympy import init_printing\n",
    "init_printing(pretty_print = True,use_latex = 'mathjax', use_unicode = True,forecolor = 'Black')\n",
    "\n",
    "distance2(1,2,3,4)\n"
   ]
  },
  {
   "cell_type": "markdown",
   "metadata": {},
   "source": [
    "Version symbolique de la fonction milieu :"
   ]
  },
  {
   "cell_type": "code",
   "execution_count": null,
   "metadata": {},
   "outputs": [],
   "source": [
    "def milieu2(xA,yA,xB,yB):\n",
    "    return (xA+xB)/2,(yA+yB)/2\n",
    "\n",
    "milieu2(1,Rational(2,5),3,sqrt(3))\n",
    "milieu2(1,2/5,3,sqrt(3))"
   ]
  },
  {
   "cell_type": "markdown",
   "metadata": {},
   "source": [
    "Réécrivons la fonction *para1* sans utiliser la fonction *comparer* qui devient inutile :"
   ]
  },
  {
   "cell_type": "code",
   "execution_count": null,
   "metadata": {
    "collapsed": true
   },
   "outputs": [],
   "source": [
    "def para3(xA,yA,xB,yB,xC,yC,xD,yD) :\n",
    "    xI,yI = milieu(xA,yA,xC,yC)\n",
    "    xJ,yJ = milieu(xB,yB,xD,yD)\n",
    "    if(xI==xJ) and (yI==yJ):\n",
    "        return True\n",
    "    else:\n",
    "        return False\n",
    "    \n",
    "para3(-2,-1,1,0,2,2,-1,1)"
   ]
  },
  {
   "cell_type": "markdown",
   "metadata": {},
   "source": [
    "2) Utilisation des tuples pour définir les coordonnées des points :"
   ]
  },
  {
   "cell_type": "code",
   "execution_count": null,
   "metadata": {},
   "outputs": [],
   "source": [
    "def distance3(A,B):\n",
    "    return sqrt((A[0]-B[0])**2+(A[1]-B[1])**2)\n",
    "distance3((1,2),(3,4))"
   ]
  },
  {
   "cell_type": "markdown",
   "metadata": {},
   "source": [
    "\n",
    "\n",
    "<h3>Exercice 15. Activités autour de la somme de deux dés</h3>\n",
    "\n",
    "\n",
    "L'expérience consiste à lancer simultanément deux dés cubiques non truqués dont les faces sont numérotées 1 ; 2 ; 3 ; 4 ; 5 et 6  et à faire la somme des deux chiffres obtenus. A-t-on plus de chances d’obtenir une somme égale à 6 ou une somme égale à 7 ?\n",
    "\n",
    "1) Ressources sur Euler :\n",
    "- Ressource 2410 : Distribution des fréquences associées de la somme obtenue à l'issue d'une simulation de plusieurs dés cubiques (outil)\n",
    "https://euler.ac-versailles.fr/wm3/pi2/des/des3.jsp\n",
    "- Ressource 2409 : Variabilité des fréquences observées de la somme obtenue à l'issue d'une simulation de plusieurs lancers de dés cubiques (outil)\n",
    "https://euler.ac-versailles.fr/wm3/pi2/des/des4.jsp\n",
    "- Ressource 4229 : Opérations sur deux dés (outil) \n",
    "https://euler.ac-versailles.fr/wm3/pi2/denombrement/operationsdes.jsp\n",
    "- Ressource 2411 : Loi de probabilité de la somme obtenue à l'issue du lancer de plusieurs dés (outil)\n",
    " https://euler.ac-versailles.fr/wm3/pi2/des/des2.jsp\n",
    "\n",
    "2) Simulation avec un tableur (voir fichier somme_2_des.xlsx sur l'édunuage)\n",
    "\n",
    "3) Avec Python :\n",
    "\n",
    "a- <u>Simulation d'une expérience</u>\n",
    "\n",
    "Écrire une fonction *lancer* qui simule une telle expérience et qui renvoie la valeur de la somme obtenue.\n"
   ]
  },
  {
   "cell_type": "code",
   "execution_count": null,
   "metadata": {},
   "outputs": [],
   "source": [
    "from random import*\n",
    "\n",
    "def tirage():\n",
    "    de1=randint(1,6)\n",
    "    de2=randint(1,6)\n",
    "    somme=de1+de2\n",
    "    return somme\n",
    "\n",
    "tirage()"
   ]
  },
  {
   "cell_type": "markdown",
   "metadata": {},
   "source": [
    "b- <u>Collecter les résultats de plusieurs expériences identiques et indépendantes</u>\n",
    "\n",
    "Écrire une fonction *resultats* ayant pour paramètre $n$ qui simule $n$ expériences identiques et indépendantes et qui renvoie les sommes possibles et les fréquences observées pour chaque somme au bout de ces $n$ expériences."
   ]
  },
  {
   "cell_type": "code",
   "execution_count": null,
   "metadata": {},
   "outputs": [],
   "source": [
    "\n",
    "def resultats(n):\n",
    "    '''renvoie les différentes valeurs de sommes de deux dés cubiques avec les fréquences observées au bout de n expériences'''\n",
    "    valeurs=[2,3,4,5,6,7,8,9,10,11,12]\n",
    "    effectifs=[0]*11\n",
    "    freq=[0]*11\n",
    "    echantillon=[0]*n\n",
    "    for k in range(n):\n",
    "        somme=tirage()\n",
    "        echantillon[k]=somme\n",
    "        effectifs[somme-2]+=1\n",
    "        freq[somme-2]=effectifs[somme-2]/n\n",
    "    return valeurs,freq\n",
    "\n",
    "print(resultats(100))"
   ]
  },
  {
   "cell_type": "markdown",
   "metadata": {},
   "source": [
    "c- <u>Diagramme en bâtons des fréquences observées</u>\n",
    "\n",
    "Écrire une fonction *diagbat* qui renvoie le diagramme en bâtons des fréquences observées des différentes sommes au cours des $n$ expériences.\n",
    "\n",
    "On pourra utiliser la librairie matplotlib et la fonction *stem* dont la syntaxe est :\n",
    "\n",
    "***stem(liste1,liste2,markerfmt='ro', linefmt='g-')***\n",
    "\n",
    "où liste1 et liste2 sont respectivement les listes des abscisses et des ordonnées des bâtons, markerfmt='ro' indique que les extrémités des bâtons sont des \"o\" en rouge et linefmt='g-' indique que les bâtons sont en trait plein vert. "
   ]
  },
  {
   "cell_type": "code",
   "execution_count": null,
   "metadata": {},
   "outputs": [],
   "source": [
    "import matplotlib.pyplot as plt\n",
    "\n",
    "def diagbat(n):\n",
    "    '''Dresse le diagramme en bâtons des fréquences des sommes observées au cours de n expériences '''\n",
    "    plt.stem(resultats(n)[0],resultats(n)[1],markerfmt='ro', linefmt='g-')\n",
    "    plt.axis([0, 13,0,0.4])\n",
    "    plt.grid(True)\n",
    "    plt.show()\n",
    "\n",
    "diagbat(100)"
   ]
  },
  {
   "cell_type": "markdown",
   "metadata": {},
   "source": [
    "<u>Variante avec la fonction bar de matplotlib </u>\n"
   ]
  },
  {
   "cell_type": "code",
   "execution_count": null,
   "metadata": {},
   "outputs": [],
   "source": [
    "def diagbarre(n):\n",
    "    '''Dresse le diagramme en bâtons des fréquences des sommes observées au cours de n expériences '''\n",
    "    plt.bar(resultats(n)[0],resultats(n)[1],width = 0.5, color = 'green')\n",
    "    plt.axis([0, 13,0,0.4])\n",
    "    plt.grid(True)\n",
    "    plt.show()\n",
    "\n",
    "diagbarre(100)"
   ]
  },
  {
   "cell_type": "markdown",
   "metadata": {},
   "source": [
    "d- <u>Loi faible des grands nombres</u>\n",
    "\n",
    "On s'intéresse à l'événement \" la somme est égale à 7\". Comment visualiser l'évolution de la fréquence observée de la somme 7 au bout de *n* expériences et constater que ces fréquences se stabilisent autour de la probabilité de cet événement. \n",
    "\n",
    "Pour un nuage de points, on peut utiliser la fonction *scatter* de la librairie matplotlib en suivant la syntaxe suivante :\n",
    "\n",
    "***plt.scatter(liste1,liste2,marker=\".\",c=\"b\",s=1.5)***\n",
    "\n",
    "où liste1 et liste2 sont respectivement les listes des abscisses et des ordonnées des points du nuage, marker='.' indique le symbole utilisé pour marquer les points, c=\"b\" indique la couleur des points ici en bleu et s=1.5 indique la taille des points.\n",
    "\n",
    "Il est évidemment possible de combiner dans la même représentation graphique, un nuage de points avec scatter et une courbe de fonction avec plot."
   ]
  },
  {
   "cell_type": "code",
   "execution_count": null,
   "metadata": {},
   "outputs": [],
   "source": [
    "\n",
    "def resultats2(n,sum):\n",
    "    '''renvoie la fréquence cumulée de la somme sum au cours des n expériences'''\n",
    "    freqcum=[]\n",
    "    effcum=0\n",
    "    for k in range(n):\n",
    "        somme=tirage()\n",
    "        if (somme==sum):\n",
    "            effcum=effcum+1\n",
    "        freqcum.append(effcum/(k+1))     \n",
    "    return freqcum\n",
    "\n",
    "def diagevolfreq(n,sum):\n",
    "    '''construit le nuage de points montrant l'évolution des fréquences observées\n",
    "     de la somme sum au cours des n expériences et trace la droite d'équation\n",
    "     y = p(somme=sum)'''\n",
    "    plt.scatter(range(1,n+1),resultats2(n,sum),marker=\".\",c=\"b\",s=1.5)\n",
    "    plt.plot([0,n],[1/6,1/6],'r-')\n",
    "    plt.axis([0, n,0,0.3])\n",
    "    plt.grid(True)\n",
    "    plt.show()\n",
    "    \n",
    "\n",
    "diagevolfreq(1000,7)\n"
   ]
  },
  {
   "cell_type": "markdown",
   "metadata": {},
   "source": [
    "d- <u>Intervalle de fluctuation d'une fréquence au seuil de 95 %</u> :\n",
    "\n",
    "* Créer une fonction *intervallefluctu* ayant pour paramètres *n* et *p* qui renvoie les bornes de l'intervalle de fluctuation au seuil de 95% pour des échantillons de taille *n* et une proportion *p* du caractère"
   ]
  },
  {
   "cell_type": "code",
   "execution_count": null,
   "metadata": {
    "collapsed": true
   },
   "outputs": [],
   "source": [
    "from math import*\n",
    "\n",
    "def intervallefluctu(p,n):\n",
    "    '''renvoie (a,b) les bornes de l'intervalle de fluctuation au seuil de 95% \n",
    "    pour des échantillons de taille n et une proportion p du caractère'''\n",
    "    return(p-1/sqrt(n),p+1/sqrt(n))"
   ]
  },
  {
   "cell_type": "markdown",
   "metadata": {},
   "source": [
    "* Créer une fonction qui simule un échantillon de taille *n* et renvoie la fréquence de succès (somme égale à 7)."
   ]
  },
  {
   "cell_type": "code",
   "execution_count": null,
   "metadata": {
    "collapsed": true
   },
   "outputs": [],
   "source": [
    "def echantillon(n,sum):\n",
    "    '''simule un échantillon de taille n et renvoie la fréquence de succès (somme = sum)'''\n",
    "    succes=0\n",
    "    for i in range(n):\n",
    "        issue=tirage()\n",
    "        if issue == sum:\n",
    "            succes = succes + 1\n",
    "    return succes/n"
   ]
  },
  {
   "cell_type": "markdown",
   "metadata": {},
   "source": [
    "* On simule $nb$ échantillons de taille $n$ et on appelle succès \"la somme est égale à 7\".\n",
    "Visualiser le nuage de points de la fréquence observée du succès de probabilité $p$ ($p = \\dfrac{1}{6}$) pour chacun des $nb$ échantillons de taille $n$ ainsi que les droites horizontales correspondant aux bornes de l'intervalle de fluctuation."
   ]
  },
  {
   "cell_type": "code",
   "execution_count": null,
   "metadata": {},
   "outputs": [],
   "source": [
    "def grapheFluctu(p,n,nb,sum):\n",
    "    '''nuage de points de la fréquence observée du succès de probabilité p \n",
    "    pour chacun des nb échantillons de taille n. Trace aussi les droites\n",
    "     horizontales correspondant aux bornes de l'intervalle de fluctuation'''\n",
    "    a,b=intervallefluctu(p,n)\n",
    "    listefreq=[]\n",
    "    for k in range(nb):\n",
    "        listefreq.append(echantillon(n,sum))\n",
    "    plt.plot(range(1,nb+1),listefreq,'b.')\n",
    "    plt.grid()\n",
    "    plt.plot([0,nb],[a,a],'r-')\n",
    "    plt.plot([0,nb],[b,b],'r-')\n",
    "    plt.show()\n",
    "\n",
    "print(intervallefluctu(1/6,100))\n",
    "grapheFluctu(1/6,100,200,7)\n"
   ]
  },
  {
   "cell_type": "markdown",
   "metadata": {},
   "source": [
    "\n"
   ]
  },
  {
   "cell_type": "code",
   "execution_count": null,
   "metadata": {},
   "outputs": [],
   "source": [
    "def proportion(p,n,nb,sum):\n",
    "    a,b=intervallefluctu(p,n)\n",
    "    dedans=0\n",
    "    for k in range(1,nb):\n",
    "        freq=echantillon(n,sum)\n",
    "        if freq>=a and freq<=b:\n",
    "            dedans=dedans+1\n",
    "    return dedans/nb\n",
    "  \n",
    "proportion(1/6,100,200,7)"
   ]
  },
  {
   "cell_type": "code",
   "execution_count": null,
   "metadata": {},
   "outputs": [],
   "source": [
    "def diagProportion(p,n,nb,sum):\n",
    "    a,b=intervallefluctu(p,n)\n",
    "    dedans=0\n",
    "    Liste=[]\n",
    "    for k in range(1,nb):\n",
    "        freq=echantillon(n,sum)\n",
    "        if freq>=a and freq<=b:\n",
    "            dedans=dedans+1\n",
    "        Liste.append(dedans/k)\n",
    "    plt.plot(range(1,nb),Liste,'b.')\n",
    "    plt.grid()\n",
    "    plt.show()\n",
    "    \n",
    "diagProportion(1/6,100,200,7)"
   ]
  },
  {
   "cell_type": "markdown",
   "metadata": {},
   "source": [
    "4)\t<u>Extension possible</u> : le paradoxe du prince de Toscane.\n",
    "\n",
    "«  Le prince de Toscane avait remarqué que, bien qu'il y ait autant de façons d'écrire 9 et 10 comme somme de 3 nombres compris entre 1 et 6, on obtient plus souvent un total de 10 lorsqu'on lance 3 dés. Galilée lui donna une explication de ce paradoxe… »"
   ]
  },
  {
   "cell_type": "markdown",
   "metadata": {},
   "source": [
    "<h3>Exercice 16. Tirages de boules dans des urnes</h3>\n",
    "\n",
    "1) Une urne 1 contient deux boules rouges et une boule verte indiscernables au toucher. \n",
    "Une urne 2 contient trois boules rouges et une boule verte indiscernables au toucher. \n",
    "On prélève au hasard une boule de l’urne 1 et on la met dans l’urne 2. Puis on prélève au hasard une boule de l’urne 2.\n",
    "Quelle est la probabilité d’obtenir une boule rouge à l’issu du deuxième tirage ?\n",
    "\n",
    "a- Simulation à l'aide d'un tableur (voir fichier urnes.xlsx sur l'édunuage)\n",
    "\n",
    "b- Simulation à l'aide de Python"
   ]
  },
  {
   "cell_type": "code",
   "execution_count": null,
   "metadata": {},
   "outputs": [],
   "source": [
    "from random import*\n",
    "\n",
    "def urne(nbR,nbV):\n",
    "    ''' '''\n",
    "    nbT = nbR+nbV\n",
    "    issue=randint(1, nbT)\n",
    "    if issue<=nbR:\n",
    "        return \"R\"\n",
    "    else :\n",
    "        return \"V\"\n",
    "    \n",
    "def tirage(couleur):\n",
    "    if couleur=='R':\n",
    "        return urne(4,1)\n",
    "    else :\n",
    "        return urne(3,2)\n",
    "\n",
    "def echant(taille):\n",
    "    echantillon=[]\n",
    "    for i in range(taille):\n",
    "        echantillon.append(tirage(urne(2,1)))\n",
    "    return echantillon\n",
    "\n",
    "def freq(echantillon,couleur):\n",
    "    eff=0\n",
    "    for c in echantillon :\n",
    "        if c==couleur :\n",
    "            eff +=1\n",
    "    return eff,eff/len(echantillon)\n",
    "\n",
    "\n",
    "print(freq(echant(10000),'R'))\n"
   ]
  },
  {
   "cell_type": "markdown",
   "metadata": {
    "collapsed": true
   },
   "source": [
    "2)\tLes compositions des urnes restent les mêmes. On prélève au hasard une boule de l’urne 1. Si cette boule est rouge, on la laisse dans l’urne 1, si elle est verte on la met dans l’urne 2. Puis on prélève au hasard une boule de l’urne 2.\n",
    "Quelle est la probabilité d’obtenir une boule rouge à l’issu du deuxième tirage ?\n",
    "\n",
    "a- Simulation à l'aide d'un tableur (voir fichier *urnes.xlsx* sur l'édunuage)\n",
    "\n",
    "b- Simulation à l'aide de Python"
   ]
  },
  {
   "cell_type": "code",
   "execution_count": null,
   "metadata": {},
   "outputs": [],
   "source": [
    "def tirage2(couleur):\n",
    "    if couleur=='R':\n",
    "        return urne(3,1)\n",
    "    else :\n",
    "        return urne(3,2)\n",
    "    \n",
    "def echant2(taille):\n",
    "    echantillon=[]\n",
    "    for i in range(taille):\n",
    "        echantillon.append(tirage2(urne(2,1)))\n",
    "    return echantillon\n",
    "\n",
    "def freq(echantillon,couleur):\n",
    "    eff=0\n",
    "    for c in echantillon :\n",
    "        if c==couleur :\n",
    "            eff +=1\n",
    "    return eff,eff/len(echantillon)\n",
    "\n",
    "print(freq(echant2(10000),'R'))"
   ]
  },
  {
   "cell_type": "markdown",
   "metadata": {},
   "source": [
    "<h3>Exercice 17. Loi géométrique tronquée : une politique nataliste</h3>\n",
    "\n",
    "(D’après Contes et décomptes de la statistique, Claudine Robert, édition Vuibert)\t\n",
    "\n",
    "Pour limiter le nombre de filles dans un pays (imaginaire), on décide que :\n",
    "* Chaque famille aura au maximum 4 enfants ;\n",
    "* Chaque famille arrêtera de procréer après la naissance d’un garçon.\n",
    "\n",
    "On considère que chaque enfant a une chance sur deux d’être un garçon ou une fille et que, pour chaque couple de parents, le sexe d’un enfant est indépendant du sexe des précédents.\n",
    "\n",
    "Ce choix a-t-il la conséquence attendue, à savoir diminuer le nombre de filles dans la population ?\n",
    "\n",
    "Le scénario pédagogique pourrait être le suivant :\n",
    "\n",
    "1) Réalisez une simulation. Estimez, en utilisant cette simulation, si ce choix permet de diminuer le nombre de filles dans la population ?\n",
    "\n",
    "2) Étudiez ce problème avec vos connaissances mathématiques.\n",
    "\n",
    "\n",
    "<u>Des ressources </u>:\n",
    "\n",
    "* Ressource 3773 : Arbre pondéré et loi de probabilité associés à une loi géométrique tronquée (outil)https://euler.ac-versailles.fr/wm3/pi2/loigeometrique/geometrique1.jsp\n",
    "* Ressource 4016 : Déterminer la loi de probabilité d'une variable aléatoire suivant une loi géométrique tronquée de paramètres donnés (exercice d’apprentissage)https://euler.ac-versailles.fr/wm3/pi2/loigeometrique/loi2.jsp\n",
    "* Lexique : https://euler.ac-versailles.fr/baseeuler/lexique/notion.jsp?id=207\n",
    "* Voir simulation sur tableur (fichier *Limitation_des_naissances.xlsx* sur l'édunuage)"
   ]
  },
  {
   "cell_type": "code",
   "execution_count": null,
   "metadata": {},
   "outputs": [],
   "source": [
    "#Sans fonction - une seule expérience\n",
    "from random import*\n",
    "\n",
    "N=0\n",
    "G=0\n",
    "freqG=0\n",
    "\n",
    "while (G==0 and N<=4):\n",
    "    enfant=randint(0,1)\n",
    "    # 0 = fille, 1 = garçon\n",
    "    G=G+enfant\n",
    "    N=N+1\n",
    "    freqG=G/N\n",
    "\n",
    "print(\"Nombre d'enfants :\",N)\n",
    "print(\"Nombre de filles :\",N-G)\n",
    "print(\"Nombre de garçons :\",G)\n",
    "print(\"Fréquence de filles :\",1-freqG)\n",
    "print(\"Fréquence de garçons :\",freqG)\n"
   ]
  },
  {
   "cell_type": "code",
   "execution_count": null,
   "metadata": {},
   "outputs": [],
   "source": [
    "# Avec une fonction - génération dd'un échantillon de taille n\n",
    "from random import*\n",
    "\n",
    "def naissance(n):\n",
    "    NbG=0 #Nbre total de Garçons dans l'échantillon\n",
    "    NbEnfants=0 #Nbre total d'enfants dans l'échantillon\n",
    "    for i in range(n) :\n",
    "        N=0\n",
    "        G=0\n",
    "        while (G==0 and N<=4):\n",
    "            enfant=randint(0,1)\n",
    "            # 0 = fille, 1 = garçon\n",
    "            G=G+enfant\n",
    "            N=N+1\n",
    "        NbG=NbG+G\n",
    "        NbEnfants=NbEnfants+N\n",
    "    return NbG/NbEnfants\n",
    "\n",
    "print(naissance(1000))\n"
   ]
  },
  {
   "cell_type": "markdown",
   "metadata": {},
   "source": [
    "<h3>Exercice 18. Segment aléatoire et méthode de Monte-Carlo</h3>\n",
    "\n",
    "Deux points $A$ et $B$ sont placés aléatoirement sur un segment $\\left[O\\,I\\right]$ de longueur 1 unité. \n",
    "<br/>On cherche la probabilité de l’événement : « La longueur $AB$ est strictement supérieure à 0,5 ».\n",
    "* <u>Partie 1 </u>: Conjecture\n",
    "\n",
    "\t1) Simulation avec un tableur pour conjecturer la probabilité de cet événement et éventuellement d’invalider certaines conjectures émises par les élèves en début d’activité (voir fichier *seg_alea_v1.xls* sur l'édunuage)\n",
    "    \n",
    "    2) Simulation avec Python\n",
    "    \n",
    "\n",
    "* <u> Partie 2 </u>: Toujours dans la conjecture mais vers la démonstration : méthode de Monte-Carlo\n",
    "\n",
    "    Pour chaque simulation :\n",
    "    \n",
    "    -  les points $A$ et $B$ ont respectivement pour abscisse $x_A$ et  $x_B$  dans le repère $(O, I)$, \n",
    "    -  on place dans un carré $CDEF$ de côté de longueur 1, le point $M(x ;y)$ où $x=x_A$ et $y=x_B$  dans le repère $(C;D,F)$. \n",
    "\n",
    "    En utilisant deux couleurs différentes (une pour marquer les points $M$ pour lesquels $AB > 0,5$ et une autre pour marquer les points $M$ pour lesquels $AB\\leq0,5$), conjecturez dans quelle(s) zone(s) du carré $CDEF$ se situent les points $M$ pour lesquels $AB > 0,5$. \n",
    "    \n",
    "    ![GGB](monte_carlo.png \"Monte-Carlo\")\n",
    "    \n",
    "    \n",
    "   1) Avec *GeoGebra* : fichier *Segment Segment_alea.ggb* sur l'édunuage\n",
    "   \n",
    "   2) Avec *Scratch* : fichiers *segment1.sb2* et *segment2.sb2* sur l'édunuage\n",
    "    \n",
    "   3) Avec *Python*\n",
    "   \n",
    "   \n",
    "\n",
    "* <u> Partie 3 </u>: Démonstration\n"
   ]
  },
  {
   "cell_type": "code",
   "execution_count": null,
   "metadata": {},
   "outputs": [],
   "source": [
    "import random\n",
    "\n",
    "def simul(n):\n",
    "    ''''''\n",
    "    Tir=0\n",
    "    NbFavorables=0\n",
    "    while(Tir<n):\n",
    "        Tir=Tir+1\n",
    "        #On tire au hasard un point de coord (x;y) dans [0,1]x[0;1]\n",
    "        x=random.random()\n",
    "        y=random.random()\n",
    "        L=abs(x-y)\n",
    "        if (L>0.5):\n",
    "            NbFavorables=NbFavorables+1\n",
    "    return  print(\"Sur une simulation de\", Tir, \" tirs il y a \", NbFavorables, \" cas favorables soit une fréquence de cas favorables de \", NbFavorables*100/n, \"%\")\n",
    "\n",
    "simul(100)"
   ]
  },
  {
   "cell_type": "code",
   "execution_count": null,
   "metadata": {},
   "outputs": [],
   "source": [
    "import random\n",
    "import matplotlib.pyplot as plt\n",
    "\n",
    "def montecarlo(n):\n",
    "    ''''''\n",
    "    Tir=0\n",
    "    xbleu=[]\n",
    "    ybleu=[]\n",
    "    xrouge=[]\n",
    "    yrouge=[]\n",
    "    NbFavorables=0\n",
    "    while(Tir < n):\n",
    "        Tir=Tir+1\n",
    "        #On tire au hasard un point de coord (x;y) dans [0,1]x[0;1]\n",
    "        x=random.random()\n",
    "        y=random.random()\n",
    "        L=abs(x-y)\n",
    "        if ( L > 0.5 ):\n",
    "            NbFavorables=NbFavorables+1\n",
    "            xrouge.append(x)\n",
    "            yrouge.append(y)\n",
    "        else :\n",
    "            xbleu.append(x)\n",
    "            ybleu.append(y)\n",
    "    plt.scatter(xbleu, ybleu, marker=\".\",c=\"b\",s=5) \n",
    "    plt.scatter(xrouge, yrouge, marker=\".\",c=\"r\",s=5)\n",
    "    plt.axis('equal')\n",
    "    plt.show()\n",
    "    \n",
    "montecarlo(1000)"
   ]
  },
  {
   "cell_type": "markdown",
   "metadata": {},
   "source": [
    "<h3>Exercice 19. Autour de la dichotomie</h3>\n",
    "\n",
    "* En seconde.\n",
    "\n",
    "    \n",
    "* En première et terminale.\n",
    "\n",
    "<u>Des ressources sur Euler</u> :\n",
    "\n",
    "* Ressource n°4326 (exercice d'apprentissage) : Compléter un algorithme permettant de déterminer par dichotomie un encadrement d'amplitude inférieure à $10^{-1}$ de la solution de l'équation $f(x)=k$ sur un intervalle sur lequel $f$ est une fonction continue strictement monotone : https://euler.ac-versailles.fr/wm3/pi2/algo/algo21.jsp\n",
    "\n",
    "* Ressource n° 4323 (exercice guidé) : Déterminer, par dichotomie, un encadrement d'amplitude inférieure à $10^{-1}$ de la solution de l'équation $f(x)=k$ sur un intervalle sur lequel $f$ est une fonction continue strictement monotone  : https://euler.ac-versailles.fr/wm3/pi2/algo/algo18.jsp\n",
    "\n",
    "* Ressource n° 4327 (exercice guidé): Déterminer, par dichotomie, un encadrement d'amplitude inférieure à $10^{-1}$ de la solution de l'équation $f(x)=k$ sur un intervalle où $f$ est une fonction polynôme de degré 3 : https://euler.ac-versailles.fr/wm3/pi2/algo/algo22.jsp\n",
    "\n",
    "* Ressource n° 4328 (exercice guidé) : Déterminer, par dichotomie, un encadrement d'amplitude inférieure à $10^{-1}$ de la solution, sur un intervalle, d'une équation se ramenant à $ln(x)=px+q$ : https://euler.ac-versailles.fr/wm3/pi2/algo/algo23.jsp\n",
    "\n",
    "* Ressource n° 4329 (exercice guidé) : Déterminer, par dichotomie, un encadrement d'amplitude inférieure à $10^{-1}$ de la solution, sur un intervalle, d'une équation se ramenant à $e^{x}=px+q$ : https://euler.ac-versailles.fr/wm3/pi2/algo/algo24.jsp\n",
    "\n",
    "* Ressource n° 4324 (outil): Détermination, par dichotomie, d'un encadrement d'amplitude inférieure à $10^{-1}$ de la solution de l'équation $f(x)=k$ sur un intervalle sur lequel $f$ est une fonction continue strictement monotone : https://euler.ac-versailles.fr/wm3/pi2/algo/algo19.jsp\n",
    "\n",
    "* Ressource n° 4330 (outil) : Encadrement, par dichotomie, de la solution de l'équation $f(x)=k$ sur un intervalle sur lequel $f$ est une fonction continue strictement monotone : https://euler.ac-versailles.fr/wm3/pi2/algo/algo25.jsp\n",
    "\n",
    "* Ressource n° 4330 (QCM) : Indiquer les algorithmes qui permettent de déterminer par dichotomie un encadrement d'amplitude inférieure à $10^{-1}$ de la solution de l'équation $f(x)=k$ sur un intervalle sur lequel $f$ est une fonction continue strictement monotone  : https://euler.ac-versailles.fr/wm3/pi2/algo/algo20.jsp"
   ]
  },
  {
   "cell_type": "markdown",
   "metadata": {},
   "source": [
    "1) En seconde :\n",
    "\n",
    "- L'ordinateur génère un nombre et c'est l'utilisateur qui joue :"
   ]
  },
  {
   "cell_type": "code",
   "execution_count": null,
   "metadata": {},
   "outputs": [],
   "source": [
    "from random import randint\n",
    "\n",
    "def justeprix1(nbmax):\n",
    "    '''Nombre entier inconnu à trouver entre 1 et nbmax'''\n",
    "    nb=randint(1,nbmax)\n",
    "    coups=0\n",
    "    jouer=True\n",
    "    while jouer==True:\n",
    "        coups=coups+1\n",
    "        choix=int(input(\"choix ?\"))\n",
    "        if choix==nb:\n",
    "            if coups==1:\n",
    "                print(\"Bravo le nombre a été trouvé en\",coups,\"coup\")\n",
    "            else:\n",
    "                print(\"Bravo le nombre a été trouvé en\",coups,\"coups\")\n",
    "            jouer=False\n",
    "        elif choix>nb:\n",
    "                print(choix,\"est trop grand\")\n",
    "        else:\n",
    "                print(choix,\"est trop petit\")\n",
    "\n",
    "justeprix1(20)"
   ]
  },
  {
   "cell_type": "markdown",
   "metadata": {},
   "source": [
    "- L'utilisateur choisit un nombre et c'est l'ordinateur qui joue :"
   ]
  },
  {
   "cell_type": "code",
   "execution_count": null,
   "metadata": {},
   "outputs": [],
   "source": [
    "from math import ceil\n",
    "\n",
    "def justeprix2(nb,nbmax):\n",
    "    '''nb est le nombre à trouver dans un intervalle d'entiers compris entre 1 et nbmax'''\n",
    "    coups=0\n",
    "    jouer=True\n",
    "    a = 1\n",
    "    b = nbmax\n",
    "    while jouer==True:\n",
    "        coups=coups+1\n",
    "        choix=ceil((a+b)/2)\n",
    "        print(\"Nombre choisi : \",choix)\n",
    "        if choix==nb:\n",
    "            if coups==1:\n",
    "                print(\"Bravo le nombre \", nb,\" a été trouvé en\",coups,\"coup\")\n",
    "            else:\n",
    "                print(\"Bravo le nombre \", nb,\" a été trouvé en\",coups,\"coups\")\n",
    "            jouer=False\n",
    "        elif choix>nb:\n",
    "                b = choix\n",
    "        else:\n",
    "                a = choix\n",
    "\n",
    "justeprix2(15,100)"
   ]
  },
  {
   "cell_type": "markdown",
   "metadata": {},
   "source": [
    "2) En terminale : \n",
    "Supposons une fonction $f$ continue sur un intervalle $I$ et telle que sur $I$ l'équation $f(x) = 0$ admette une unique solution.\n",
    "Écrire un programme permettant de déterminer, par dichotomie, un encadrement d'amplitude inférieure ou égale à une précision $e$ de cette solution.\n"
   ]
  },
  {
   "cell_type": "code",
   "execution_count": 3,
   "metadata": {},
   "outputs": [
    {
     "data": {
      "text/plain": [
       "(0.625, 0.6875)"
      ]
     },
     "execution_count": 3,
     "metadata": {},
     "output_type": "execute_result"
    }
   ],
   "source": [
    "def f(x):\n",
    "    return x**3+x-1\n",
    "\n",
    "def dichotomie(f,a,b,e):\n",
    "    '''Détermine par dichotomie un intervalle [a,b] d'amplitude inférieure ou égale à e contenant la solution de f(x)=0'''\n",
    "    while b-a>e :\n",
    "        m=(a+b)/2\n",
    "        if f(m)*f(b)>0:\n",
    "            b = m\n",
    "        else :\n",
    "            a = m\n",
    "    return a,b\n",
    "\n",
    "dichotomie(f,0,2,0.1)"
   ]
  }
 ],
 "metadata": {
  "kernelspec": {
   "display_name": "Python 3",
   "language": "python",
   "name": "python3"
  },
  "language_info": {
   "codemirror_mode": {
    "name": "ipython",
    "version": 3
   },
   "file_extension": ".py",
   "mimetype": "text/x-python",
   "name": "python",
   "nbconvert_exporter": "python",
   "pygments_lexer": "ipython3",
   "version": "3.6.3"
  }
 },
 "nbformat": 4,
 "nbformat_minor": 2
}
