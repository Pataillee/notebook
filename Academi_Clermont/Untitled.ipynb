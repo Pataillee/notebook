{
 "cells": [
  {
   "cell_type": "markdown",
   "metadata": {},
   "source": [
    "# Premières fonctions"
   ]
  },
  {
   "cell_type": "raw",
   "metadata": {},
   "source": [
    "L’utilisation d’opérateurs mathématiques spécifique nécessitent l’utilisation d’une bibliothèque : math. Comme pour la bibliothèque Turtle, la commande \n",
    "```python\n",
    "from math import *\n",
    "```\n",
    "permet d'importer l'intégralité de la bibliothèque. \n",
    "Une autre manière de faire est d'utiliser la commande \n",
    "```python\n",
    "import math\n",
    "```\n",
    "La différence sera alors dans la manière d'appeler les méthodes propres à la bibliothèque."
   ]
  },
  {
   "cell_type": "code",
   "execution_count": null,
   "metadata": {},
   "outputs": [],
   "source": [
    "from math import *\n",
    "sqrt(4)"
   ]
  },
  {
   "cell_type": "markdown",
   "metadata": {},
   "source": [
    "## Exercice 1"
   ]
  },
  {
   "cell_type": "raw",
   "metadata": {},
   "source": [
    "Pour impltémenter le fonction $f$ définie sur $\\mathbb{R}$ par $f(x)=\\left{\\begi{tabular}{l}3\\sqrt{x}+2\\text{ si }x>4\\\\-x+1\\text{ sinon}\\end{tabular}$ on utilise le code suivant :\n",
    "\n",
    "\n"
   ]
  },
  {
   "cell_type": "code",
   "execution_count": null,
   "metadata": {},
   "outputs": [],
   "source": []
  },
  {
   "cell_type": "raw",
   "metadata": {},
   "source": [
    "Pour déterminer les images par $f$ il suffit d’appeler dans la console la fonction $f$ en passant en paramètre la valeur de $x$ choisie."
   ]
  }
 ],
 "metadata": {
  "kernelspec": {
   "display_name": "Python 3",
   "language": "python",
   "name": "python3"
  },
  "language_info": {
   "codemirror_mode": {
    "name": "ipython",
    "version": 3
   },
   "file_extension": ".py",
   "mimetype": "text/x-python",
   "name": "python",
   "nbconvert_exporter": "python",
   "pygments_lexer": "ipython3",
   "version": "3.6.7"
  }
 },
 "nbformat": 4,
 "nbformat_minor": 2
}
