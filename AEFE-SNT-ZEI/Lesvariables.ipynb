{
 "cells": [
  {
   "cell_type": "markdown",
   "metadata": {},
   "source": [
    "# Les notions de base de Python"
   ]
  },
  {
   "cell_type": "markdown",
   "metadata": {},
   "source": [
    "### 1-Les variables"
   ]
  },
  {
   "cell_type": "markdown",
   "metadata": {},
   "source": [
    "Les variables sont l'un des concepts qui se retrouvent dans la totalité des langages de programmation. Une variable est une donnée de votre programme stockée dans la mémoire de l'ordinateur afin de pouvoir l'utiliser à plusieurs reprises et faire des calculs. En Python, pour a\u001becter une valeur à unevariable, il suffit d'écrire quelque chose comme : nom_de_variable = valeur. Une variable doit respecter quelques règles de syntaxe :\n",
    "            1. Le nom de la variable ne peut être composé que de lettres majuscules, minuscules, de chiffres et du\n",
    "            symbole underscore.\n",
    "            2. Le nom de la variable ne peut pas commencer par un chiffre.\n",
    "            3. Le langage Python est sensible à la casse, AGE est différent de age ou aGe"
   ]
  },
  {
   "cell_type": "code",
   "execution_count": 2,
   "metadata": {},
   "outputs": [
    {
     "name": "stdout",
     "output_type": "stream",
     "text": [
      "20 25 45\n"
     ]
    }
   ],
   "source": [
    "mon_age=20\n",
    "Mon_age=25\n",
    "somme=mon_age+Mon_age\n",
    "print(mon_age,Mon_age,somme)"
   ]
  },
  {
   "cell_type": "code",
   "execution_count": null,
   "metadata": {},
   "outputs": [],
   "source": []
  }
 ],
 "metadata": {
  "celltoolbar": "Éditer les Méta-Données",
  "kernelspec": {
   "display_name": "Python 3",
   "language": "python",
   "name": "python3"
  },
  "language_info": {
   "codemirror_mode": {
    "name": "ipython",
    "version": 3
   },
   "file_extension": ".py",
   "mimetype": "text/x-python",
   "name": "python",
   "nbconvert_exporter": "python",
   "pygments_lexer": "ipython3",
   "version": "3.7.1"
  }
 },
 "nbformat": 4,
 "nbformat_minor": 2
}
