{
 "cells": [
  {
   "cell_type": "markdown",
   "metadata": {},
   "source": [
    "# Sujet Zéro N°2 - l'algorithme"
   ]
  },
  {
   "cell_type": "code",
   "execution_count": 4,
   "metadata": {},
   "outputs": [
    {
     "name": "stdout",
     "output_type": "stream",
     "text": [
      "1.125\n",
      "1.6875\n",
      "1.265625\n",
      "1.8984375\n",
      "1.423828125\n",
      "1.06787109375\n",
      "1.601806640625\n",
      "1.20135498046875\n",
      "1.802032470703125\n",
      "1.3515243530273438\n",
      "1.0136432647705078\n",
      "1.5204648971557617\n",
      "1.1403486728668213\n"
     ]
    }
   ],
   "source": [
    "f=3/2\n",
    "n=1\n",
    "while f!=1 and n<14:\n",
    "    n=n+1\n",
    "    f=f*3/2\n",
    "    if f>=2:\n",
    "        f=f*1/2\n",
    "    print(f)"
   ]
  },
  {
   "cell_type": "code",
   "execution_count": null,
   "metadata": {},
   "outputs": [],
   "source": []
  }
 ],
 "metadata": {
  "kernelspec": {
   "display_name": "Python 3",
   "language": "python",
   "name": "python3"
  },
  "language_info": {
   "codemirror_mode": {
    "name": "ipython",
    "version": 3
   },
   "file_extension": ".py",
   "mimetype": "text/x-python",
   "name": "python",
   "nbconvert_exporter": "python",
   "pygments_lexer": "ipython3",
   "version": "3.7.4"
  }
 },
 "nbformat": 4,
 "nbformat_minor": 2
}
