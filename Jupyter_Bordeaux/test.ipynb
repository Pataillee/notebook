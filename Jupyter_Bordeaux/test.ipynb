{
  "nbformat": 4,
  "nbformat_minor": 0,
  "metadata": {
    "colab": {
      "name": "Untitled0.ipynb",
      "version": "0.3.2",
      "provenance": []
    },
    "kernelspec": {
      "name": "python3",
      "display_name": "Python 3"
    }
  },
  "cells": [
    {
      "cell_type": "markdown",
      "metadata": {
        "id": "K0CWJ4d1qgrB",
        "colab_type": "text"
      },
      "source": [
        "texte en italique"
      ]
    },
    {
      "cell_type": "markdown",
      "metadata": {
        "id": "YMG58ijkqLPR",
        "colab_type": "text"
      },
      "source": [
        "saisir au clavier le contenu d'une variable"
      ]
    },
    {
      "cell_type": "code",
      "metadata": {
        "id": "qUm4LhQwqvhH",
        "colab_type": "code",
        "colab": {
          "base_uri": "https://localhost:8080/",
          "height": 54
        },
        "outputId": "c4ea9574-2a01-4eb7-8b06-9ac68f834619"
      },
      "source": [
        "prenom = input(\"Entrez votre prénom : \")\n",
        "print(\"Bonjour,\", prenom)"
      ],
      "execution_count": 8,
      "outputs": [
        {
          "output_type": "stream",
          "text": [
            "Entrez votre prénom : rémy\n",
            "Bonjour, rémy\n"
          ],
          "name": "stdout"
        }
      ]
    },
    {
      "cell_type": "markdown",
      "metadata": {
        "id": "M4Kks6WdsI6R",
        "colab_type": "text"
      },
      "source": [
        "Un programme a modifier ci-dessous\n"
      ]
    },
    {
      "cell_type": "code",
      "metadata": {
        "id": "gT0o49J7sQBt",
        "colab_type": "code",
        "colab": {}
      },
      "source": [
        ""
      ],
      "execution_count": 0,
      "outputs": []
    }
  ]
}
