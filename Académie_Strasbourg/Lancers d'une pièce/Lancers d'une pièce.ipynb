{
 "cells": [
  {
   "cell_type": "markdown",
   "metadata": {},
   "source": [
    "## *Préambule*"
   ]
  },
  {
   "cell_type": "markdown",
   "metadata": {},
   "source": [
    "Cette activité est une transcription sous Notebook Jupyter d'un document utilisé dans le cadre de __formations pour l'utilisation du langage de programmation Python dans l'enseignement des Mathématiques au Lycée__, dans le cadre des nouveaux programmes (en vigueur à partir de 2019/2020 et 2020/2021).\n",
    "\n",
    "Une version papier de l'activité, ainsi qu'un corrigé complet comprenant des compléments pour l'enseignant se trouvent sur https://franckchevrier.wixsite.com/formation-python.\n",
    "\n",
    "Copyright 2019 - Franck CHEVRIER"
   ]
  },
  {
   "cell_type": "markdown",
   "metadata": {},
   "source": [
    "# Lancers d'une pièce"
   ]
  },
  {
   "cell_type": "markdown",
   "metadata": {},
   "source": [
    "<span style=\"color: #7C39C9\">*On propose à un joueur de lancer trois fois d’affilée une pièce de monnaie équilibrée.*</span>\n",
    "\n",
    "\n",
    "<span style=\"color: #7C39C9\">*La règle du jeu est la suivante :*</span>\n",
    "* <span style=\"color: #7C39C9\">*s’il obtient trois piles, il gagne la partie ;*</span>\n",
    "* <span style=\"color: #7C39C9\">*s’il obtient deux piles exactement, la partie est nulle ;*</span>\n",
    "* <span style=\"color: #7C39C9\">*dans tous les autres cas, il perd la partie.*</span>\n",
    "*</span>\n",
    "\n",
    "![Pile ou Face](img/pièces.png)\n"
   ]
  },
  {
   "cell_type": "markdown",
   "metadata": {},
   "source": [
    "__1. Ecrire une fonction Python piece qui simule le lancer d’une pièce de monnaie, et renvoie 1 (ou True) si le résultat est pile et 0 (ou False) sinon. __\n",
    "\n",
    "<span style=\"color: #888888\">Aide Python : A l’aide de l’appel au module « from random import* », on peut utiliser l’instruction randint(a,b) qui renvoie aléatoirement un entier compris entre a et b.</span>\n"
   ]
  },
  {
   "cell_type": "code",
   "execution_count": null,
   "metadata": {},
   "outputs": [],
   "source": [
    "from random import*\n",
    "# Ecrire la fonction\n",
    "\n"
   ]
  },
  {
   "cell_type": "code",
   "execution_count": null,
   "metadata": {},
   "outputs": [],
   "source": [
    "# Tester la fonction\n"
   ]
  },
  {
   "cell_type": "markdown",
   "metadata": {},
   "source": [
    "__2. Ecrire une fonction Python coeff_dir qui : __\n",
    "* __reçoit en arguments les coordonnées de deux points $A(x_A;y_A )$ et $B(x_B;y_B )$ (avec $x_A≠x_B$) ;__\n",
    "* __renvoie le coefficient directeur de la droite $(AB)$.__\n"
   ]
  },
  {
   "cell_type": "code",
   "execution_count": null,
   "metadata": {},
   "outputs": [],
   "source": [
    "# Ecrire la fonction\n"
   ]
  },
  {
   "cell_type": "code",
   "execution_count": null,
   "metadata": {},
   "outputs": [],
   "source": [
    "# Tester la fonction\n"
   ]
  },
  {
   "cell_type": "markdown",
   "metadata": {},
   "source": [
    "__ 2. Effectuer les instructions suivantes, et expliquer leur lien avec la situation étudiée.__\n"
   ]
  },
  {
   "cell_type": "code",
   "execution_count": null,
   "metadata": {},
   "outputs": [],
   "source": [
    "lancers=[ piece() for k in range(3) ]\n",
    "lancers"
   ]
  },
  {
   "cell_type": "code",
   "execution_count": null,
   "metadata": {},
   "outputs": [],
   "source": [
    "sum(lancers)"
   ]
  },
  {
   "cell_type": "markdown",
   "metadata": {},
   "source": [
    "__ 4. On considère la fonction Python jeux ci-dessous, qui reçoit un entier $N$ en argument et qui renvoie une liste de trois valeurs.__\n",
    "\n",
    "__Indiquer ce que représentent, dans le cadre de l’énoncé, cet entier $N$ et les trois valeurs de la liste renvoyée.__\n",
    "\n"
   ]
  },
  {
   "cell_type": "code",
   "execution_count": null,
   "metadata": {},
   "outputs": [],
   "source": [
    "def jeux(N):\n",
    "\n",
    "    res=[0,0,0]\n",
    "    \n",
    "    for i in range(N):\n",
    "        \n",
    "        lancers=[piece() for k in range(3)]\n",
    "        nb_piles=sum(lancers)\n",
    "        \n",
    "        if nb_piles==3:\n",
    "            res[0]=res[0]+1\n",
    "        elif nb_piles==2:\n",
    "            res[1]=res[1]+1\n",
    "        else:\n",
    "            res[2]=res[2]+1\n",
    "    \n",
    "    return res"
   ]
  },
  {
   "cell_type": "code",
   "execution_count": null,
   "metadata": {},
   "outputs": [],
   "source": [
    "# Tester la fonction\n"
   ]
  },
  {
   "cell_type": "markdown",
   "metadata": {},
   "source": [
    "<span style=\"color: #7C39C9\">*L’organisateur du jeu demande une mise de 1€ pour participer au jeu. *</span>\n",
    "<span style=\"color: #7C39C9\">*Si le joueur gagne, il reçoit 4€, et si la partie est nulle, il est remboursé de sa mise.*</span>\n"
   ]
  },
  {
   "cell_type": "markdown",
   "metadata": {},
   "source": [
    "__ 4. Ecrire une fonction gain_algebrique qui reçoit en argument une liste $L$ (qui sera fournie par la fonction jeux) et qui renvoie le gain algébrique du joueur (le gain algébrique du joueur s’obtient en soustrayant la mise du joueur à la somme qu’il reçoit). __\n"
   ]
  },
  {
   "cell_type": "code",
   "execution_count": null,
   "metadata": {},
   "outputs": [],
   "source": [
    "# Ecrire la fonction\n"
   ]
  },
  {
   "cell_type": "code",
   "execution_count": null,
   "metadata": {},
   "outputs": [],
   "source": [
    "# Tester la fonction\n"
   ]
  },
  {
   "cell_type": "markdown",
   "metadata": {},
   "source": [
    "__ 5. Dans cette question, on suppose que $L$ est une liste générée par la fonction jeux.__\n",
    "__Que représente le résultat de la saisie ci-dessous?__\n"
   ]
  },
  {
   "cell_type": "code",
   "execution_count": null,
   "metadata": {},
   "outputs": [],
   "source": [
    "L=jeux(10) #on peut adapter la valeur de N\n",
    "sum(L)\n"
   ]
  },
  {
   "cell_type": "markdown",
   "metadata": {},
   "source": [
    "__ Tester la fonction gm ci-dessous. Que représente le résultat de la saisie proposée ?__"
   ]
  },
  {
   "cell_type": "code",
   "execution_count": null,
   "metadata": {},
   "outputs": [],
   "source": [
    "def gm(L):\n",
    "    return gain_algebrique(L)/sum(L)\n",
    "\n",
    "gm(L)"
   ]
  },
  {
   "cell_type": "markdown",
   "metadata": {},
   "source": [
    "__ Tester avec $10$, $100$ puis $10000$ parties. Le jeu semble-t-il favorable au joueur ?__\n",
    "\n"
   ]
  },
  {
   "cell_type": "code",
   "execution_count": null,
   "metadata": {},
   "outputs": [],
   "source": [
    "# Effectuer les saisies nécessaires\n"
   ]
  },
  {
   "cell_type": "markdown",
   "metadata": {},
   "source": [
    "__6. Calculer les probabilités que le joueur gagne, que la partie soit nulle, puis que le joueur perde.__\n",
    "\n",
    "__Stocker ces $3$ valeurs, dans cet ordre, dans une liste nommée Proba.__\n",
    "\n",
    "__Calculer la valeur gm(Proba) et indiquer la valeur obtenue.__ \n"
   ]
  },
  {
   "cell_type": "code",
   "execution_count": null,
   "metadata": {},
   "outputs": [],
   "source": [
    "Proba=[,,] #à compléter\n",
    "gm(Proba)"
   ]
  },
  {
   "cell_type": "markdown",
   "metadata": {},
   "source": [
    "__ 7. Ecrire une fonction Python ecart qui reçoit en argument la liste $L$ de répartition des résultats d’une série de parties et renvoie l’écart entre le gain moyen de ces parties et la valeur gm(Proba). __"
   ]
  },
  {
   "cell_type": "code",
   "execution_count": null,
   "metadata": {},
   "outputs": [],
   "source": [
    "# Ecrire la fonction\n"
   ]
  },
  {
   "cell_type": "markdown",
   "metadata": {},
   "source": [
    "__ Tester pour des listes de longueur $100$,$10000$,$100000$,$1000000$… Que constate-t-on ?__"
   ]
  },
  {
   "cell_type": "code",
   "execution_count": null,
   "metadata": {},
   "outputs": [],
   "source": [
    "# Effectuer les saisies nécessaires\n"
   ]
  },
  {
   "cell_type": "markdown",
   "metadata": {},
   "source": [
    "*Copyright 2019 - Franck CHEVRIER*"
   ]
  }
 ],
 "metadata": {
  "celltoolbar": "Raw Cell Format",
  "kernelspec": {
   "display_name": "Python 3",
   "language": "python",
   "name": "python3"
  },
  "language_info": {
   "codemirror_mode": {
    "name": "ipython",
    "version": 3
   },
   "file_extension": ".py",
   "mimetype": "text/x-python",
   "name": "python",
   "nbconvert_exporter": "python",
   "pygments_lexer": "ipython3",
   "version": "3.6.4"
  }
 },
 "nbformat": 4,
 "nbformat_minor": 2
}
