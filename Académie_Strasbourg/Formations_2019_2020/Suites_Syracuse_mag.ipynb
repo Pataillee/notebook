{
 "cells": [
  {
   "cell_type": "markdown",
   "metadata": {},
   "source": [
    "## *Préambule*"
   ]
  },
  {
   "cell_type": "markdown",
   "metadata": {},
   "source": [
    "Cette activité est une transcription sous Notebook Jupyter d'un document utilisé dans le cadre de __formations pour l'utilisation du langage de programmation Python dans l'enseignement des Mathématiques au Lycée__, dans le cadre des nouveaux programmes (en vigueur à partir de 2019/2020 et 2020/2021).\n",
    "\n",
    "Une version papier de l'activité, ainsi qu'un corrigé complet comprenant des compléments pour l'enseignant se trouvent sur https://franckchevrier.wixsite.com/formation-python.\n",
    "\n",
    "Copyright 2019 - Franck CHEVRIER"
   ]
  },
  {
   "cell_type": "markdown",
   "metadata": {},
   "source": [
    "# Suites de Syracuse"
   ]
  },
  {
   "cell_type": "markdown",
   "metadata": {},
   "source": [
    "<span style=\"color: #7C39C9\">*En langage Python, l’écriture __a%b__ permet de renvoyer le reste de la division euclidienne de __a__ par __b__ (où __a__ et __b__ sont des nombres entiers positifs, __b__ non nul).*</span>\n"
   ]
  },
  {
   "cell_type": "markdown",
   "metadata": {},
   "source": [
    "__0.\tQuestion préliminaire :__\n",
    "Si __a__ est une variable contenant un nombre entier positif :\n",
    "* Quelles sont les valeurs que peut renvoyer la saisie ci-dessous ?\t\n"
   ]
  },
  {
   "cell_type": "code",
   "execution_count": null,
   "metadata": {},
   "outputs": [],
   "source": [
    "a=18 #Modifier cette valeur pour les tests\n",
    "a%2"
   ]
  },
  {
   "cell_type": "markdown",
   "metadata": {},
   "source": [
    "* A quelles propriétés du nombre __a__ correspondent chacune de ces valeurs ?"
   ]
  },
  {
   "cell_type": "markdown",
   "metadata": {},
   "source": [
    "<span style=\"color: #7C39C9\">*__Définition de la suite de Syracuse associée à un nombre a :__*</span>\n",
    "\n",
    "<span style=\"color: #7C39C9\">A partir d’un entier non nul __$a$__, on peut construire une suite de nombres de la façon suivante :</span>\n",
    "\n",
    "<span style=\"color: #7C39C9\">\n",
    "$u_0=a$ \n",
    "<br/> \n",
    "<span style=\"color: #7C39C9\">\n",
    "$u_{n+1} = \n",
    "\\begin{Bmatrix}\n",
    "   \\frac{u_n}{2} & \\hbox{ si $u_n$ est pair}  \\\\\n",
    "   3u_n+1 & \\hbox{ si $u_n$ est impair}  \n",
    "\\end{Bmatrix}\n",
    "$\n",
    "\n",
    "<span style=\"color: #7C39C9\">(chaque terme de la suite est obtenu en divisant le précédent par 2 si celui-ci est pair, et en le multipliant par 3 et en ajoutant 1 s’il est impair)</span>"
   ]
  },
  {
   "cell_type": "markdown",
   "metadata": {},
   "source": [
    "__1.\tCalculer, à la main, les 6 premiers termes de la suite de Syracuse associée au nombre 17.__"
   ]
  },
  {
   "cell_type": "markdown",
   "metadata": {},
   "source": [
    "__2. Ecrire une fonction Python suiv_Syracuse(p) :__\n",
    "\n",
    "* __qui reçoit en argument un terme p d’une suite de Syracuse ;__\n",
    "\n",
    "* __qui renvoie le terme suivant de la suite.__\n",
    "\n",
    "NOTE : Pour s’assurer que la valeur renvoyée soit de type int, on pourra écrire la division sous la forme // qui renvoie le quotient entier d’une division."
   ]
  },
  {
   "cell_type": "code",
   "execution_count": null,
   "metadata": {},
   "outputs": [],
   "source": [
    "# Ecrire la fonction\n"
   ]
  },
  {
   "cell_type": "code",
   "execution_count": null,
   "metadata": {
    "scrolled": false
   },
   "outputs": [],
   "source": [
    "# Tester ici la fonction\n"
   ]
  },
  {
   "cell_type": "markdown",
   "metadata": {},
   "source": [
    "__3. On considère la fonction Python Deb_Syracuse(a) suivante :__"
   ]
  },
  {
   "cell_type": "code",
   "execution_count": null,
   "metadata": {},
   "outputs": [],
   "source": [
    "def Deb_Syracuse(a) :\n",
    "    L=[a]\n",
    "    for k in range(3) :\n",
    "        n=len(L)\n",
    "        suiv=suiv_Syracuse(L[n-1])\n",
    "        L.append(suiv)\n",
    "    return L"
   ]
  },
  {
   "cell_type": "markdown",
   "metadata": {},
   "source": [
    "\n",
    "* __Compléter le tableau suivant avec les valeurs prises successivement par les variables, si on appelle la fonction Deb_Syracuse(a) avec a=7.__\n",
    "\n",
    "|   k      |         suiv    |    L       |\n",
    "| :----:   |: -------------: | :--------: |\n",
    "|   /      |                 |     [ 7 ]  |  \n",
    "|   0      |                 |            |\n",
    "|   1      |                 |            |\n",
    "|   2      |                 |            |\n",
    "|          |                 |            |\n",
    "|          |                 |            |"
   ]
  },
  {
   "cell_type": "markdown",
   "metadata": {},
   "source": [
    "* __Vérifier que la liste renvoyée par l’instruction >>> Deb_Syracuse(7) est cohérente avec votre tableau.__"
   ]
  },
  {
   "cell_type": "code",
   "execution_count": null,
   "metadata": {},
   "outputs": [],
   "source": [
    "Deb_Syracuse(7)"
   ]
  },
  {
   "cell_type": "markdown",
   "metadata": {},
   "source": [
    "* __Quelle est l’utilité de cette fonction Deb_Syracuse(a) ?__"
   ]
  },
  {
   "cell_type": "markdown",
   "metadata": {},
   "source": [
    "__4. Ecrire une fonction Python Tab_Syracuse(a,N) :__\n",
    "* __qui reçoit en arguments le 1er terme a d’une suite de Syracuse et un nombre entier n≥1 ;__\n",
    "* __qui renvoie la liste des N premiers termes de cette suite de Syracuse.__\n"
   ]
  },
  {
   "cell_type": "code",
   "execution_count": null,
   "metadata": {},
   "outputs": [],
   "source": [
    "# Ecrire la fonction\n"
   ]
  },
  {
   "cell_type": "code",
   "execution_count": null,
   "metadata": {},
   "outputs": [],
   "source": [
    "# Tester la fonction\n"
   ]
  },
  {
   "cell_type": "markdown",
   "metadata": {},
   "source": [
    "<span style=\"color: #7C39C9\">*__Notion de vol associé à un nombre $a$ :__*</span>\n",
    "\n",
    "<span style=\"color: #7C39C9\">On appelle vol correspondant à $a$, la liste des valeurs obtenues par la suite de Syracuse à partir de $a$, et s’arrêtant au premier terme valant 1. (*)</span>\n",
    "\n",
    "<span style=\"color: #7C39C9\">On appelle durée du vol le nombre de termes de la liste, et on appelle altitude maximale la plus grande valeur de cette liste.</span>\n",
    "\n"
   ]
  },
  {
   "cell_type": "markdown",
   "metadata": {},
   "source": [
    "__5. Compléter, à la main, la suite de nombres obtenus à la question 1) pour obtenir le vol correspondant au nombre 17.\n",
    "Quelle est la longueur de ce vol ? Quelle est l’altitude maximale de ce vol ?__\n"
   ]
  },
  {
   "cell_type": "markdown",
   "metadata": {},
   "source": [
    "__6. Ecrire une fonction Python Vol_Syracuse(a) :__\n",
    "* __qui reçoit en argument le 1er terme a d’une suite de Syracuse__\n",
    "* __qui renvoie la liste correspondant au vol obtenu avec a.__\n"
   ]
  },
  {
   "cell_type": "code",
   "execution_count": null,
   "metadata": {},
   "outputs": [],
   "source": [
    "# Ecrire la fonction\n"
   ]
  },
  {
   "cell_type": "code",
   "execution_count": null,
   "metadata": {},
   "outputs": [],
   "source": [
    "# Tester la fonction \n"
   ]
  },
  {
   "cell_type": "markdown",
   "metadata": {},
   "source": [
    "__7. Expliquer, pour chacune des instructions, ce que représente le résultat obtenu.__"
   ]
  },
  {
   "cell_type": "code",
   "execution_count": null,
   "metadata": {},
   "outputs": [],
   "source": [
    "v=Vol_Syracuse(137)\n",
    "v"
   ]
  },
  {
   "cell_type": "code",
   "execution_count": null,
   "metadata": {},
   "outputs": [],
   "source": [
    "max(v)"
   ]
  },
  {
   "cell_type": "code",
   "execution_count": null,
   "metadata": {},
   "outputs": [],
   "source": [
    "len(v)"
   ]
  },
  {
   "cell_type": "markdown",
   "metadata": {},
   "source": [
    "__8. Prolongements possibles :__\n",
    "* __Ecrire une fonction Python qui renvoie la plus petite valeur a dont le vol atteint une altitude au moins égale à 150.\n",
    "Adapter la fonction pour qu’elle renvoie la plus petite valeur a dont le vol atteint une altitude au moins égale à M, où M est passé en argument.__\n",
    "* __Ecrire une fonction Python qui renvoie la plus petite valeur a dont la durée de vol est supérieure à 40.\n",
    "Adapter la fonction pour qu’elle renvoie la plus petite valeur a dont la durée de vol est supérieure à T, où T est passé en argument.__\n",
    "* __Ecrire une fonction Python qui renvoie la valeur de a inférieure à 100000 pour laquelle le vol est le plus long.\n",
    "Adapter la fonction pour qu’elle renvoie la valeur de a inférieure à N pour laquelle la durée de vol est maximale, où N est passé en argument.__\n",
    "* __Ecrire une fonction Python qui renvoie la valeur de a inférieure à 100000 pour laquelle l’altitude atteinte est maximale.\n",
    "Adapter la fonction pour qu’elle renvoie la valeur de a inférieure à N pour laquelle l’altitude atteinte est maximale, où N est passé en argument.__\n"
   ]
  },
  {
   "cell_type": "code",
   "execution_count": null,
   "metadata": {},
   "outputs": [],
   "source": [
    "# Ecrire les fonctions\n"
   ]
  },
  {
   "cell_type": "code",
   "execution_count": null,
   "metadata": {},
   "outputs": [],
   "source": [
    "# Tester les fonctions\n"
   ]
  },
  {
   "cell_type": "markdown",
   "metadata": {},
   "source": [
    "<span style=\"color: #7C39C9\">(*) NOTE: La conjecture de Syracuse stipule que quelle que soit la valeur $a$ choisie, la suite de Syracuse finira par « atterrir », c'est-à-dire qu’elle atteindra au bout d’un nombre fini d’itérations la valeur 1.  A ce jour, cette conjecture n’a jamais été démontrée, mais elle a été vérifiée pour tous les entiers inférieurs à $2^{62}≈4,6×10^{18}$… avec des ordinateurs évidemment.</span>\n",
    "\n",
    "![Collatz Lothar](https://raw.githubusercontent.com/gitmagistere/notebook/master/Académie_Strasbourg/Formations_2019_2020/img/Collatz.png)\n",
    "\n",
    "<center> Lothar Collatz (1910 – 1990) est à l’origine de cette conjecture </center>\n",
    "\n"
   ]
  },
  {
   "cell_type": "markdown",
   "metadata": {},
   "source": [
    "*Copyright 2019 - Franck CHEVRIER*"
   ]
  }
 ],
 "metadata": {
  "celltoolbar": "Raw Cell Format",
  "kernelspec": {
   "display_name": "Python 3",
   "language": "python",
   "name": "python3"
  },
  "language_info": {
   "codemirror_mode": {
    "name": "ipython",
    "version": 3
   },
   "file_extension": ".py",
   "mimetype": "text/x-python",
   "name": "python",
   "nbconvert_exporter": "python",
   "pygments_lexer": "ipython3",
   "version": "3.6.4"
  }
 },
 "nbformat": 4,
 "nbformat_minor": 2
}
