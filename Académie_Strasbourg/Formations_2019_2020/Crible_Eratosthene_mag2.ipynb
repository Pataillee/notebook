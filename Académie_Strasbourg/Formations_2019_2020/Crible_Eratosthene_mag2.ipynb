{
 "cells": [
  {
   "cell_type": "markdown",
   "metadata": {},
   "source": [
    "## *Préambule*"
   ]
  },
  {
   "cell_type": "markdown",
   "metadata": {},
   "source": [
    "Cette activité est une transcription sous Notebook Jupyter d'un document utilisé dans le cadre de __formations pour l'utilisation du langage de programmation Python dans l'enseignement des Mathématiques au Lycée__, dans le cadre des nouveaux programmes (en vigueur à partir de 2019/2020 et 2020/2021).\n",
    "\n",
    "Une version papier de l'activité, ainsi qu'un corrigé complet comprenant des compléments pour l'enseignant se trouvent sur https://franckchevrier.wixsite.com/formation-python.\n",
    "\n",
    "Copyright 2019 - Franck CHEVRIER"
   ]
  },
  {
   "cell_type": "markdown",
   "metadata": {},
   "source": [
    "# Crible d'Eratosthène"
   ]
  },
  {
   "cell_type": "markdown",
   "metadata": {},
   "source": [
    "### I. Description de la méthode et mise en œuvre"
   ]
  },
  {
   "cell_type": "markdown",
   "metadata": {},
   "source": [
    "<span style=\"color: #229922\">On dispose ci-dessous d’une grille donnant les 101 premiers nombres entiers. </span>\n",
    "\n",
    "![Grille](https://raw.githubusercontent.com/gitmagistere/notebook/master/Académie_Strasbourg/Formations_2019_2020/img/Grille_Eratosthene.png)\n",
    "\n",
    "<span style=\"color: #229922\">Le but est de barrer tous les nombres de la grille qui ne sont pas premiers.</span>\n",
    "\n",
    "<span style=\"color: #229922\">On considère l’algorithme ci-dessous.</span>\n",
    "\n",
    "► On dispose de la liste des nombres entiers de 0 à 100.\n",
    "\n",
    "► Barrer 0 et 1.\n",
    "\n",
    "► Parcourir dans l’ordre tous les entiers k de 2 à 100 :\n",
    "\t\n",
    "     Si le nombre k n’est pas barré :\n",
    "\t\t\n",
    "        Entourer k \n",
    "\t\t\n",
    "        Barrer tous les multiples stricts de k dans la liste\n",
    "        \n",
    "► Renvoyer la liste des nombres qui ont été entourés.\n",
    "\n"
   ]
  },
  {
   "cell_type": "markdown",
   "metadata": {},
   "source": [
    "__1. Appliquer cet algorithme à la grille ci-contre.__\n"
   ]
  },
  {
   "cell_type": "markdown",
   "metadata": {},
   "source": [
    "__2. Justifier brièvement pourquoi, après exécution de l’algorithme :__\n",
    "* __les nombres barrés ne sont pas premiers ;__\n",
    "* __les nombres entourés sont premiers.__\n",
    "\n",
    "__Cette méthode de détermination des premiers nombres premiers est appelée Crible d’Eratosthène.__\n"
   ]
  },
  {
   "cell_type": "markdown",
   "metadata": {},
   "source": [
    "### II. Implémentation en langage Python"
   ]
  },
  {
   "cell_type": "markdown",
   "metadata": {},
   "source": [
    "__1. Ecrire une instruction Python qui génère une liste Python $L$ de longueur $101$ telle que $L[k]=k$, c'est-à-dire $L=[0,1,2,3,…,100]$.__"
   ]
  },
  {
   "cell_type": "code",
   "execution_count": null,
   "metadata": {},
   "outputs": [],
   "source": [
    "# Effectuer la saisie nécessaire\n"
   ]
  },
  {
   "cell_type": "markdown",
   "metadata": {},
   "source": [
    "Le but est de remplacer tous les nombres non premiers d’une telle liste par des $0$ à l’aide du crible d’Eratosthene.\n",
    "($0$ correspondra ainsi à un nombre barré de la grille vue dans la partie I)\n"
   ]
  },
  {
   "cell_type": "markdown",
   "metadata": {},
   "source": [
    "__2. Tester le script Python ci-dessous pour différentes valeurs entières non nulles de $k$.__\n"
   ]
  },
  {
   "cell_type": "code",
   "execution_count": null,
   "metadata": {},
   "outputs": [],
   "source": [
    "k=7 # Modifier cette valeur pour les tests\n",
    "\n",
    "for j in range(2*k,101,k):\n",
    "    print(j)"
   ]
  },
  {
   "cell_type": "markdown",
   "metadata": {},
   "source": [
    "__3.  A l’aide des questions précédentes, écrire une fonction Python Crible_Eratosthene qui applique l’algorithme de la partie I.__\n",
    "\n",
    "__La fonction renverra la liste $L=[0,0,2,3,0,…,0]$, telle que \n",
    "$L[k] = \n",
    "\\begin{Bmatrix}\n",
    "   0 & \\hbox{ si $k$ n'est pas premier }  \\\\\n",
    "   k & \\hbox{ si $k$ est premier}  \n",
    "\\end{Bmatrix}\n",
    "$__\n"
   ]
  },
  {
   "cell_type": "code",
   "execution_count": null,
   "metadata": {},
   "outputs": [],
   "source": [
    "# Ecrire la fonction\n"
   ]
  },
  {
   "cell_type": "markdown",
   "metadata": {},
   "source": [
    "__Modifier la fonction Crible_Eratosthene pour qu’elle renvoie la liste des nombres premiers $[2,3,5,…,97]$.__"
   ]
  },
  {
   "cell_type": "code",
   "execution_count": null,
   "metadata": {},
   "outputs": [],
   "source": [
    "# Modifier la fonction et tester ici\n"
   ]
  },
  {
   "cell_type": "markdown",
   "metadata": {},
   "source": [
    "__Modifier la fonction Crible_Eratosthene pour qu’elle reçoive en argument un entier $N$ et renvoie la liste de tous les nombres premiers inférieurs à $N$.__"
   ]
  },
  {
   "cell_type": "code",
   "execution_count": null,
   "metadata": {},
   "outputs": [],
   "source": [
    "# Modifier la fonction et tester ici\n"
   ]
  },
  {
   "cell_type": "markdown",
   "metadata": {},
   "source": [
    "__4. Calculer la fréquence des nombres premiers parmi les nombres inférieurs à $N$ pour $N=100$, $N=10000$ puis $N=1000000.$__\n",
    "\n",
    "__Dans chaque cas, comparer cette fréquence avec $\\frac{1}{ln(N)}$, où $ln$ est la fonction logarithme népérien.__\n"
   ]
  },
  {
   "cell_type": "code",
   "execution_count": null,
   "metadata": {},
   "outputs": [],
   "source": [
    "# Effectuer les saisies nécessaires\n"
   ]
  },
  {
   "cell_type": "markdown",
   "metadata": {},
   "source": [
    "Remarque : Il a été prouvé que, pour de grandes valeurs de $n$, la fréquence d’apparitions des nombres premiers entre $1$ et $n$, est proche de $\\frac{1}{ln(N)}$ où $ln$ est la fonction logarithme népérien (Théorème des nombres premiers). Cette fréquence étant décroissante, on dit qu’il y a raréfaction des nombres premiers.\n",
    "\n",
    "Pour aller plus loin : http://python.jpvweb.com/python/mesrecettespython/doku.php?id=liste_des_nombres_premiers"
   ]
  },
  {
   "cell_type": "markdown",
   "metadata": {},
   "source": [
    "*Copyright 2019 - Franck CHEVRIER*"
   ]
  }
 ],
 "metadata": {
  "celltoolbar": "Raw Cell Format",
  "kernelspec": {
   "display_name": "Python 3",
   "language": "python",
   "name": "python3"
  },
  "language_info": {
   "codemirror_mode": {
    "name": "ipython",
    "version": 3
   },
   "file_extension": ".py",
   "mimetype": "text/x-python",
   "name": "python",
   "nbconvert_exporter": "python",
   "pygments_lexer": "ipython3",
   "version": "3.6.4"
  }
 },
 "nbformat": 4,
 "nbformat_minor": 2
}
