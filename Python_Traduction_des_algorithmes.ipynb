{
  "nbformat": 4,
  "nbformat_minor": 0,
  "metadata": {
    "colab": {
      "name": "Python_Traduction_des_algorithmes.ipynb",
      "version": "0.3.2",
      "provenance": [],
      "include_colab_link": true
    },
    "kernelspec": {
      "display_name": "Python 3",
      "language": "python",
      "name": "python3"
    }
  },
  "cells": [
    {
      "cell_type": "markdown",
      "metadata": {
        "id": "view-in-github",
        "colab_type": "text"
      },
      "source": [
        "<a href=\"https://colab.research.google.com/github/gitmagistere/notebook/blob/master/Python_Traduction_des_algorithmes.ipynb\" target=\"_parent\"><img src=\"https://colab.research.google.com/assets/colab-badge.svg\" alt=\"Open In Colab\"/></a>"
      ]
    },
    {
      "cell_type": "markdown",
      "metadata": {
        "id": "pvDvQKeV1mVT",
        "colab_type": "text"
      },
      "source": [
        "# Correction du TP \"traduction des algorithmes en langage Python"
      ]
    },
    {
      "cell_type": "code",
      "metadata": {
        "id": "gRdnQfgl1mVV",
        "colab_type": "code",
        "colab": {}
      },
      "source": [
        "print (\"Entrez l’abscisse de A : \")\n",
        "x_A = float(input())\n",
        "print (\"Entrez l’ordonnée de A : \")\n",
        "y_A = float(input())\n",
        "print (\"Entrez l’abscisse de B : \")\n",
        "x_B = float(input())\n",
        "print (\"Entrez l’ordonnée de B : \")\n",
        "y_B = float(input())\n",
        "\n",
        "# calcul des coordonnées du milieu\n",
        "from math import sqrt\n",
        "L = sqrt((x_B - x_A)**2 + (y_B - y_A)**2) \n",
        "\n",
        "# affichage du résultat\n",
        "print (\"Le segment AB a pour longueur :\", L)"
      ],
      "execution_count": 0,
      "outputs": []
    },
    {
      "cell_type": "markdown",
      "metadata": {
        "id": "UXhxQXLY1mVT",
        "colab_type": "text"
      },
      "source": [
        "## Calcul de la longueur d'un segment"
      ]
    },
    {
      "cell_type": "code",
      "metadata": {
        "id": "GzGSzZM6_IZE",
        "colab_type": "code",
        "colab": {}
      },
      "source": [
        "# Taper votre code ici :"
      ],
      "execution_count": 0,
      "outputs": []
    },
    {
      "cell_type": "markdown",
      "metadata": {
        "id": "LGwxl8BW1mVX",
        "colab_type": "text"
      },
      "source": [
        "## Test si une année est bissextile"
      ]
    },
    {
      "cell_type": "code",
      "metadata": {
        "id": "cZ7LcwSf1mVY",
        "colab_type": "code",
        "colab": {}
      },
      "source": [
        "# Entrée des données\n",
        "print (\"Année ?\")\n",
        "annee = int(input())\n",
        "# Traitement conditionnel\n",
        "if annee%4 == 0 :\n",
        "    print (annee, \"est bissextile\")\n",
        "else :\n",
        "    print (annee, \"n'est pas bissextile\")"
      ],
      "execution_count": 0,
      "outputs": []
    },
    {
      "cell_type": "markdown",
      "metadata": {
        "id": "QzV0c7rs1mVa",
        "colab_type": "text"
      },
      "source": [
        "## Calcul du PGCD de 2 nombres entiers"
      ]
    },
    {
      "cell_type": "code",
      "metadata": {
        "id": "GvvOAoV01mVb",
        "colab_type": "code",
        "colab": {}
      },
      "source": [
        "# Entrée des données\n",
        "print (\"Entrez le nombre a : \")\n",
        "a = int(input())\n",
        "print (\"Entrez le nombre b : \")\n",
        "b = int(input())\n",
        "# Traitement répétitif\n",
        "while a != b :\n",
        "    if a > b :\n",
        "        a = a - b\n",
        "    else :\n",
        "        b = b - a\n",
        "# affichage du résultat\n",
        "print (a, \"est le PGCD\")"
      ],
      "execution_count": 0,
      "outputs": []
    },
    {
      "cell_type": "markdown",
      "metadata": {
        "id": "q7gUvJ811mVd",
        "colab_type": "text"
      },
      "source": [
        "## Affichage des puissances de 2 dans un intevalle"
      ]
    },
    {
      "cell_type": "code",
      "metadata": {
        "id": "4O5gVLZV1mVd",
        "colab_type": "code",
        "colab": {}
      },
      "source": [
        "# Entrée des données\n",
        "print (\"Entrez la limite n : \")\n",
        "n = int(input())\n",
        "\n",
        "# traitement et affichage du résultat\n",
        "for i in range(n+1):\n",
        "    print(\"2 puissance\", i, \"=\", 2**i)"
      ],
      "execution_count": 0,
      "outputs": []
    },
    {
      "cell_type": "markdown",
      "metadata": {
        "id": "cZ57MSXp1mVg",
        "colab_type": "text"
      },
      "source": [
        "## Jeu : trouver un nombre entier compris entre 1 et 100"
      ]
    },
    {
      "cell_type": "code",
      "metadata": {
        "id": "51X-NxDT1mVg",
        "colab_type": "code",
        "colab": {}
      },
      "source": [
        "import random\n",
        "nombreATrouver = random.randint(1, 100)\n",
        "nombreChoisi = 0\n",
        "while nombreChoisi != nombreATrouver :\n",
        "    nombreChoisi = int(input())\n",
        "    if nombreChoisi < nombreATrouver :\n",
        "        print(\"Trop petit\")\n",
        "    elif nombreChoisi > nombreATrouver :\n",
        "        print(\"Trop grand\")\n",
        "print(\"Gagné !\")"
      ],
      "execution_count": 0,
      "outputs": []
    },
    {
      "cell_type": "markdown",
      "metadata": {
        "id": "YPMehLhb1mVj",
        "colab_type": "text"
      },
      "source": [
        "## Recherche des nombres premiers dans un intervalle"
      ]
    },
    {
      "cell_type": "code",
      "metadata": {
        "id": "67fQ2g0f1mVj",
        "colab_type": "code",
        "colab": {}
      },
      "source": [
        "# Entrée des données\n",
        "print (\"Entrez le nombre N : \")\n",
        "N = int(input())\n",
        "# Par définition\n",
        "print (\"1 est un nombre premier\")\n",
        "# Traitement répété N-1 fois\n",
        "for i in range(2, N+1):\n",
        "    diviseur = 2\n",
        "    while i % diviseur != 0 and diviseur < i :\n",
        "        diviseur = diviseur + 1\n",
        "    if diviseur == i:\n",
        "        # affichage du résultat\n",
        "        print (i, \"est un nombre premier\")"
      ],
      "execution_count": 0,
      "outputs": []
    }
  ]
}