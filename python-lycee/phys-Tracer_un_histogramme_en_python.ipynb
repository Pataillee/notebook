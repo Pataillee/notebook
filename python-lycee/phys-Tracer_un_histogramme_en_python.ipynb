{
 "cells": [
  {
   "cell_type": "markdown",
   "metadata": {},
   "source": [
    "# un histogramme en python\n",
    "\n",
    "Pour tracer un histogramme en python, il faut d'abord importer la bibliothèque matplotlib.pyplot comme pour les graphiques précédents\n",
    "\n"
   ]
  },
  {
   "cell_type": "code",
   "execution_count": 1,
   "metadata": {},
   "outputs": [],
   "source": [
    "import matplotlib.pyplot as plt"
   ]
  },
  {
   "cell_type": "markdown",
   "metadata": {},
   "source": [
    "\n",
    "L'histogramme est tracé à partir d'une série de données sous forme d'une liste python. Elle peut être écrite à la main ou lue dans un fichier csv. Par exemple, voici un code python qui simule 1000 parties d'un jeu de pile ou face. Pour chaque partie (10 lancers), le nombre de face obtenu est stocké dans la liste val.\n"
   ]
  },
  {
   "cell_type": "code",
   "execution_count": 2,
   "metadata": {},
   "outputs": [],
   "source": [
    "from random import randint\n",
    "val = [ ]\n",
    "for i in range(1000):\n",
    "    total = 0\n",
    "    for j in range(10):\n",
    "        total += randint(0,1)\n",
    "    val.append(total)"
   ]
  },
  {
   "cell_type": "markdown",
   "metadata": {},
   "source": [
    "\n",
    "Les commandes `plt.hist( y )` puis `plt.show( )` sont suffisantes pour obtenir un histogramme mais il y a un certain nombre d'options facultatives pour améliorer ou paramétrer l'affichage.\n"
   ]
  },
  {
   "cell_type": "code",
   "execution_count": 6,
   "metadata": {},
   "outputs": [
    {
     "data": {
      "image/png": "[encoded data removed]",
      "text/plain": [
       "<Figure size 432x288 with 1 Axes>"
      ]
     },
     "metadata": {
      "needs_background": "light"
     },
     "output_type": "display_data"
    }
   ],
   "source": [
    "bins = 10 # force l'utilisation \n",
    "          # de 10 rectangles de largeur égale pour \n",
    "          # tracer l'histogramme\n",
    "facecolor = \"green\" # sélectionne la couleur utilisée \n",
    "                    # pour les rectangles\n",
    "rwidth = 0.95 # trace des rectangle de 95% de \n",
    "              # la largeur de la plage. \n",
    "              # Cela permet de mieux visualiser \n",
    "              # le bord de chaque rectangle.\n",
    "\n",
    "import matplotlib.pyplot as plt\n",
    "plt.hist(val, bins=10, facecolor=\"green\", rwidth=0.95)\n",
    "plt.show( )"
   ]
  },
  {
   "cell_type": "code",
   "execution_count": null,
   "metadata": {},
   "outputs": [],
   "source": []
  }
 ],
 "metadata": {
  "kernelspec": {
   "display_name": "Python 3",
   "language": "python",
   "name": "python3"
  },
  "language_info": {
   "codemirror_mode": {
    "name": "ipython",
    "version": 3
   },
   "file_extension": ".py",
   "mimetype": "text/x-python",
   "name": "python",
   "nbconvert_exporter": "python",
   "pygments_lexer": "ipython3",
   "version": "3.7.3"
  },
  "varInspector": {
   "cols": {
    "lenName": 16,
    "lenType": 16,
    "lenVar": 40
   },
   "kernels_config": {
    "python": {
     "delete_cmd_postfix": "",
     "delete_cmd_prefix": "del ",
     "library": "var_list.py",
     "varRefreshCmd": "print(var_dic_list())"
    },
    "r": {
     "delete_cmd_postfix": ") ",
     "delete_cmd_prefix": "rm(",
     "library": "var_list.r",
     "varRefreshCmd": "cat(var_dic_list()) "
    }
   },
   "types_to_exclude": [
    "module",
    "function",
    "builtin_function_or_method",
    "instance",
    "_Feature"
   ],
   "window_display": false
  }
 },
 "nbformat": 4,
 "nbformat_minor": 2
}
