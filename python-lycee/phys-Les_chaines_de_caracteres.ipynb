{
 "cells": [
  {
   "cell_type": "markdown",
   "metadata": {},
   "source": [
    "# Comment stocker et manipuler des chaînes de caractères ?\n",
    "\n",
    "On délimite une chaîne de caractères avec des guillemets simples `'hello'`, doubles `\"bonjour\"` ou triple guillemets `\"\"\"Hi\"\"\"`\n",
    "\n",
    "On peut faire appel à une lettre d'une chaîne de caractère en utilisant son indice. Comme pour les listes, les indices démarrent à 0."
   ]
  },
  {
   "cell_type": "code",
   "execution_count": 1,
   "metadata": {},
   "outputs": [
    {
     "name": "stdout",
     "output_type": "stream",
     "text": [
      "n\n"
     ]
    }
   ],
   "source": [
    "texte = \"Bonjour\"\n",
    "print( texte[ 2 ] )"
   ]
  },
  {
   "cell_type": "markdown",
   "metadata": {},
   "source": [
    "On peut aussi réaliser la concaténation de deux chaînes de caractères avec l'opérateur +. Essayez les lignes suivantes:"
   ]
  },
  {
   "cell_type": "code",
   "execution_count": 2,
   "metadata": {},
   "outputs": [
    {
     "name": "stdout",
     "output_type": "stream",
     "text": [
      "Bonjour à tous\n"
     ]
    }
   ],
   "source": [
    "a = \"Bonjour \"\n",
    "b = \"à tous\"\n",
    "c = a + b\n",
    "print( c )"
   ]
  },
  {
   "cell_type": "markdown",
   "metadata": {},
   "source": [
    "Les slices fonctionnent aussi sur les chaînes de caractère. \n",
    "\n",
    "Le code suivant affiche `oju`, c'est à dire les lettres d'indice 1, 3 et 5"
   ]
  },
  {
   "cell_type": "code",
   "execution_count": 3,
   "metadata": {},
   "outputs": [
    {
     "name": "stdout",
     "output_type": "stream",
     "text": [
      "oju\n"
     ]
    }
   ],
   "source": [
    "a = \"Bonjour\"\n",
    "b = a[1 : 6 : 2]\n",
    "print(b)"
   ]
  },
  {
   "cell_type": "markdown",
   "metadata": {},
   "source": [
    "# Important\n",
    "\n",
    "**On ne peut pas modifier une lettre par affectation. Une chaîne de caractère est immuable : `texte[5] = \"i\"` renvoie un message d'erreur.**"
   ]
  },
  {
   "cell_type": "markdown",
   "metadata": {},
   "source": [
    "Si l'on veut changer une lettre d'une chaîne de caractère, il faut construire une nouvelle chaîne en utilisant des boucles (que l'on verra plus tard), des slices ou la méthode replace."
   ]
  },
  {
   "cell_type": "code",
   "execution_count": 4,
   "metadata": {},
   "outputs": [
    {
     "name": "stdout",
     "output_type": "stream",
     "text": [
      "Bonjour\n",
      "Bonjour\n"
     ]
    }
   ],
   "source": [
    "a = \"Bonjoir\"\n",
    "b = a[ : 5 : ] + \"u\" + a[6 : : ]\n",
    "print(b)\n",
    "\n",
    "a = \"Bonjoir\"\n",
    "b = a.replace(\"i\", \"u\")\n",
    "print(b)"
   ]
  }
 ],
 "metadata": {
  "kernelspec": {
   "display_name": "Python 3",
   "language": "python",
   "name": "python3"
  },
  "language_info": {
   "codemirror_mode": {
    "name": "ipython",
    "version": 3
   },
   "file_extension": ".py",
   "mimetype": "text/x-python",
   "name": "python",
   "nbconvert_exporter": "python",
   "pygments_lexer": "ipython3",
   "version": "3.6.8"
  }
 },
 "nbformat": 4,
 "nbformat_minor": 2
}
