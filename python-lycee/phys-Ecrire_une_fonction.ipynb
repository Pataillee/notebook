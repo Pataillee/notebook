{
 "cells": [
  {
   "cell_type": "markdown",
   "metadata": {},
   "source": [
    "# Comment écrire et utiliser des fonctions ?\n",
    "\n",
    "Pour écrire une fonction, on a besoin des mots-clés `def` et `return`. Exemple :"
   ]
  },
  {
   "cell_type": "code",
   "execution_count": 1,
   "metadata": {},
   "outputs": [],
   "source": [
    "def parabole(x):\n",
    "    return x ** 2 - 3"
   ]
  },
  {
   "cell_type": "markdown",
   "metadata": {},
   "source": [
    "\n",
    "Ainsi la fonction \"parabole\" est ici la fonction mathématique qui à x associe x2 - 3. La définition de la fonction peut comporter plusieurs lignes. Tout ce qui est dans la fonction devra être indenté. Il faut évaluer la définition de la fonction pour la mettre en mémoire avant de l'utiliser. Si vous ne faites qu'évaluer sa définition, il ne se passera rien car elle n'est alors pas exécutée.\n",
    "\n",
    "\n",
    "Pour l'utiliser, il suffit de taper parabole et un argument entre parenthèses. Cet argument sera affecté à la variable x de la définition de la fonction. Cette fonction renverra alors le résultat. Par exemple:\n"
   ]
  },
  {
   "cell_type": "code",
   "execution_count": 2,
   "metadata": {},
   "outputs": [
    {
     "data": {
      "text/plain": [
       "13"
      ]
     },
     "execution_count": 2,
     "metadata": {},
     "output_type": "execute_result"
    }
   ],
   "source": [
    "parabole(4)"
   ]
  },
  {
   "cell_type": "markdown",
   "metadata": {},
   "source": [
    "On peut récupérer dans une variable ce que renvoie la fonction ( ce qui n'est pas possible si la fonction affiche quelque chose avec un \"print\" au lieu de le renvoyer avec un \"return\" )\n"
   ]
  },
  {
   "cell_type": "code",
   "execution_count": 3,
   "metadata": {},
   "outputs": [
    {
     "name": "stdout",
     "output_type": "stream",
     "text": [
      "6\n"
     ]
    }
   ],
   "source": [
    "a = parabole( 3 )  #Ce que renvoie la fonction parabole est stocké dans la variable a\n",
    "print( a )"
   ]
  },
  {
   "cell_type": "markdown",
   "metadata": {},
   "source": [
    "# Activité à réaliser\n",
    "\n",
    "1. Expliquer ce que fait la fonction suivante."
   ]
  },
  {
   "cell_type": "code",
   "execution_count": 4,
   "metadata": {},
   "outputs": [],
   "source": [
    "def normeVitesse(vx, vy):\n",
    "    return (vx ** 2 + vy ** 2) ** 0.5"
   ]
  },
  {
   "cell_type": "code",
   "execution_count": null,
   "metadata": {},
   "outputs": [],
   "source": []
  }
 ],
 "metadata": {
  "kernelspec": {
   "display_name": "Python 3",
   "language": "python",
   "name": "python3"
  },
  "language_info": {
   "codemirror_mode": {
    "name": "ipython",
    "version": 3
   },
   "file_extension": ".py",
   "mimetype": "text/x-python",
   "name": "python",
   "nbconvert_exporter": "python",
   "pygments_lexer": "ipython3",
   "version": "3.6.8"
  }
 },
 "nbformat": 4,
 "nbformat_minor": 2
}
