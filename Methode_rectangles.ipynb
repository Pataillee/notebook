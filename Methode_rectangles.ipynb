{
 "cells": [
  {
   "cell_type": "markdown",
   "metadata": {},
   "source": [
    "## *Préambule*"
   ]
  },
  {
   "cell_type": "markdown",
   "metadata": {},
   "source": [
    "Cette activité est une transcription sous Notebook Jupyter d'un document utilisé dans le cadre de __formations pour l'utilisation du langage de programmation Python dans l'enseignement des Mathématiques au Lycée__, dans le cadre des nouveaux programmes (en vigueur à partir de 2019/2020 et 2020/2021).\n",
    "\n",
    "Une version papier de l'activité, ainsi qu'un corrigé complet comprenant des compléments pour l'enseignant se trouvent sur https://franckchevrier.wixsite.com/formation-python.\n",
    "\n",
    "Copyright 2019 - Franck CHEVRIER"
   ]
  },
  {
   "cell_type": "markdown",
   "metadata": {},
   "source": [
    "# Approximation d’une intégrale par la méthode des rectangles"
   ]
  },
  {
   "cell_type": "markdown",
   "metadata": {},
   "source": [
    "<span style=\"color: #7C39C9\">*Certaines fonctions n’ont pas de primitives qui peuvent s’écrire à l’aide des fonctions usuelles.*</span> \n",
    "\n",
    "<span style=\"color: #7C39C9\">*C’est par exemple le cas de la fonction f définie sur $\\mathbb{R}$ par $f(x)=e^{-x^2}$.*</span> \n",
    "\n",
    "<span style=\"color: #7C39C9\">*Le but de cette activité est d’obtenir malgré tout des valeurs approchées de l’intégrale\n",
    "$K=\\int_{0}^{1}{e^{-x²}dx}$*.</span> \n"
   ]
  },
  {
   "cell_type": "markdown",
   "metadata": {},
   "source": [
    "### I. Introduction de la méthode"
   ]
  },
  {
   "cell_type": "markdown",
   "metadata": {},
   "source": [
    "__ 1. Placer les points $M_0$  ; $M_1$  ; $M_2$  ; $M_3$  et $M_4$  de la courbe de f d’abscisses respectives $0$ ; $\\frac{1}{4}$ ; $\\frac{2}{4}$; $\\frac{3}{4}$ et $\\frac{4}{4}$.__\n",
    "\n",
    "![Rectangles à compléter](img\\Rectangles.png)\n"
   ]
  },
  {
   "cell_type": "markdown",
   "metadata": {},
   "source": [
    "__ 2. A l’aide de ces points, inscrire $4$ rectangles sous la courbe de $f$, de largeur $\\frac{1}{4}$ et de longueur maximale. __\n"
   ]
  },
  {
   "cell_type": "markdown",
   "metadata": {},
   "source": [
    "__ 3. Ecrire une fonction Python $f$ qui prend $x$ en argument et renvoie l’image de $x$ par $f$. __\n",
    "\n",
    "<span style=\"color: #888888\">*Important : Ne pas utiliser la fonction exp. Utiliser les notations de puissances à partir de la constante e, obtenue avec from math import e.</span> \n"
   ]
  },
  {
   "cell_type": "code",
   "execution_count": null,
   "metadata": {},
   "outputs": [],
   "source": [
    "from math import e\n",
    "# Ecrire la fonction\n",
    "def f(x):\n",
    "    return e**(-x**2)"
   ]
  },
  {
   "cell_type": "code",
   "execution_count": null,
   "metadata": {},
   "outputs": [],
   "source": [
    "# Tester la fonction\n"
   ]
  },
  {
   "cell_type": "markdown",
   "metadata": {},
   "source": [
    "__ Ecrire une fonction Python Aire_rect qui reçoit en argument la largeur $l$ et la longueur $L$ d’un rectangle et renvoie son aire.__\n"
   ]
  },
  {
   "cell_type": "code",
   "execution_count": null,
   "metadata": {},
   "outputs": [],
   "source": [
    "# Ecrire la fonction\n"
   ]
  },
  {
   "cell_type": "code",
   "execution_count": null,
   "metadata": {},
   "outputs": [],
   "source": [
    "# Tester la fonction\n"
   ]
  },
  {
   "cell_type": "markdown",
   "metadata": {},
   "source": [
    "__A l’aide de ces fonctions, calculer la somme des aires des $4$ rectangles précédents, et en déduire un minorant de $K$. __"
   ]
  },
  {
   "cell_type": "code",
   "execution_count": null,
   "metadata": {},
   "outputs": [],
   "source": [
    "# Effectuer les saisies nécessaires\n"
   ]
  },
  {
   "cell_type": "markdown",
   "metadata": {},
   "source": [
    "### II. Automatisation de la construction et du calcul "
   ]
  },
  {
   "cell_type": "markdown",
   "metadata": {},
   "source": [
    "__ 1. La fonction ci-dessous trace la courbe représentative de f sur l’intervalle [0;1] et construit les 4 rectangles sous la courbe de f. \n",
    "Tester cette fonction.__"
   ]
  },
  {
   "cell_type": "code",
   "execution_count": null,
   "metadata": {},
   "outputs": [],
   "source": [
    "import matplotlib.pyplot as plt\n",
    "import matplotlib.patches as ptc\n",
    "import numpy as np\n",
    "\n",
    "def Methode_rectangle():\n",
    "    \n",
    "    # tracé de la courbe de f\n",
    "    prec=0.05\n",
    "    abs_fonc = np.arange(0,1+prec,prec)\n",
    "    ord_fonc = f(abs_fonc)\n",
    "    plt.plot(abs_fonc,ord_fonc,color='green')\n",
    "    \n",
    "    ax = plt.gca()\n",
    "    \n",
    "    # tracé des rectangles\n",
    "    l=1/4\n",
    "    for k in range(4):\n",
    "        x=k*1/4\n",
    "        L=f(x+1/4)\n",
    "        #Rectangle défini par le point en bas à gauche,\n",
    "        #sa largeur l et sa longueur L\n",
    "        rect=ptc.Rectangle( (x,0) , l, L, fill=False)\n",
    "        ax.add_patch(rect)  \n",
    "\n",
    "    # reglage des bornes des axes du repere\n",
    "    plt.axis([0,1,0,1]) \n",
    "    # affichage    \n",
    "    plt.show() \n",
    "    \n",
    "    # (Ces fonctionnalités sont désactivées dans la version Notebook)\n",
    "    # attente d'une action de clic sur la fenetre puis fermeture\n",
    "    # plt.waitforbuttonpress() \n",
    "    # plt.close() \n",
    "\n",
    "    return None\n",
    "\n",
    "Methode_rectangle()"
   ]
  },
  {
   "cell_type": "markdown",
   "metadata": {},
   "source": [
    "__ 2. Prévoir les valeurs successives prises par les variables x, l et L dans la boucle en complétant ce tableau :__\n",
    "\n",
    "\n",
    "|   $k$      |   0 |   1  |   2  |   3  |\n",
    "| :-------:  |:--: | :--: | :--: | :--: |\n",
    "|   $x$      |     |      |      |      |\n",
    "|   $l$      |     |      |      |      |\n",
    "|   $L$      |     |      |      |      |\n"
   ]
  },
  {
   "cell_type": "markdown",
   "metadata": {},
   "source": [
    "__ Compléter la fonction précédente pour qu’elle renvoie Aire_inf qui est la somme des aires de ces rectangles. __\n",
    "\n",
    "\n",
    "<span style=\"color: #888888\">*Aides :*</span>\n",
    "<span style=\"color: #888888\">* On pourra ajouter un compteur qui s’incrémente à chaque étape de la boucle, en utilisant la fonction Aire_rect précédemment écrite.*</span> \n",
    "<span style=\"color: #888888\">* On pourra éventuellement utiliser l’instruction *plt.text(0,-0.1,’Aire=’+str(Aire_inf))* pour afficher cette aire sur le graphique.*</span> \n",
    "\n",
    "__ Tester et vérifier qu’on retrouve le résultat de la question I.3.__"
   ]
  },
  {
   "cell_type": "code",
   "execution_count": null,
   "metadata": {},
   "outputs": [],
   "source": [
    "# Tester la fonction modifiée\n"
   ]
  },
  {
   "cell_type": "markdown",
   "metadata": {},
   "source": [
    "__ 3. Modifier la fonction pour qu’elle reçoive en argument le nombre $n$ de rectangles souhaités, et adapter l’affichage et le calcul. Tester pour $n=10$ puis pour $n=100$.__\n"
   ]
  },
  {
   "cell_type": "code",
   "execution_count": null,
   "metadata": {},
   "outputs": [],
   "source": [
    "#Effectuer les tests\n"
   ]
  },
  {
   "cell_type": "markdown",
   "metadata": {},
   "source": [
    "### III. Recherche de la précision de la méthode"
   ]
  },
  {
   "cell_type": "markdown",
   "metadata": {},
   "source": [
    "__ 1. On se place dans le cas général où on trace n rectangles de même largeur sous la courbe de f sur l’intervalle [0;1], et on note s_n la somme de leurs aires. __\n",
    "\n",
    "![Figure Rectangle sous courbe](img/Rectangles_inf.png)\n",
    "\n",
    "__ Justifier que\n",
    "$ s_n=\\frac{1}{n} \\left ( f(\\frac{1}{n})+f(\\frac{2}{n})+f(\\frac{3}{n})+⋯+f(\\frac{n}{n}) \\right ) =\\frac{1}{n} \\sum_{k=0}^{n-1} \\ f \\left ( \\frac{k+1}{n} \\right ) \\ $ __\n",
    "\n"
   ]
  },
  {
   "cell_type": "markdown",
   "metadata": {},
   "source": [
    "__ 2. On considère de la même façon $S_n$ la somme des aires de $n$ rectangles de même largeur construits au-dessus de la courbe de $f$ sur l’intervalle $[0;1]$. __\n",
    "\n",
    "![Figure Rectangle au dessus de courbe](img/Rectangles_sup.png)\n",
    "\n",
    "__ Donner une expression de $S_n$ similaire à celle de $s_n$. __\n",
    "\n"
   ]
  },
  {
   "cell_type": "markdown",
   "metadata": {},
   "source": [
    "__ 3. Exprimer $S_n-s_n$ en fonction de $n$. __\n",
    "\n",
    "__ En admettant que $s_n \\leqslant \\int_{0}^{1} \\ e^{-x²} dx \\  \\leqslant S_n $, en déduire que :\n",
    "$ 0 \\leqslant ∫_0^1 \\ e^{-x^2} dx \\ -s_n \\leqslant 1/n $ .__\n",
    "\n",
    "__ Quelle valeur de $n$ faut-il choisir pour que $s_n$ soit une valeur approchée de $K$ à $10^{-4}$ près ? __\n",
    "\n",
    "__ Donner une valeur approchée à $10^{-4}$ près de cette intégrale $K$ à l’aide de votre programme. __\n",
    "\n",
    "\n"
   ]
  },
  {
   "cell_type": "code",
   "execution_count": null,
   "metadata": {},
   "outputs": [],
   "source": [
    "# Effectuer les saisies nécessaires\n"
   ]
  },
  {
   "cell_type": "markdown",
   "metadata": {},
   "source": [
    "Georg Friedrich Bernhardt Riemann (1826-1866) est à l’origine de cette méthode d’approximation d’intégrales à l’aide de rectangles\n",
    "\n",
    "![Riemann](img/Riemann.png)"
   ]
  },
  {
   "cell_type": "markdown",
   "metadata": {},
   "source": [
    "*Copyright 2019 - Franck CHEVRIER*"
   ]
  }
 ],
 "metadata": {
  "celltoolbar": "Raw Cell Format",
  "kernelspec": {
   "display_name": "Python 3",
   "language": "python",
   "name": "python3"
  },
  "language_info": {
   "codemirror_mode": {
    "name": "ipython",
    "version": 3
   },
   "file_extension": ".py",
   "mimetype": "text/x-python",
   "name": "python",
   "nbconvert_exporter": "python",
   "pygments_lexer": "ipython3",
   "version": "3.6.4"
  }
 },
 "nbformat": 4,
 "nbformat_minor": 2
}
